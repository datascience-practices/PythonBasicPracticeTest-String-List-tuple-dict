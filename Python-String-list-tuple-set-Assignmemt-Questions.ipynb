{
 "cells": [
  {
   "cell_type": "markdown",
   "id": "ef63592c-52a4-4147-be5f-018569ebd59e",
   "metadata": {},
   "source": [
    "#1. Write a program to reverse a string."
   ]
  },
  {
   "cell_type": "code",
   "execution_count": 1,
   "id": "e5ee07fd-fd82-431e-9661-9799de751eca",
   "metadata": {},
   "outputs": [
    {
     "name": "stdout",
     "output_type": "stream",
     "text": [
      "elabU ikateK\n"
     ]
    }
   ],
   "source": [
    "name = \"Ketaki Ubale\"; #declaring name variable as a string.\n",
    "print(name[::-1]);     # print the reverse string."
   ]
  },
  {
   "cell_type": "markdown",
   "id": "46b1defa-569f-43a5-b8e6-ad34f5c77ac8",
   "metadata": {},
   "source": [
    "2. Check if a string is a palindrome.\n"
   ]
  },
  {
   "cell_type": "code",
   "execution_count": 2,
   "id": "c09c7d1a-ac98-479a-acfb-267cbb576e08",
   "metadata": {},
   "outputs": [
    {
     "name": "stdout",
     "output_type": "stream",
     "text": [
      "Reversed string :  MADAM\n",
      "The string is a palindrome.\n"
     ]
    }
   ],
   "source": [
    "#Enter input string \n",
    "name=\"MADAM\" \n",
    " \n",
    "#Declare an empty string variable   \n",
    "revName = \"\" \n",
    " \n",
    "    #Iterate string with for loop \n",
    "for i in name:\n",
    "    revName = i + revName   \n",
    "print(\"Reversed string : \",revName) \n",
    " \n",
    "if(name==revName):    # comparing the string and reverse string\n",
    "    print(\"The string is a palindrome.\") \n",
    "else: \n",
    "    print(\"The string is not a palindrome.\") "
   ]
  },
  {
   "cell_type": "markdown",
   "id": "7376d459-4cf4-448d-b59a-3c883437d123",
   "metadata": {},
   "source": [
    "3.Convert a string to uppercase."
   ]
  },
  {
   "cell_type": "code",
   "execution_count": 3,
   "id": "ac7859e2-b85d-494c-9281-a8e3a1e24441",
   "metadata": {},
   "outputs": [
    {
     "name": "stdout",
     "output_type": "stream",
     "text": [
      "SHRAVAN\n"
     ]
    }
   ],
   "source": [
    "name = \"Shravan\"  # Declaring name variable as a string\n",
    "result = name.upper(); # convert the string into uppercase\n",
    "print(result) # print the result."
   ]
  },
  {
   "cell_type": "markdown",
   "id": "dd891fb3-3943-4681-be02-9fa09ec4fc8d",
   "metadata": {},
   "source": [
    "4. Convert a string to lowercase."
   ]
  },
  {
   "cell_type": "code",
   "execution_count": 4,
   "id": "9854d866-1dee-44be-98e7-44997b5711f9",
   "metadata": {},
   "outputs": [
    {
     "name": "stdout",
     "output_type": "stream",
     "text": [
      "kundan\n"
     ]
    }
   ],
   "source": [
    "name1 = \"KUNDAN\" # Declaring name variable as a string.\n",
    "result1 = name1.lower();  # converting string from uppercase to lowercase\n",
    "print(result1)            # print the result."
   ]
  },
  {
   "cell_type": "markdown",
   "id": "65d6f899-cc59-449d-afe4-4b412d86950f",
   "metadata": {},
   "source": [
    "5. Count the number of vowels in a string."
   ]
  },
  {
   "cell_type": "code",
   "execution_count": 6,
   "id": "18d318ee-cd62-4bf7-af98-2b69272a99f2",
   "metadata": {},
   "outputs": [
    {
     "name": "stdin",
     "output_type": "stream",
     "text": [
      "Enter the string : My name is Ketaki Ubale\n"
     ]
    },
    {
     "name": "stdout",
     "output_type": "stream",
     "text": [
      "Total vowels are :9\n"
     ]
    }
   ],
   "source": [
    "String = input('Enter the string :')  #take user input\n",
    "count = 0                             #to check for less conditions\n",
    "\n",
    "String = String.lower()  #keep string in lowercase\n",
    "for i in String:          #iterate string with for loop\n",
    "    if i == 'a' or i == 'e' or i == 'i' or i == 'o' or i == 'u':   #check the condition for each character from the string\n",
    "        #if True\n",
    "        count+=1\n",
    "#check if any vowel found\n",
    "if count == 0:\n",
    "    print('No vowels found')\n",
    "else:\n",
    "    print('Total vowels are :' + str(count))\n",
    "        \n",
    "        \n",
    "\n"
   ]
  },
  {
   "cell_type": "markdown",
   "id": "77251c13-cef6-4bea-8a6c-939499fab3e0",
   "metadata": {},
   "source": [
    "6.Count the number of consonants in a string."
   ]
  },
  {
   "cell_type": "code",
   "execution_count": 7,
   "id": "03d06d1b-7a3a-4e92-a8c0-7160bf019d93",
   "metadata": {},
   "outputs": [
    {
     "name": "stdin",
     "output_type": "stream",
     "text": [
      "Enter a string:  My name is Ketaki Ubale.\n"
     ]
    },
    {
     "name": "stdout",
     "output_type": "stream",
     "text": [
      "The number of consonant: 11\n"
     ]
    }
   ],
   "source": [
    "consonants=0\n",
    "\n",
    "# Enter an input string \n",
    "user_input = input(\"Enter a string: \")\n",
    " \n",
    "# convert string in case insensitive\n",
    "string = user_input.lower()\n",
    " \n",
    "for i in range(0,len(string)):  #iterate input string using for loop.\n",
    "    if string[i] not in ('a',\"e\",\"i\",\"o\",\"u\",\" \"):   # check the vovel are not into string\n",
    "        consonants = consonants + 1;                 # consonants add by count \n",
    " \n",
    "print(\"The number of consonant:\",consonants);   # print the number of consonants\n",
    "    "
   ]
  },
  {
   "cell_type": "markdown",
   "id": "9e27cf2a-5186-4ed9-bb2d-1604e4cd9581",
   "metadata": {},
   "source": [
    "7. Remove all whitespaces from a string."
   ]
  },
  {
   "cell_type": "code",
   "execution_count": 60,
   "id": "72c4c754-a1ed-4b50-ad3d-9e71fbe5f297",
   "metadata": {},
   "outputs": [
    {
     "name": "stdin",
     "output_type": "stream",
     "text": [
      "Enter a string Ketaki  Nikhil  Ubale.\n"
     ]
    },
    {
     "name": "stdout",
     "output_type": "stream",
     "text": [
      "KetakiNikhilUbale.\n"
     ]
    }
   ],
   "source": [
    "name = input(\"Enter a string\") #taking input as a string\n",
    "name2 = name.replace(\" \", \"\")  # replace from space to no space using replace method\n",
    "print(name2)                   # print the result \n"
   ]
  },
  {
   "cell_type": "markdown",
   "id": "848c8cb7-e4e7-454a-83ff-74a85c357d7b",
   "metadata": {},
   "source": [
    "8. Find the length of a string without using the `len()` function.\n"
   ]
  },
  {
   "cell_type": "code",
   "execution_count": 63,
   "id": "d0a05233-1c31-42d5-8c79-2f379c2b91cd",
   "metadata": {},
   "outputs": [
    {
     "name": "stdin",
     "output_type": "stream",
     "text": [
      "Enter a string Shravan Ubale\n"
     ]
    },
    {
     "name": "stdout",
     "output_type": "stream",
     "text": [
      "Length of the Entered string is:  13\n"
     ]
    }
   ],
   "source": [
    "name = input(\"Enter a string\") # taking user input as a string\n",
    "count = 0                     # decalre a count variable as 0\n",
    "for i in name:                # iterate the string using for loop\n",
    "    count += 1;              # count the number of character from the string\n",
    "print(\"Length of the Entered string is: \", count) # display the length of string\n",
    "    "
   ]
  },
  {
   "cell_type": "markdown",
   "id": "28fc546a-1b73-4aec-8bcd-e8b324e33389",
   "metadata": {},
   "source": [
    "9. Check if a string contains a specific word."
   ]
  },
  {
   "cell_type": "code",
   "execution_count": 69,
   "id": "967b9d0c-9d7e-4a37-a085-14c6fe3c61d8",
   "metadata": {},
   "outputs": [
    {
     "name": "stdout",
     "output_type": "stream",
     "text": [
      "Yes its having'world!'\n"
     ]
    }
   ],
   "source": [
    "string = \"Hello world!\"  #declaring string  variable as a  string\n",
    "if \"world!\" in string:    # checking the world! word havning in the string or not using if else condition\n",
    "     print(\"Yes its having'world!'\")    # true condition if having 'world!' in the string.\n",
    "else:\n",
    "     print(\"Not having 'world!'\")       # false condition if not having 'world!' in the string."
   ]
  },
  {
   "cell_type": "markdown",
   "id": "266393aa-0a3e-4372-9399-605910305a5a",
   "metadata": {},
   "source": [
    "10. Replace a word in a string with another word."
   ]
  },
  {
   "cell_type": "code",
   "execution_count": 71,
   "id": "eb693bd6-f054-40ae-bf31-a6dc789626f8",
   "metadata": {},
   "outputs": [
    {
     "name": "stdout",
     "output_type": "stream",
     "text": [
      "My name is Shravan\n"
     ]
    }
   ],
   "source": [
    "name = \"My name is Ketaki\" #declared name variable as a string\n",
    "rname = name.replace(\"Ketaki\",\"Shravan\") # Replace the word using replace function\n",
    "print(rname) # print the result\n"
   ]
  },
  {
   "cell_type": "markdown",
   "id": "5b1975a0-9bee-45c5-98ba-414412f98af2",
   "metadata": {},
   "source": [
    "11. Count the occurrences of a word in a string."
   ]
  },
  {
   "cell_type": "code",
   "execution_count": 1,
   "id": "8bf12250-fe8b-44d0-920b-9f88a3268e25",
   "metadata": {},
   "outputs": [
    {
     "name": "stdout",
     "output_type": "stream",
     "text": [
      "{'My': 3, 'name': 3, 'is': 3, 'ketaki,': 1, 'Shravan,': 1, 'Kundan': 1}\n"
     ]
    }
   ],
   "source": [
    "def word_count(str): # create a function with passing parameter as a str.\n",
    "    counts = dict()  #created a dictionary for counts\n",
    "    words = str.split() #make seperate word from the string\n",
    "\n",
    "    for word in words: #iterate string str in word\n",
    "        if word in counts:   #check the word in string \n",
    "            counts[word] += 1  #true then add the count\n",
    "        else:\n",
    "            counts[word] = 1   #false then display 1\n",
    "\n",
    "    return counts # function return\n",
    "\n",
    "print( word_count('My name is ketaki, My name is Shravan, My name is Kundan' )) #print the count given string"
   ]
  },
  {
   "cell_type": "markdown",
   "id": "4a8c9e53-458c-4b47-a78f-206282eb85d9",
   "metadata": {},
   "source": [
    "12. Find the first occurrence of a word in a string."
   ]
  },
  {
   "cell_type": "code",
   "execution_count": 14,
   "id": "38621824-30ff-4e3f-a286-5e0d9bd78504",
   "metadata": {},
   "outputs": [
    {
     "name": "stdout",
     "output_type": "stream",
     "text": [
      "6\n"
     ]
    }
   ],
   "source": [
    "name = \"Hello World!\" #decalre name variable as a string\n",
    "result2 = name.find('World') #using find method got the first occurance \n",
    "print(result2)              #display result"
   ]
  },
  {
   "cell_type": "markdown",
   "id": "b3fdff66-eba3-46bc-b7b8-fb8ba7ad22d3",
   "metadata": {},
   "source": [
    "13. Find the last occurrence of a word in a string."
   ]
  },
  {
   "cell_type": "code",
   "execution_count": 17,
   "id": "a3a0e1fe-fdc8-4b7d-9b33-6b488538e125",
   "metadata": {},
   "outputs": [
    {
     "name": "stdout",
     "output_type": "stream",
     "text": [
      "13\n"
     ]
    }
   ],
   "source": [
    "message = \"Hello, welcome to my world.\"  #decalre name variable as a string\n",
    "\n",
    "x = message.rfind(\"e\")   #using rfind method got the last occurance \n",
    "\n",
    "print(x)  #display the result "
   ]
  },
  {
   "cell_type": "markdown",
   "id": "be32526c-347d-41e6-8b0a-b54bad2811db",
   "metadata": {},
   "source": [
    "14. Split a string into a list of words."
   ]
  },
  {
   "cell_type": "code",
   "execution_count": 21,
   "id": "ebb2ba53-4e15-4905-a851-35d37194e573",
   "metadata": {},
   "outputs": [
    {
     "name": "stdout",
     "output_type": "stream",
     "text": [
      "['The', 'atmosphere', 'provides', 'us', 'with', 'oxygen', 'for', 'breathing.']\n"
     ]
    }
   ],
   "source": [
    "string = \"The atmosphere provides us with oxygen for breathing.\" # decalring a variable as a string\n",
    "result = string.split()                                         # using split method convered the string into list of word\n",
    "print(result)                                                   #display the result"
   ]
  },
  {
   "cell_type": "markdown",
   "id": "97ecabd4-3ef3-4a46-af87-627028113e98",
   "metadata": {},
   "source": [
    "15. Join a list of words into a string."
   ]
  },
  {
   "cell_type": "code",
   "execution_count": 33,
   "id": "9c7e7cf6-ec04-45bf-9cbb-cda1735d99bd",
   "metadata": {},
   "outputs": [
    {
     "name": "stdout",
     "output_type": "stream",
     "text": [
      "My State is Maharashtra\n"
     ]
    }
   ],
   "source": [
    "states = [\"My\",\"State\",\"is\",\"Maharashtra\"]  # declaring a states as a list\n",
    "print(\" \".join(states)) # using join function made it to a string\n"
   ]
  },
  {
   "cell_type": "markdown",
   "id": "885e22eb-a28e-4f90-8d25-27a7e607f787",
   "metadata": {},
   "source": [
    "16. Convert a string where words are separated by spaces to one where words\n",
    "are separated by underscores."
   ]
  },
  {
   "cell_type": "code",
   "execution_count": 34,
   "id": "66b0c3ff-7696-405a-ae26-e6908fe42110",
   "metadata": {},
   "outputs": [
    {
     "name": "stdout",
     "output_type": "stream",
     "text": [
      "The_air_around_us_is_a_mixture_of_several_gasses.\n"
     ]
    }
   ],
   "source": [
    "name = \"The air around us is a mixture of several gasses.\" # declaring a name as a string\n",
    "result = name.replace(\" \", \"_\")                            # using replace function space is repaced by the underscore\n",
    "print(result)                                              #result display"
   ]
  },
  {
   "cell_type": "markdown",
   "id": "c9f43eb3-0efc-4c75-a59f-997cc02fb659",
   "metadata": {},
   "source": [
    "17. Check if a string starts with a specific word or phrase."
   ]
  },
  {
   "cell_type": "code",
   "execution_count": 36,
   "id": "f90e46e7-d018-455a-acb5-4036726950e5",
   "metadata": {},
   "outputs": [
    {
     "name": "stdout",
     "output_type": "stream",
     "text": [
      "True\n"
     ]
    }
   ],
   "source": [
    "message = \"Germs are also present in the air.\"  # declaring message as a string\n",
    "\n",
    "x = message.startswith(\"Germs\")                 #using startswith function check the Germs is started word or not.\n",
    "\n",
    "print(x)                                      # print the result"
   ]
  },
  {
   "cell_type": "markdown",
   "id": "07e29dae-b155-48ca-b7dd-b86c05db17dc",
   "metadata": {},
   "source": [
    "18. Check if a string ends with a specific word or phrase."
   ]
  },
  {
   "cell_type": "code",
   "execution_count": 39,
   "id": "94878463-3fd2-4fd1-9071-2ece30952971",
   "metadata": {},
   "outputs": [
    {
     "name": "stdout",
     "output_type": "stream",
     "text": [
      "True\n"
     ]
    }
   ],
   "source": [
    "message = \"Germs are also present in the air.\"  # declaring message as a string\n",
    "\n",
    "x = message.endswith(\"air.\")                 #using startswith function check the Germs is ended word or not.\n",
    "\n",
    "print(x)                                      # print the result"
   ]
  },
  {
   "cell_type": "markdown",
   "id": "58eb5e67-e218-44dd-a203-ebd5959b81ca",
   "metadata": {},
   "source": [
    "19. Convert a string to title case (e.g., \"hello world\" to \"Hello World\")."
   ]
  },
  {
   "cell_type": "code",
   "execution_count": 40,
   "id": "68287ef5-13b9-461a-b370-728435ec5061",
   "metadata": {},
   "outputs": [
    {
     "name": "stdout",
     "output_type": "stream",
     "text": [
      "The Density Of Air Decreases With Height.\n"
     ]
    }
   ],
   "source": [
    "text = \"The density of air decreases with height.\" # declaring text as a string\n",
    "result = text.title()                              # using title method converted string words first letter in upper case\n",
    "print(result)                                      # display result"
   ]
  },
  {
   "cell_type": "markdown",
   "id": "cba1012f-74af-4102-bb4c-b5912509aea0",
   "metadata": {},
   "source": [
    "20. Find the longest word in a string."
   ]
  },
  {
   "cell_type": "code",
   "execution_count": 44,
   "id": "aa6bb948-58ab-432c-86a2-2d1bb6b31621",
   "metadata": {},
   "outputs": [
    {
     "name": "stdout",
     "output_type": "stream",
     "text": [
      "Longest word:  Stratosphere.\n"
     ]
    }
   ],
   "source": [
    "sentence = \"The second layer of the atmospherer is called the Stratosphere.\"# Python program to read a String and Print Longest\n",
    "\n",
    "word = sentence.split()     # Split the string to a list of words\n",
    "\n",
    "longest_word = max(word, key = len)    # Find the longest word\n",
    "\n",
    "print(\"Longest word: \",longest_word)   #print the longest word\n"
   ]
  },
  {
   "cell_type": "markdown",
   "id": "e0aee97c-366e-4a93-a84e-26c10f750bca",
   "metadata": {},
   "source": [
    "21. Find the shortest word in a string."
   ]
  },
  {
   "cell_type": "code",
   "execution_count": 48,
   "id": "c6eaef8e-9a2b-478e-be7d-43f635268b3e",
   "metadata": {},
   "outputs": [
    {
     "name": "stdout",
     "output_type": "stream",
     "text": [
      "Longest word:  of\n"
     ]
    }
   ],
   "source": [
    "sentence = \"The second layer of the atmospherer called the Stratosphere.\"# Python program to read a String and Print Longest\n",
    "\n",
    "word = sentence.split()     # Split the string to a list of words\n",
    "\n",
    "shortest_word = min(word, key = len)    # Find the shortest word\n",
    "\n",
    "print(\"Longest word: \", shortest_word)   #print the shortest word"
   ]
  },
  {
   "cell_type": "markdown",
   "id": "891b8958-beef-474c-9045-b2f67925b7b3",
   "metadata": {},
   "source": [
    "22. Reverse the order of words in a string."
   ]
  },
  {
   "cell_type": "code",
   "execution_count": 53,
   "id": "88fdfe96-0731-4c68-bb44-222c3a04acb4",
   "metadata": {},
   "outputs": [
    {
     "name": "stdout",
     "output_type": "stream",
     "text": [
      "layer this in found is layer ozone The\n"
     ]
    }
   ],
   "source": [
    "string = \"The ozone layer is found in this layer\"   # reversing words in a given string\n",
    "\n",
    "s = string.split()[::-1 ]        # split the string and reverse \n",
    "l = []\n",
    "for i in s:                         \n",
    "  \n",
    "    l.append(i)                       # appending reversed words to l\n",
    "\n",
    "print(\" \".join(l))                    # printing reverse words"
   ]
  },
  {
   "cell_type": "markdown",
   "id": "66170721-c7f0-44aa-9e6e-973d8160c779",
   "metadata": {},
   "source": [
    "23. Check if a string is alphanumeric."
   ]
  },
  {
   "cell_type": "code",
   "execution_count": 57,
   "id": "c9d4d11e-46a7-412a-9f5b-3a1c6947faeb",
   "metadata": {},
   "outputs": [
    {
     "name": "stdout",
     "output_type": "stream",
     "text": [
      "True\n"
     ]
    }
   ],
   "source": [
    "message = \"troposphere123\" \n",
    "\n",
    "x = message.isalnum()  #using isalnum function check the given string is alphanumeric or not\n",
    "\n",
    "print(x)              # print the result as True because string is alphanumeric"
   ]
  },
  {
   "cell_type": "markdown",
   "id": "ccb7c71c-76c8-4dc9-845b-9d7def213173",
   "metadata": {},
   "source": [
    "24. Extract all digits from a string."
   ]
  },
  {
   "cell_type": "code",
   "execution_count": 63,
   "id": "1c62ef11-1f8b-4665-b3ca-5c73ff15ca11",
   "metadata": {},
   "outputs": [
    {
     "name": "stdout",
     "output_type": "stream",
     "text": [
      "The original string : Ketaki123Ubale456\n",
      "The digits string is : 123456\n"
     ]
    }
   ],
   "source": [
    "import re  #The regular expressions need to import\n",
    "\n",
    "test_string = 'Ketaki123Ubale456'\n",
    " \n",
    "print(\"The original string : \" + test_string)   # printing original strings \n",
    " \n",
    "res = re.sub(\"\\D\", \"\", test_string) # using re Extract digit string(using “\\D”, and only digits are extracted from the string.)\n",
    "     \n",
    "print(\"The digits string is : \" + str(res))  # print result"
   ]
  },
  {
   "cell_type": "markdown",
   "id": "3b3d6adf-5180-4846-82d7-cfa66e3db11d",
   "metadata": {},
   "source": [
    "25. Extract all alphabets from a string."
   ]
  },
  {
   "cell_type": "code",
   "execution_count": 67,
   "id": "5bdb60ee-513f-4e31-9654-13944176fd76",
   "metadata": {},
   "outputs": [
    {
     "name": "stdout",
     "output_type": "stream",
     "text": [
      "initial string :  123abcd==#$ABGFD--cjw\n",
      "first string result:    a b c d  A B G F D  c j w \n"
     ]
    }
   ],
   "source": [
    "import re   #The regular expressions need to import\n",
    "\n",
    "ini_string = \"123abcd==#$ABGFD--cjw\"   # initialising string\n",
    " \n",
    "print (\"initial string : \", ini_string)   # printing strings\n",
    " \n",
    "res1 = \" \".join(re.split(\"[^a-zA-Z]*\", ini_string))  # code to find characters in string using re.split \n",
    " \n",
    "print (\"first string result: \", str(res1))     # printing resultant string\n"
   ]
  },
  {
   "cell_type": "markdown",
   "id": "32c66f8a-0bd4-41a9-ae2c-ed96894b1533",
   "metadata": {},
   "source": [
    "26. Count the number of uppercase letters in a string."
   ]
  },
  {
   "cell_type": "code",
   "execution_count": 71,
   "id": "cf19a1a8-0e36-4d1d-ab5e-67250f6e032f",
   "metadata": {},
   "outputs": [
    {
     "name": "stdin",
     "output_type": "stream",
     "text": [
      "Enter string: KETAKI Ubale\n"
     ]
    },
    {
     "name": "stdout",
     "output_type": "stream",
     "text": [
      "The number of uppercase characters is: 7\n"
     ]
    }
   ],
   "source": [
    "string=input(\"Enter string:\")  #user input as a string\n",
    "count=0\n",
    "for i in string:               #iterate string using for loop\n",
    "      if(i.isupper()):         # check the character from string is upper case if yes then count will increment else exit the loop\n",
    "            count=count+1\n",
    "\n",
    "print(\"The number of uppercase characters is:\", count) # print the count of the upper case\n"
   ]
  },
  {
   "cell_type": "markdown",
   "id": "eadfec2d-9dd0-4a28-b840-026cce5f2f77",
   "metadata": {},
   "source": [
    "27. Count the number of lowercase letters in a string."
   ]
  },
  {
   "cell_type": "code",
   "execution_count": 78,
   "id": "c89ba47d-fd02-4fd2-8903-b3e3e5e110c1",
   "metadata": {},
   "outputs": [
    {
     "name": "stdin",
     "output_type": "stream",
     "text": [
      "Enter string: Ketaki\n"
     ]
    },
    {
     "name": "stdout",
     "output_type": "stream",
     "text": [
      "The number of Lower case characters is: 5\n"
     ]
    }
   ],
   "source": [
    "string=input(\"Enter string:\")   #user input as a string\n",
    "count=0\n",
    "for i in string:                  #iterate string using for loop\n",
    "      if(i.islower()):          # check the character from string is lower case if yes then count will increment else exit the loop\n",
    "            count=count+1\n",
    "\n",
    "print(\"The number of Lower case characters is:\", count)  # print the count of the lower case"
   ]
  },
  {
   "cell_type": "markdown",
   "id": "c79e4e57-d83c-4d66-a7df-03e0dcec9cdf",
   "metadata": {},
   "source": [
    "28. Swap the case of each character in a string."
   ]
  },
  {
   "cell_type": "code",
   "execution_count": 81,
   "id": "ee9aabe8-cc51-433d-979b-959b3073505d",
   "metadata": {},
   "outputs": [
    {
     "name": "stdout",
     "output_type": "stream",
     "text": [
      "humans LIVE IN THE TROPOSPHERE\n"
     ]
    }
   ],
   "source": [
    "message = \"HUMANS live in the troposphere\"  \n",
    "\n",
    "swap = message.swapcase();# using swapcase function converts all uppercase characters to lowercase and vice versa of the given string\n",
    "print(swap)               # print the result of swapcase string"
   ]
  },
  {
   "cell_type": "markdown",
   "id": "4e9683c3-080d-4804-a596-01635d93a4ca",
   "metadata": {},
   "source": [
    "29. Remove a specific word from a string."
   ]
  },
  {
   "cell_type": "code",
   "execution_count": 85,
   "id": "31d02f0f-36a7-40d1-ae35-b09216fff932",
   "metadata": {},
   "outputs": [
    {
     "name": "stdout",
     "output_type": "stream",
     "text": [
      "The  gets colder as you climb higher in the troposphere.\n"
     ]
    }
   ],
   "source": [
    "text = \"The Air gets colder as you climb higher in the troposphere.\" \n",
    "result = text.replace(\"Air\",\"\")       #using replace method 'Air' is replaced with the empty string\n",
    "print (result)                          # displayed the result"
   ]
  },
  {
   "cell_type": "markdown",
   "id": "a7b79e64-303e-4b25-afef-519602126488",
   "metadata": {},
   "source": [
    "30. Check if a string is a valid email address."
   ]
  },
  {
   "cell_type": "code",
   "execution_count": 93,
   "id": "5e6e751c-42ae-41fd-aa67-b93a7cd8aac2",
   "metadata": {},
   "outputs": [
    {
     "name": "stdout",
     "output_type": "stream",
     "text": [
      "Valid Email\n"
     ]
    }
   ],
   "source": [
    "import re   # Make a regular expression\n",
    " \n",
    "regex = r'\\b[A-Za-z0-9._%+-]+@[A-Za-z0-9.-]+\\.[A-Z|a-z]{2,7}\\b'  # for validating an Email\n",
    " \n",
    "def check(email):                                      # Define a function for validating an Email\n",
    " \n",
    " \n",
    "    if(re.fullmatch(regex, email)):           # pass the regular expression and the string into the fullmatch() method\n",
    "        print(\"Valid Email\")\n",
    "    else:\n",
    "        print(\"Invalid Email\")\n",
    "check(\"ashubale0089@gmail.com\")        "
   ]
  },
  {
   "cell_type": "markdown",
   "id": "ed031892-4367-42d5-9867-2ddab7e06373",
   "metadata": {},
   "source": [
    "31. Extract the username from an email address string."
   ]
  },
  {
   "cell_type": "code",
   "execution_count": 105,
   "id": "bc1be23e-ff16-4c9e-b089-a3b9105cc6a2",
   "metadata": {},
   "outputs": [
    {
     "name": "stdout",
     "output_type": "stream",
     "text": [
      "ketakiubale\n"
     ]
    }
   ],
   "source": [
    "import re                 #need to import regular expression\n",
    "regexString = r'^([^@]+)@[^@]+$'         \n",
    "emailString = 'ketakiubale@gmail.com'\n",
    "match_object = re.search(regexString, emailString)  #using re.search method \n",
    "if not match_object is None:\n",
    "    print (match_object.group(1))\n",
    "else:\n",
    "    print(\"Did not match\")"
   ]
  },
  {
   "cell_type": "code",
   "execution_count": 2,
   "id": "dd2ea5ed-50cc-43a6-86ea-3c4cf0d7f662",
   "metadata": {},
   "outputs": [
    {
     "name": "stdout",
     "output_type": "stream",
     "text": [
      "ketakiubale123\n",
      "ashubale0089\n"
     ]
    }
   ],
   "source": [
    "import re\n",
    "def userName(email):\n",
    "    return re.findall(\"\\w*\",email)[0]        #using findall function used\n",
    "\n",
    "print(userName(\"ketakiubale123@gmail.com\"))    #print the user name only from the email id\n",
    "print(userName('ashubale0089@gmail.com')) "
   ]
  },
  {
   "cell_type": "code",
   "execution_count": 8,
   "id": "2ee6d5c1-4b9f-498a-bad4-389da5107540",
   "metadata": {},
   "outputs": [
    {
     "name": "stdout",
     "output_type": "stream",
     "text": [
      "ketakiubale20689\n"
     ]
    }
   ],
   "source": [
    "email = \"ketakiubale20689@gmail.com\"\n",
    "name1 = email.split(\"@\")[0]       # using split method string is splited with the @\n",
    "name2 = name1.split(\".\")[0]\n",
    "print(name1)"
   ]
  },
  {
   "cell_type": "markdown",
   "id": "e1119f96-ec24-4f23-b582-b56261827bcb",
   "metadata": {},
   "source": [
    "32. Extract the domain name from an email address string."
   ]
  },
  {
   "cell_type": "code",
   "execution_count": 9,
   "id": "eecc8a3a-5f45-4580-8976-73aefffa9933",
   "metadata": {},
   "outputs": [
    {
     "name": "stdout",
     "output_type": "stream",
     "text": [
      "The original string is : ketakiubale@gmail.com\n",
      "Domain name : gmail.com\n"
     ]
    }
   ],
   "source": [
    "email = 'ketakiubale@gmail.com'  # initializing strings\n",
    " \n",
    "print(\"The original string is : \" + str(email))  # printing original string\n",
    " \n",
    "res = email.split('@')[1]   # using split() to get domain name\n",
    " \n",
    "print(\"Domain name : \" + str(res)) # printing result"
   ]
  },
  {
   "cell_type": "markdown",
   "id": "d361623d-abd6-49f5-a93c-24aa7a00c535",
   "metadata": {},
   "source": [
    "33. Replace multiple spaces in a string with a single space."
   ]
  },
  {
   "cell_type": "code",
   "execution_count": 22,
   "id": "5c817587-ecd5-4dfd-a960-fe65f4da1d67",
   "metadata": {},
   "outputs": [
    {
     "data": {
      "text/plain": [
       "'The atmosphere provides us with oxygen for breathing.'"
      ]
     },
     "execution_count": 22,
     "metadata": {},
     "output_type": "execute_result"
    }
   ],
   "source": [
    " str1 = \"The atmosphere       provides us        with oxygen for         breathing.  \" \n",
    "\n",
    "' '.join(str1.split())  # split() returns a list of all the words in the string. join with the single space with join method\n"
   ]
  },
  {
   "cell_type": "markdown",
   "id": "25a56f75-6be5-4074-b129-71b3b9fc31ff",
   "metadata": {},
   "source": [
    "34. Check if a string is a valid URL."
   ]
  },
  {
   "cell_type": "code",
   "execution_count": 8,
   "id": "57252a7d-98be-4b07-aa1f-292794dcb533",
   "metadata": {
    "jupyter": {
     "source_hidden": true
    },
    "tags": []
   },
   "outputs": [
    {
     "name": "stdout",
     "output_type": "stream",
     "text": [
      "The url is:  ['https://www.tutorialspoint.com/python-program-to-check-for-url-in-a-string']\n"
     ]
    }
   ],
   "source": [
    "import re \n",
    "def checkURL(str):    # to check for url in a string\n",
    "\n",
    "# The regex function can store all the characters including the upper case and the lower case of the alphabets, numbers, special cases and characters etc\n",
    "    regex = 'http[s]?://(?:[a-zA-Z]|[0-9]|[$-_@.&+]|[!*\\(\\), ]|(?:%[0-9a-fA-F][0-9a-fA-F]))+' \n",
    "    URL = re.findall(regex,str) # findall() function used with the conditions which is valid for url in the strings\n",
    "    return URL \n",
    "url = \"https://www.tutorialspoint.com/python-program-to-check-for-url-in-a-string\" \n",
    "print(\"The url is: \", checkURL(url))"
   ]
  },
  {
   "cell_type": "markdown",
   "id": "123ba03d-229b-4de1-a17f-0d4af653f4fa",
   "metadata": {},
   "source": [
    "35. Extract the protocol (http or https) from a URL string."
   ]
  },
  {
   "cell_type": "code",
   "execution_count": 21,
   "id": "8a63125e-f684-405a-8e0c-1f1c10bcb413",
   "metadata": {},
   "outputs": [
    {
     "name": "stdout",
     "output_type": "stream",
     "text": [
      "https\n"
     ]
    }
   ],
   "source": [
    "url = 'https://stackoverflow.com/questions/9626535/get-domain-name-from-url'\n",
    "parts = url.split('//', 1)  # using split method url is seperated by //\n",
    "print (parts[0].split(':')[0]) # display the url 0 index  splited with :"
   ]
  },
  {
   "cell_type": "markdown",
   "id": "4c15e018-8ac0-4d15-bff1-174cf59508e4",
   "metadata": {},
   "source": [
    "36. Find the frequency of each character in a string."
   ]
  },
  {
   "cell_type": "code",
   "execution_count": 25,
   "id": "520ac616-0959-4fe4-9345-c636f8f8ec8d",
   "metadata": {},
   "outputs": [
    {
     "name": "stdout",
     "output_type": "stream",
     "text": [
      "Count of all characters is :\n",
      " {'H': 1, 'e': 1, 'l': 3, 'o': 2, ' ': 1, 'W': 1, 'r': 1, 'd': 1, '!': 1}\n"
     ]
    }
   ],
   "source": [
    "text = \"Hello World!\"   # initializing string\n",
    " \n",
    "freq = {}                 # using naive method to get count\n",
    " \n",
    "for i in text:            # of each element in string\n",
    "    if i in freq:\n",
    "        freq[i] += 1\n",
    "    else:\n",
    "        freq[i] = 1\n",
    "\n",
    "print(\"Count of all characters is :\\n \"   #printing result\n",
    "      + str(freq))"
   ]
  },
  {
   "cell_type": "markdown",
   "id": "0c9fbbdd-329e-4bfe-aab3-6ac93365fa4a",
   "metadata": {},
   "source": [
    "37. Remove all punctuation from a string."
   ]
  },
  {
   "cell_type": "code",
   "execution_count": 33,
   "id": "599eb515-f1e3-4ecf-93fe-5b63caf7913d",
   "metadata": {},
   "outputs": [
    {
     "name": "stdout",
     "output_type": "stream",
     "text": [
      "Hello World Its a beautiful day\n"
     ]
    }
   ],
   "source": [
    "import string\n",
    " \n",
    "def remove_punctuation(input_string):                           #define function with taking one string as a argument\n",
    "    translator = str.maketrans('', '', string.punctuation)      # Make a translator object to replace punctuation with none\n",
    "    return input_string.translate(translator)                    # Use the translator\n",
    "\n",
    "description = \"Hello, World! It's a beautiful day.\"            # created a description variable as a string\n",
    "result=(remove_punctuation(description))                     # function passes argument as a string stored in result variable\n",
    "print(result)                                                # print the result "
   ]
  },
  {
   "cell_type": "markdown",
   "id": "733e482e-7e56-43ef-8988-c121535fb3f7",
   "metadata": {},
   "source": [
    "38. Check if a string contains only digits."
   ]
  },
  {
   "cell_type": "code",
   "execution_count": 36,
   "id": "640816cd-772b-482b-9659-43598d0a7418",
   "metadata": {},
   "outputs": [
    {
     "name": "stdout",
     "output_type": "stream",
     "text": [
      "The string contains only digits!\n"
     ]
    }
   ],
   "source": [
    "number = \"1234\"       # declared a number as a string\n",
    "if number.isdigit():    # check the number contain digit or not using isdigit() method\n",
    "    print(\"The string contains only digits!\")       # true condition \n",
    "else:                                  \n",
    "    print(\"The string does not contain only digits.\")   # false condition"
   ]
  },
  {
   "cell_type": "markdown",
   "id": "c3fecbe3-09d4-488a-84d4-186c4ffb7363",
   "metadata": {},
   "source": [
    "39. Check if a string contains only alphabets."
   ]
  },
  {
   "cell_type": "code",
   "execution_count": 40,
   "id": "92632040-242e-4bc7-b345-2ea43593891f",
   "metadata": {},
   "outputs": [
    {
     "name": "stdout",
     "output_type": "stream",
     "text": [
      "The string contains only alphabates!\n"
     ]
    }
   ],
   "source": [
    "string = \"KetakiUbale\"       # declared a string as a string\n",
    "if string.isalpha():    # check the string contain alphabates or not using isalpha() method\n",
    "    print(\"The string contains only alphabates!\")       # true condition \n",
    "else:                                  \n",
    "    print(\"The string does not contain only alphabates.\")   # false condition"
   ]
  },
  {
   "cell_type": "markdown",
   "id": "8caff5e3-c15e-460c-8b94-85c16f499ac5",
   "metadata": {},
   "source": [
    "40. Convert a string to a list of characters."
   ]
  },
  {
   "cell_type": "code",
   "execution_count": 50,
   "id": "368ab58d-fc67-41cf-98bc-2cad9ef5779a",
   "metadata": {},
   "outputs": [
    {
     "name": "stdout",
     "output_type": "stream",
     "text": [
      "['K', 'e', 't', 'a', 'k', 'i', 'U', 'b', 'a', 'l', 'e']\n"
     ]
    }
   ],
   "source": [
    "name = \"KetakiUbale\"     # decalred name as a string\n",
    "result = list(name)      # string converted into list of character\n",
    "print(result)            # display result"
   ]
  },
  {
   "cell_type": "markdown",
   "id": "1a5bbe7e-74fa-4b22-bc93-0b9cf2b2128f",
   "metadata": {},
   "source": [
    "41. Check if two strings are anagrams."
   ]
  },
  {
   "cell_type": "code",
   "execution_count": 1,
   "id": "43045af6-5902-4e28-a0e7-091f628e71a6",
   "metadata": {},
   "outputs": [
    {
     "name": "stdout",
     "output_type": "stream",
     "text": [
      "The strings are anagrams.\n"
     ]
    }
   ],
   "source": [
    "def checkstring(s1, s2):        # function to check if two strings are anagram or not\n",
    "     \n",
    "    if(sorted(s1)== sorted(s2)):     # the sorted strings are checked\n",
    "        print(\"The strings are anagrams.\")\n",
    "    else:\n",
    "        print(\"The strings aren't anagrams.\")        \n",
    "         \n",
    "# driver code \n",
    "string1 =\"race\"\n",
    "string2 =\"care\"\n",
    "checkstring(string1, string2)"
   ]
  },
  {
   "cell_type": "markdown",
   "id": "030b082b-802a-415f-b788-e73de917f413",
   "metadata": {},
   "source": [
    "42. Encode a string using a Caesar cipher."
   ]
  },
  {
   "cell_type": "code",
   "execution_count": 2,
   "id": "3f13f853-7898-4ff4-a02d-2989e9ce9710",
   "metadata": {},
   "outputs": [
    {
     "name": "stdout",
     "output_type": "stream",
     "text": [
      "Plain text: HELLO WORLD\n",
      "Encrypted text: KHOOR ZRUOG\n"
     ]
    }
   ],
   "source": [
    "shift = 3 # defining the shift count\n",
    "\n",
    "text = \"HELLO WORLD\"\n",
    "\n",
    "encryption = \"\"\n",
    "\n",
    "for c in text:\n",
    "\n",
    "    # check if character is an uppercase letter\n",
    "    if c.isupper():\n",
    "\n",
    "        # find the position in 0-25\n",
    "        c_unicode = ord(c)\n",
    "\n",
    "        c_index = ord(c) - ord(\"A\")\n",
    "\n",
    "        # perform the shift\n",
    "        new_index = (c_index + shift) % 26\n",
    "\n",
    "        # convert to new character\n",
    "        new_unicode = new_index + ord(\"A\")\n",
    "\n",
    "        new_character = chr(new_unicode)\n",
    "\n",
    "        # append to encrypted string\n",
    "        encryption = encryption + new_character\n",
    "\n",
    "    else:\n",
    "\n",
    "        # since character is not uppercase, leave it as it is\n",
    "        encryption += c\n",
    "        \n",
    "print(\"Plain text:\",text)\n",
    "\n",
    "print(\"Encrypted text:\",encryption)"
   ]
  },
  {
   "cell_type": "markdown",
   "id": "bed23a40-01d0-4c67-90f4-342b8138ec63",
   "metadata": {},
   "source": [
    "43. Decode a Caesar cipher encoded string."
   ]
  },
  {
   "cell_type": "code",
   "execution_count": 17,
   "id": "cd7b1cad-6394-43f8-9c15-eb188df57231",
   "metadata": {},
   "outputs": [
    {
     "name": "stdout",
     "output_type": "stream",
     "text": [
      "Plain Text is : HELLO EVERYONE\n",
      "Shift pattern is : 1\n",
      "Cipher Text is : IFMMP FWFSZPOF\n"
     ]
    }
   ],
   "source": [
    "def encrypt_text(plaintext,n):\n",
    "    ans = \"\"\n",
    "    for i in range(len(plaintext)):        # iterate over the given text\n",
    "        ch = plaintext[i]\n",
    "        \n",
    "        if ch==\" \":                         # check if space is there then simply add space\n",
    "            ans+=\" \"\n",
    "       \n",
    "        elif (ch.isupper()):                 # check if a character is uppercase then encrypt it accordingly \n",
    "            ans += chr((ord(ch) + n-65) % 26 + 65)\n",
    "        \n",
    "        else:                                      # check if a character is lowercase then encrypt it accordingly\n",
    "            ans += chr((ord(ch) + n-97) % 26 + 97)\n",
    "    \n",
    "    return ans\n",
    "\n",
    "plaintext = \"HELLO EVERYONE\"\n",
    "n = 1\n",
    "print(\"Plain Text is : \" + plaintext)\n",
    "print(\"Shift pattern is : \" + str(n))\n",
    "print(\"Cipher Text is : \" + encrypt_text(plaintext,n))\n",
    "\n"
   ]
  },
  {
   "cell_type": "markdown",
   "id": "8504be44-fac0-4787-bfbe-270036d5e673",
   "metadata": {},
   "source": [
    "44. Find the most frequent word in a string."
   ]
  },
  {
   "cell_type": "code",
   "execution_count": 8,
   "id": "9e95392d-2271-46ac-87c4-5874dae7ee74",
   "metadata": {},
   "outputs": [
    {
     "name": "stdout",
     "output_type": "stream",
     "text": [
      "The list is : ['ohh best for', 'love ohh', 'ohh best']\n",
      "Word with maximum frequency : ohh\n"
     ]
    }
   ],
   "source": [
    "from collections import defaultdict\n",
    " \n",
    "test_list = [\"ohh best for\", \"love ohh\",\"ohh best\"]  #nitializing Matrix\n",
    " \n",
    "print(\"The list is : \" + str(test_list))                     # printing original list\n",
    "  \n",
    "temp = defaultdict(int)                                    # Using loop + max() + split() + defaultdict()\n",
    " \n",
    "for sub in test_list:                                   # memoizing count\n",
    "    for wrd in sub.split(): \n",
    "        temp[wrd] += 1\n",
    "        \n",
    "res = max(temp, key=temp.get)                  # getting max frequency\n",
    " \n",
    "print(\"Word with maximum frequency : \" + str(res))     # printing result"
   ]
  },
  {
   "cell_type": "markdown",
   "id": "54cabb64-db0d-453a-af21-78b1e3d4db31",
   "metadata": {},
   "source": [
    "45. Find all unique words in a string."
   ]
  },
  {
   "cell_type": "code",
   "execution_count": 13,
   "id": "903af45a-3950-405f-ad5b-a0f1bde7e1ff",
   "metadata": {},
   "outputs": [
    {
     "name": "stdin",
     "output_type": "stream",
     "text": [
      "Please enter a sentence:  Hello World! And Well come again!\n"
     ]
    },
    {
     "name": "stdout",
     "output_type": "stream",
     "text": [
      "The words in that sentence are:  ['Hello', 'World!', 'And', 'Well', 'come', 'again!']\n",
      "Here are the unique words in that sentence:  {'H', 'n', ' ', 'i', 'l', 'W', '!', 'c', 'm', 'g', 'd', 'A', 'a', 'o', 'e', 'r'}\n"
     ]
    }
   ],
   "source": [
    "str1 = input(\"Please enter a sentence: \")  #taking input as a string\n",
    "\n",
    "print(\"The words in that sentence are: \", str1.split())   # splited string \n",
    "\n",
    "unique = set(str1)                        # using set string made the unique\n",
    "print(\"Here are the unique words in that sentence: \",unique)   # print the unique words"
   ]
  },
  {
   "cell_type": "markdown",
   "id": "0bf97ff2-fcc7-4cbf-8f4c-c3573cfaf97b",
   "metadata": {},
   "source": [
    "46. Count the number of syllables in a string."
   ]
  },
  {
   "cell_type": "code",
   "execution_count": 53,
   "id": "81e8ee99-16d0-459e-bd70-e790794d0474",
   "metadata": {},
   "outputs": [
    {
     "name": "stdout",
     "output_type": "stream",
     "text": [
      "4\n"
     ]
    }
   ],
   "source": [
    "lines = [\"BCDOO FG HLKI LMN PQR STVE WXYZE\"]   # decalre line as a string variable\n",
    "count = 0                                    # dclaring count = 0\n",
    "vowels = \"aeiou\"                             # decalring vowels;\n",
    "\n",
    "for line in lines:                           #iterate the lines in line \n",
    "    for word in line.lower().split(\" \"):      # converted in to lower and splited the word from string\n",
    "        for i in range(len(word)):            #finding the lenghth of word\n",
    "            if word[i] in vowels and (i == 0 or word[i-1] not in vowels): # checking if having vowel in word then add the count\n",
    "                count +=1                     # adding count\n",
    "print(count) # display result"
   ]
  },
  {
   "cell_type": "markdown",
   "id": "003869c2-c362-461b-8903-31afc62958ec",
   "metadata": {},
   "source": [
    "47. Check if a string contains any special characters."
   ]
  },
  {
   "cell_type": "code",
   "execution_count": 5,
   "id": "2ca7bd6b-65dc-494f-b613-9021ce51bca6",
   "metadata": {},
   "outputs": [
    {
     "name": "stdout",
     "output_type": "stream",
     "text": [
      "False\n",
      "True\n"
     ]
    }
   ],
   "source": [
    "firstString = \"This string ha$ many $pecial ch@racters\"  # decalring firstString as a string\n",
    "secondString = \"ThisStringHas0SpecialCharacters\"         # declaring secondString as a string \n",
    "print(firstString.isalnum())                             # using isalnum function will check the having special charater into string or not\n",
    "print(secondString.isalnum()) "
   ]
  },
  {
   "cell_type": "markdown",
   "id": "686c15f2-eaa0-4849-8685-c87a9bc93892",
   "metadata": {},
   "source": [
    "48. Remove the nth word from a string."
   ]
  },
  {
   "cell_type": "code",
   "execution_count": 7,
   "id": "e512e270-25b3-4369-b9f4-d10ab4c304fb",
   "metadata": {},
   "outputs": [
    {
     "name": "stdout",
     "output_type": "stream",
     "text": [
      "Hello,  are you\n"
     ]
    }
   ],
   "source": [
    "name = \"Hello, how are you\"; # declaring name as a string\n",
    "name2 = name.replace(\"how\",\"\"); # using replace method how word is replaced by blank ans stored the name2 variable\n",
    "print(name2); # display the name2 as a final result\n"
   ]
  },
  {
   "cell_type": "markdown",
   "id": "9c78e84f-b053-47dc-a79e-709164687f6e",
   "metadata": {},
   "source": [
    "49. Insert a word at the nth position in a string."
   ]
  },
  {
   "cell_type": "code",
   "execution_count": 6,
   "id": "20461df0-fa61-4407-abd7-38150bcde0b4",
   "metadata": {},
   "outputs": [
    {
     "name": "stdout",
     "output_type": "stream",
     "text": [
      "Hello pw and skills\n"
     ]
    }
   ],
   "source": [
    "#first method\n",
    "print(\"Hello {} and {}\" .format(\"pw\",\"skills\")) # by using format method we can insert the word in string\n"
   ]
  },
  {
   "cell_type": "code",
   "execution_count": 11,
   "id": "9723f21c-d0c0-459e-ab67-b0bad48ca222",
   "metadata": {},
   "outputs": [
    {
     "name": "stdout",
     "output_type": "stream",
     "text": [
      "Hello, how are you?and I am fine\n"
     ]
    }
   ],
   "source": [
    "# second method\n",
    "print(\"Hello, how are you?\" + \"and\" + \" I am fine\") # using concatination we can insert the word into the string\n"
   ]
  },
  {
   "cell_type": "code",
   "execution_count": null,
   "id": "236d4b59-0416-4a26-9ec9-bf9bc2409995",
   "metadata": {},
   "outputs": [
    {
     "name": "stdout",
     "output_type": "stream",
     "text": [
      "hi  OK  pwskills\n"
     ]
    }
   ],
   "source": [
    "# third method\n",
    "x = \"hi\"\n",
    "y = \"pwskills\"\n",
    "\n",
    "print(f\"{x}  OK  {y}\")"
   ]
  },
  {
   "cell_type": "markdown",
   "id": "6f3564c2-8615-4646-873e-2bb03dd84f46",
   "metadata": {},
   "source": [
    "50. Convert a CSV string to a list of lists."
   ]
  },
  {
   "cell_type": "code",
   "execution_count": null,
   "id": "c3097190-cecb-4b50-b9df-cc2886e4c86b",
   "metadata": {},
   "outputs": [],
   "source": [
    "import csv\n",
    "  \n",
    "with open('samplefile.csv', 'r') as read_obj:\n",
    "  \n",
    "    csv_reader = csv.reader(read_obj)  # Return a reader object which will iterate over lines in the given csvfile\n",
    "\n",
    "    list_of_csv = list(csv_reader)        # convert string to list                \n",
    "  \n",
    "    print(list_of_csv)"
   ]
  },
  {
   "cell_type": "code",
   "execution_count": 16,
   "id": "e73d6789-1ed4-4f8e-8298-6d951c0dd644",
   "metadata": {},
   "outputs": [
    {
     "name": "stdout",
     "output_type": "stream",
     "text": [
      "        series  episodes        actors\n",
      "0      Friends       200   David Crane\n",
      "1  Money Heist        50        Alvaro\n",
      "2       Marvel        45      Stan Lee\n"
     ]
    }
   ],
   "source": [
    "  \n",
    "import pandas as pd                                # import the pandas\n",
    "  \n",
    "dict = {                                              # Creating Dictionary\n",
    "    'series': ['Friends', 'Money Heist', 'Marvel'],\n",
    "    'episodes': [200, 50, 45],\n",
    "    'actors': [' David Crane', 'Alvaro', 'Stan Lee']\n",
    "}\n",
    "  \n",
    "df = pd.DataFrame(dict)                                 # Creating Dataframe\n",
    "print(df)"
   ]
  },
  {
   "cell_type": "markdown",
   "id": "c88ba2e2-d696-44bb-b031-c6647868da2e",
   "metadata": {},
   "source": [
    "List Based Practice Problem :"
   ]
  },
  {
   "cell_type": "markdown",
   "id": "738f76de-a057-437c-b118-2514de2e3450",
   "metadata": {},
   "source": [
    "List Based Questions\n",
    "1. Create a list with integers from 1 to 10."
   ]
  },
  {
   "cell_type": "code",
   "execution_count": 21,
   "id": "d88a50c1-ba49-479e-8a55-ff2312569e62",
   "metadata": {},
   "outputs": [
    {
     "name": "stdout",
     "output_type": "stream",
     "text": [
      "<class 'list'>\n",
      "[1, 2, 3, 4, 5, 6, 7, 8, 9, 10]\n"
     ]
    }
   ],
   "source": [
    "number = [1,2,3,4,5,6,7,8,9,10] # created a list having 1 to 10 values\n",
    "print(type(number))              # print the type of number variable (as a list)\n",
    "print(number)                    # print the number list"
   ]
  },
  {
   "cell_type": "markdown",
   "id": "956ccbf8-fbe4-44fc-b850-e3556dc3b341",
   "metadata": {},
   "source": [
    "2. Find the length of a list without using the `len()` function."
   ]
  },
  {
   "cell_type": "code",
   "execution_count": 22,
   "id": "32da004c-36a5-4c85-a1bd-ab5b54434c1b",
   "metadata": {},
   "outputs": [
    {
     "name": "stdout",
     "output_type": "stream",
     "text": [
      "13\n"
     ]
    }
   ],
   "source": [
    "num = [1,2,3,4,5,6,7,8,9,10,11,12,13] # created num as a list havaing value 1 to 13\n",
    "num2 = len(num)                       # using len() find the length of num and stored into the num2 variable\n",
    "print(num2)                           # display the result of num2"
   ]
  },
  {
   "cell_type": "markdown",
   "id": "7c32f661-58d9-4ed5-a157-9e67e6d9539e",
   "metadata": {},
   "source": [
    "3. Append an element to the end of a list."
   ]
  },
  {
   "cell_type": "code",
   "execution_count": 33,
   "id": "b121cab7-9b08-42d2-a650-bcf39962f246",
   "metadata": {},
   "outputs": [
    {
     "name": "stdout",
     "output_type": "stream",
     "text": [
      "[1, 2, 3, 4, 5, 6, 7]\n"
     ]
    }
   ],
   "source": [
    "l1 = [1,2,3,4,5,6]  # created a l1 having list\n",
    "l1.append(7)        # using append method add the element at the end of the list\n",
    "print(l1)           #print the result"
   ]
  },
  {
   "cell_type": "markdown",
   "id": "288b7542-028a-4bfe-9eb1-05c0ed2020ef",
   "metadata": {},
   "source": [
    "4. Insert an element at a specific index in a list."
   ]
  },
  {
   "cell_type": "code",
   "execution_count": 34,
   "id": "aa1c7257-babc-4688-bc34-3f7235de38b0",
   "metadata": {},
   "outputs": [
    {
     "name": "stdout",
     "output_type": "stream",
     "text": [
      "['The', 'Sun', 'rises', 'in', 'the', 'east']\n"
     ]
    }
   ],
   "source": [
    "list1 = ['Sun', 'rises', 'in', 'the', 'east'] # declare list1 as a list\n",
    "list1.insert(0, \"The\")                        # using insert method added the 0th index the \"The\" in the list\n",
    "print(list1)                                 # print the result"
   ]
  },
  {
   "cell_type": "markdown",
   "id": "efb17794-ea5e-4a74-8ce3-8eb116eaaeeb",
   "metadata": {},
   "source": [
    " 5. Remove an element from a list by its value."
   ]
  },
  {
   "cell_type": "code",
   "execution_count": 35,
   "id": "8f658986-2379-469b-9286-d936034da0a6",
   "metadata": {},
   "outputs": [
    {
     "name": "stdout",
     "output_type": "stream",
     "text": [
      "['JavaScript', 'Python', 'Java', 'C++']\n",
      "['Python', 'Java', 'C++']\n"
     ]
    }
   ],
   "source": [
    "programming_languages = [\"JavaScript\", \"Python\", \"Java\", \"C++\"]  #original list\n",
    "\n",
    "print(programming_languages)                                     #print original list\n",
    "\n",
    "programming_languages.remove(\"JavaScript\")                        # remove the value 'JavaScript' from the list\n",
    "    \n",
    "print(programming_languages)                                      #print updated list "
   ]
  },
  {
   "cell_type": "markdown",
   "id": "4b0ae33a-35a6-4f39-8171-33df55583b1f",
   "metadata": {},
   "source": [
    "6. Remove an element from a list by its index."
   ]
  },
  {
   "cell_type": "code",
   "execution_count": 39,
   "id": "68638c54-aa3b-4bbe-8eb4-84b032b1828c",
   "metadata": {},
   "outputs": [
    {
     "name": "stdout",
     "output_type": "stream",
     "text": [
      "List after deleting an item at the entered index:\n",
      "['Hello', 'How', 'Welcome']\n"
     ]
    }
   ],
   "source": [
    "listOfname = [\"Hello\", \"HI\", \"How\", \"Welcome\"] # declared listOfname as a list\n",
    "index = 1                                      # give the index of 1\n",
    "\n",
    "listOfname.pop(index)                          # Passing index to the pop function to remove that element of the list at that index\n",
    "\n",
    "print(\"List after deleting an item at the entered index:\") # printing the list after deleting an item at the entered index\n",
    "print(listOfname)"
   ]
  },
  {
   "cell_type": "markdown",
   "id": "86ea6fd8-f4f2-4240-83a6-ace79f7949c6",
   "metadata": {},
   "source": [
    "7. Check if an element exists in a list."
   ]
  },
  {
   "cell_type": "code",
   "execution_count": 41,
   "id": "d3cbe0fd-33f9-4d4e-8d65-257aaded4270",
   "metadata": {},
   "outputs": [
    {
     "name": "stdout",
     "output_type": "stream",
     "text": [
      "yes, it exist\n"
     ]
    }
   ],
   "source": [
    "list2 = [\"Ketaki\",\"Pooja\",\"Nik\",\"Hema\",\"Dhanu\"] # declaring list2 as a list\n",
    "if \"Pooja\" in list2:                            # using in operator check the elememt is exist or not using if else statement\n",
    "    print(\"yes, it exist\")                      # if yes then print the yes\n",
    "else: \n",
    "    print(\"Not exist\")                           # otherwise display not exist\n",
    "    "
   ]
  },
  {
   "cell_type": "markdown",
   "id": "7d58991e-5902-440a-adf1-20a51f4b9f35",
   "metadata": {},
   "source": [
    "8. Find the index of the first occurrence of an element in a list."
   ]
  },
  {
   "cell_type": "code",
   "execution_count": 4,
   "id": "a38f068e-63cf-4134-abce-d69dd361f46e",
   "metadata": {},
   "outputs": [
    {
     "name": "stdout",
     "output_type": "stream",
     "text": [
      "index of Studies is 4\n",
      "index of Code is 0\n"
     ]
    }
   ],
   "source": [
    "list=['Code', 'Favtutor', 'Machine Learning', 'Students', 'Studies', 'java', 'python']\n",
    "print(\"index of Studies is\",list.index('Studies'))\n",
    "print(\"index of Code is\",list.index('Code'))"
   ]
  },
  {
   "cell_type": "markdown",
   "id": "f7ce7155-33ed-46e2-825e-a204f0b57403",
   "metadata": {},
   "source": [
    "9. Count the occurrences of an element in a list."
   ]
  },
  {
   "cell_type": "code",
   "execution_count": 4,
   "id": "c7800842-f103-4af0-a1f7-a4749faa1409",
   "metadata": {},
   "outputs": [
    {
     "name": "stdout",
     "output_type": "stream",
     "text": [
      "8 has occurred 5 times\n"
     ]
    }
   ],
   "source": [
    "def countX(numbers, x):                  # Function To count the number of occurrences\n",
    "    return numbers.count(x)\n",
    " \n",
    "numbers = [8, 6, 8, 10, 8, 20, 10, 8, 8]  #declare number as a list\n",
    "x = 8                                     \n",
    "print('{} has occurred {} times'.format(x, countX(numbers, x)))"
   ]
  },
  {
   "cell_type": "markdown",
   "id": "53108941-31ff-4e19-b40f-d35d33d6fa4f",
   "metadata": {},
   "source": [
    "10. Reverse the order of elements in a list."
   ]
  },
  {
   "cell_type": "code",
   "execution_count": 7,
   "id": "f28f41db-2a85-475b-a375-7dd468488aa8",
   "metadata": {},
   "outputs": [
    {
     "name": "stdout",
     "output_type": "stream",
     "text": [
      "[56, 23, 17, 12, 9, 8, 6, 4, 2]\n"
     ]
    }
   ],
   "source": [
    "list1 = [2,4,6,8,9,12,17,23,56]      #declare list1 as a string\n",
    "revList = list1[::-1]                # using range reverse the list\n",
    "print(revList)                       #display the reversed list"
   ]
  },
  {
   "cell_type": "markdown",
   "id": "5f761780-3fe4-4a67-9562-1048797881d3",
   "metadata": {},
   "source": [
    "11. Sort a list in ascending order."
   ]
  },
  {
   "cell_type": "code",
   "execution_count": 10,
   "id": "f4626fde-789f-4acf-9230-074587176e2f",
   "metadata": {},
   "outputs": [
    {
     "name": "stdout",
     "output_type": "stream",
     "text": [
      "[30, 37, 40, 45, 50, 55, 60, 90, 100, 200]\n"
     ]
    }
   ],
   "source": [
    "list2 = [90,30,50,60,37,40,55,100,200,45]  # declared list2 as a list\n",
    "list2.sort();                               # using sort method by defalut take ascending order\n",
    "print(list2)                                # Display Ascending ordered list"
   ]
  },
  {
   "cell_type": "markdown",
   "id": "571a38bb-03f4-4bb0-88dd-1f6f7167aab5",
   "metadata": {},
   "source": [
    "12. Sort a list in descending order."
   ]
  },
  {
   "cell_type": "code",
   "execution_count": 11,
   "id": "0c4fefce-0690-4fb9-a290-c60812008159",
   "metadata": {},
   "outputs": [
    {
     "name": "stdout",
     "output_type": "stream",
     "text": [
      "[200, 100, 90, 60, 55, 50, 45, 40, 37, 30]\n"
     ]
    }
   ],
   "source": [
    "list2 = [90,30,50,60,37,40,55,100,200,45]  # declared list2 as a list\n",
    "list2.sort(reverse = True);                 # using sort method by defalut take ascending order but passing reverse = True make Descending order\n",
    "print(list2)   "
   ]
  },
  {
   "cell_type": "markdown",
   "id": "a60d6d06-fc6d-4106-9baf-9a03e5f6b6dd",
   "metadata": {},
   "source": [
    "13. Create a list of even numbers from 1 to 20."
   ]
  },
  {
   "cell_type": "code",
   "execution_count": 12,
   "id": "6a9fc48a-9e2c-4546-901e-fa5b78f1ddc5",
   "metadata": {},
   "outputs": [
    {
     "name": "stdout",
     "output_type": "stream",
     "text": [
      "2\n",
      "4\n",
      "6\n",
      "8\n",
      "10\n",
      "12\n",
      "14\n",
      "16\n",
      "18\n",
      "20\n"
     ]
    }
   ],
   "source": [
    "for i in range(2, 21, 2): # using for loop passing range 2 to 21 and 2 step will display all even numbers\n",
    "    print(i)              # print list even numbers from 1 to 20"
   ]
  },
  {
   "cell_type": "code",
   "execution_count": 17,
   "id": "ba444638-596a-4b09-bb0c-f3b04b830a61",
   "metadata": {},
   "outputs": [
    {
     "name": "stdout",
     "output_type": "stream",
     "text": [
      "2\n",
      "4\n",
      "6\n",
      "8\n",
      "10\n",
      "12\n",
      "14\n",
      "16\n",
      "18\n",
      "20\n"
     ]
    }
   ],
   "source": [
    "# second method for create list of even number from 1 to 20\n",
    "for i in range(1, 21):      # using for loop i iterate the range from 1 to 21\n",
    "    if i % 2 == 0:          # using if condition find the even number from the range\n",
    "        print(i)            # print the list of even number"
   ]
  },
  {
   "cell_type": "markdown",
   "id": "3214ee98-e32c-454f-a3b0-c6b0f4ffcb7b",
   "metadata": {},
   "source": [
    "14. Create a list of odd numbers from 1 to 20."
   ]
  },
  {
   "cell_type": "code",
   "execution_count": 19,
   "id": "7f598603-7f4b-41f6-ba4c-5835f0b5fd32",
   "metadata": {},
   "outputs": [
    {
     "name": "stdout",
     "output_type": "stream",
     "text": [
      "1\n",
      "3\n",
      "5\n",
      "7\n",
      "9\n",
      "11\n",
      "13\n",
      "15\n",
      "17\n",
      "19\n"
     ]
    }
   ],
   "source": [
    "for i in range(1, 20, 2): # using for loop passing range 1 to 20 and 2 step will display all odd numbers\n",
    "    print(i)              # print list odd numbers from 1 to 20"
   ]
  },
  {
   "cell_type": "code",
   "execution_count": 21,
   "id": "a0b7d6d3-9063-4ec4-bed2-c6982041e606",
   "metadata": {},
   "outputs": [
    {
     "name": "stdout",
     "output_type": "stream",
     "text": [
      "1\n",
      "3\n",
      "5\n",
      "7\n",
      "9\n",
      "11\n",
      "13\n",
      "15\n",
      "17\n",
      "19\n"
     ]
    }
   ],
   "source": [
    "# second method to create a odd list \n",
    "for i in range(1, 21):   # using for loop i iterate the range from 1 to 21\n",
    "    if i % 2 == 1:           # using if condition find the odd number from the range \n",
    "        print(i)               # print the list of odd number"
   ]
  },
  {
   "cell_type": "markdown",
   "id": "ccd5bbff-2dcf-46fb-b937-01e6c2a3d98a",
   "metadata": {},
   "source": [
    "15. Find the sum of all elements in a list."
   ]
  },
  {
   "cell_type": "code",
   "execution_count": 24,
   "id": "eb3e361a-af1f-45a5-8256-8800c673144b",
   "metadata": {},
   "outputs": [
    {
     "name": "stdout",
     "output_type": "stream",
     "text": [
      "Sum of List:  15\n"
     ]
    }
   ],
   "source": [
    "numlist = [1,2,3,4,5]       # Declare list numlist of numbers\n",
    "numsum = sum(numlist)            #using sum function find the sum of the list     \n",
    "print('Sum of List: ',numsum)     # display the sum of list"
   ]
  },
  {
   "cell_type": "code",
   "execution_count": 38,
   "id": "bb70ed4f-d142-475e-894a-4717cdd5c424",
   "metadata": {},
   "outputs": [
    {
     "name": "stdout",
     "output_type": "stream",
     "text": [
      "Sum of List:  15\n"
     ]
    }
   ],
   "source": [
    "#second method to sum of list elements\n",
    "numlist = [1,2,3,4,5]\n",
    "numsum=0\n",
    "for i in numlist:              # Calculate sum of list\n",
    "    numsum+=i\n",
    "print('Sum of List: ',numsum)   # display the sum of list"
   ]
  },
  {
   "cell_type": "markdown",
   "id": "8fafb542-da53-4692-ad95-c086e4921790",
   "metadata": {},
   "source": [
    "16. Find the maximum value in a list."
   ]
  },
  {
   "cell_type": "code",
   "execution_count": 39,
   "id": "82f62b40-9efa-42c7-abc5-f28cec5106b3",
   "metadata": {},
   "outputs": [
    {
     "name": "stdout",
     "output_type": "stream",
     "text": [
      "Maximum value of the list is: 100\n"
     ]
    }
   ],
   "source": [
    "list1 = [1, 0, 4, 5, 100]      #dclare a list1 as a list\n",
    "print(\"Maximum value of the list is:\", max(list1))      #using max method display the maximum value from the list"
   ]
  },
  {
   "cell_type": "markdown",
   "id": "a1dfdcc9-e32d-4f91-978a-7f9125852080",
   "metadata": {},
   "source": [
    "17. Find the minimum value in a list."
   ]
  },
  {
   "cell_type": "code",
   "execution_count": 41,
   "id": "30811531-9a73-4b30-8875-dfbf13af679b",
   "metadata": {},
   "outputs": [
    {
     "name": "stdout",
     "output_type": "stream",
     "text": [
      "Maximum value of the list is: 0\n"
     ]
    }
   ],
   "source": [
    "list1 = [1, 0, 4, 5, 100]      #dclare a list1 as a list\n",
    "print(\"Maximum value of the list is:\", min(list1))      #using min method display the minimum value from the list"
   ]
  },
  {
   "cell_type": "markdown",
   "id": "7295961e-e846-4ddc-bcb7-abd249285630",
   "metadata": {},
   "source": [
    "18. Create a list of squares of numbers from 1 to 10."
   ]
  },
  {
   "cell_type": "code",
   "execution_count": 49,
   "id": "29b434b7-0a84-4237-871e-3185ca8a1e4b",
   "metadata": {},
   "outputs": [
    {
     "name": "stdout",
     "output_type": "stream",
     "text": [
      "List with square of number from 1 to 10:\n",
      "[1, 4, 9, 16, 25, 36, 49, 64, 81, 100]\n"
     ]
    }
   ],
   "source": [
    "l = []             # created a blank list\n",
    "for i in range(1,11):   # using for loop iterating the number from 1 to 10\n",
    "     l.append(i * i);    # number square append to the list\n",
    "print(\"List with square of number from 1 to 10:\")   # print the list of squares of numbers\n",
    "print(l)\n"
   ]
  },
  {
   "cell_type": "markdown",
   "id": "709688c6-77b6-4c76-8074-f8376aff6524",
   "metadata": {},
   "source": [
    "19. Create a list of random numbers."
   ]
  },
  {
   "cell_type": "code",
   "execution_count": 51,
   "id": "4bdaa5a6-27a0-45ec-8218-0e4441c75483",
   "metadata": {},
   "outputs": [
    {
     "name": "stdout",
     "output_type": "stream",
     "text": [
      "Random number list is : [35, 22, 4, 45, 29, 31, 36]\n"
     ]
    }
   ],
   "source": [
    "import random        # importing random \n",
    "\n",
    "res = random.sample(range(1, 50), 7)   # To generate random number list using random.sample()\n",
    "\n",
    "print (\"Random number list is : \" +  str(res))  # printing result"
   ]
  },
  {
   "cell_type": "code",
   "execution_count": 52,
   "id": "061eaa02-0d86-44a5-83ed-f77572058fca",
   "metadata": {},
   "outputs": [
    {
     "name": "stdout",
     "output_type": "stream",
     "text": [
      "Random number list is : [10, 46, 23, 19, 46, 2, 31]\n"
     ]
    }
   ],
   "source": [
    "# second method for random numbers\n",
    "import random\n",
    " \n",
    "res = [random.randrange(1, 50, 1) for i in range(7)]  # using list comprehension + randrange() to generate random number list\n",
    " \n",
    "print (\"Random number list is : \" +  str(res))  # printing result"
   ]
  },
  {
   "cell_type": "markdown",
   "id": "e1f48d2c-a367-4e17-aedd-359307921206",
   "metadata": {},
   "source": [
    "20. Remove duplicates from a list."
   ]
  },
  {
   "cell_type": "code",
   "execution_count": 54,
   "id": "92fc9c6c-1fef-4ac4-9af1-0afc652eebd8",
   "metadata": {},
   "outputs": [
    {
     "name": "stdout",
     "output_type": "stream",
     "text": [
      "The original list is : [1, 5, 3, 6, 3, 5, 6, 1]\n",
      "The list after removing duplicates : [1, 3, 5, 6]\n"
     ]
    }
   ],
   "source": [
    "list1 = [1, 5, 3, 6, 3, 5, 6, 1]  # declared list1 as a list\n",
    "print (\"The original list is : \" + str(list1))\n",
    " \n",
    "list1 = list(set(list1))           # using set() to remove duplicated from list\n",
    " \n",
    "print (\"The list after removing duplicates : \" + str(list1))  # printing list after removal distorted ordering"
   ]
  },
  {
   "cell_type": "markdown",
   "id": "dc2618ee-b3dd-4f6d-9e5d-962561081498",
   "metadata": {},
   "source": [
    "21. Find the common elements between two lists."
   ]
  },
  {
   "cell_type": "code",
   "execution_count": 57,
   "id": "8b31cfce-ad7e-4918-a039-819f4f5147c0",
   "metadata": {},
   "outputs": [
    {
     "data": {
      "text/plain": [
       "{'Hello', 'King', 'cat'}"
      ]
     },
     "execution_count": 57,
     "metadata": {},
     "output_type": "execute_result"
    }
   ],
   "source": [
    "lista = ['How', 'Hello', 'cat', 'King']     # decalred 2 list \n",
    "listb = ['Hello', 'cat', 'cat', 'Lion', 'Tiger', 'Cat', 'Snake', 'whale', 'elephant', 'Queen', 'King']\n",
    "set(lista).intersection(listb)             # using intersection method will find the common element from the two list"
   ]
  },
  {
   "cell_type": "markdown",
   "id": "f22cb260-78a2-4e15-9c2b-cb01b2002ca5",
   "metadata": {},
   "source": [
    "22. Find the difference between two lists."
   ]
  },
  {
   "cell_type": "code",
   "execution_count": 62,
   "id": "288bc933-4fc9-4cc0-8942-273bc45f0514",
   "metadata": {},
   "outputs": [
    {
     "name": "stdout",
     "output_type": "stream",
     "text": [
      "{20, 10, 30, 15}\n"
     ]
    }
   ],
   "source": [
    "list1 = [10, 15, 20, 25, 30, 35, 40]  # decalred 2 list\n",
    "list2 = [25, 40, 35]\n",
    " \n",
    "result = set(li1).symmetric_difference(set(li2))  # using symmetric_difference will find the differance between two list\n",
    " \n",
    "print(result)          # display result with difference"
   ]
  },
  {
   "cell_type": "markdown",
   "id": "617d65e0-af33-4b46-9e78-75337b5f20d5",
   "metadata": {},
   "source": [
    "23. Merge two lists."
   ]
  },
  {
   "cell_type": "code",
   "execution_count": 64,
   "id": "2d631a64-d5a1-4b15-82c2-f93587b3226e",
   "metadata": {},
   "outputs": [
    {
     "name": "stdout",
     "output_type": "stream",
     "text": [
      "Concatenated list using naive method : [1, 4, 5, 6, 5, 3, 5, 7, 2, 5]\n"
     ]
    }
   ],
   "source": [
    "test_list1 = [1, 4, 5, 6, 5]   # Initializing lists\n",
    "test_list2 = [3, 5, 7, 2, 5]\n",
    "\n",
    "for i in test_list2 :                           # using naive method to concat   \n",
    "    test_list1.append(i)\n",
    "print (\"Concatenated list using naive method : \"+ str(test_list1))   # printed the merged list"
   ]
  },
  {
   "cell_type": "markdown",
   "id": "df11aa9a-f312-474a-83d2-3c33e600c566",
   "metadata": {},
   "source": [
    "24. Multiply all elements in a list by 2."
   ]
  },
  {
   "cell_type": "code",
   "execution_count": 68,
   "id": "4c98ddc4-36b7-4d94-877c-7adbe24ebf8b",
   "metadata": {},
   "outputs": [
    {
     "name": "stdout",
     "output_type": "stream",
     "text": [
      "2\n",
      "4\n",
      "6\n",
      "8\n",
      "10\n",
      "12\n",
      "14\n",
      "16\n",
      "18\n",
      "20\n",
      "22\n",
      "24\n",
      "26\n",
      "28\n",
      "30\n",
      "32\n",
      "34\n",
      "36\n",
      "38\n",
      "40\n"
     ]
    }
   ],
   "source": [
    "list1 = [1,2,3,4,5,6,7,8,9,10,11,12,13,14,15,16,17,18,19,20]  # decalring list1 as a list                                                  # result having 0 value\n",
    "for i in list1:                                              # iterate list1 using for loop\n",
    "    result = i * 2                                            # each element multiply with 2 number and stored in to result variable\n",
    "    print(result)                                              # display the result\n",
    "    "
   ]
  },
  {
   "cell_type": "markdown",
   "id": "555fbcb0-99e3-4c84-bc4e-d0635abd78c8",
   "metadata": {},
   "source": [
    "25. Filter out all even numbers from a list."
   ]
  },
  {
   "cell_type": "code",
   "execution_count": 77,
   "id": "e8c3d9b9-41d4-46b9-9cdf-6b033b9e32a8",
   "metadata": {},
   "outputs": [
    {
     "name": "stdout",
     "output_type": "stream",
     "text": [
      "All Even Numbers:  [2, 4, 6, 8, 10, 12, 14, 16, 18, 20]\n"
     ]
    }
   ],
   "source": [
    "list1 = [1,2,3,4,5,6,7,8,9,10,11,12,13,14,15,16,17,18,19,20]\n",
    "l = []\n",
    "for i in list1:\n",
    "    if(i % 2) == 0:\n",
    "        l.append(i)\n",
    "print(\"All Even Numbers: \", l);\n",
    "    "
   ]
  },
  {
   "cell_type": "markdown",
   "id": "643e7692-5578-46af-83fe-9cc197236e54",
   "metadata": {},
   "source": [
    "26. Convert a list of strings to a list of integers."
   ]
  },
  {
   "cell_type": "code",
   "execution_count": 80,
   "id": "d0032d1a-0b7f-42a1-8dc6-c483f446964b",
   "metadata": {},
   "outputs": [
    {
     "name": "stdout",
     "output_type": "stream",
     "text": [
      "[[1, 2, 3], [4, 5, 6]]\n"
     ]
    }
   ],
   "source": [
    "list1 = [['1 2 3'], ['4 5 6']]   # decalred list having string list\n",
    "for i in range(len(list1)):         # using for lopp iterate the element of list with length of range\n",
    "    list1[i] = [int(e) for e in \" \".join(list1[i]).replace(\"\\'\",\"\").split()]  # used join , replace and split method to conver from string to integer\n",
    "\n",
    "print(list1)             # display interger list of string"
   ]
  },
  {
   "cell_type": "code",
   "execution_count": 6,
   "id": "4d0a1e0d-7234-4874-81a7-2adc28612e0a",
   "metadata": {},
   "outputs": [
    {
     "name": "stdout",
     "output_type": "stream",
     "text": [
      "[[1, 2, 3], [4, 5, 6], [7, 8, 9]]\n"
     ]
    }
   ],
   "source": [
    "#second method\n",
    "list1 = [['1 2 3'], ['4 5 6'],['7 8 9']]   # decalred list1 having string list\n",
    "list1 = [element.split(' ') for lstt in list1 for element in lstt] # iterate the element of list and split the string from the string\n",
    "list1 = [[int(num) for num in lstt[:]] for lstt in list1]  # using for loop iterate the element of list\n",
    "print(list1)                               # display the result"
   ]
  },
  {
   "cell_type": "markdown",
   "id": "2dbc5e5e-66c3-40d4-819a-35063104b3bb",
   "metadata": {},
   "source": [
    "27. Convert a list of integers to a list of strings."
   ]
  },
  {
   "cell_type": "code",
   "execution_count": 12,
   "id": "4b1db4e5-b11e-4021-acb0-cc22025cbd0e",
   "metadata": {},
   "outputs": [
    {
     "name": "stdout",
     "output_type": "stream",
     "text": [
      "['1', '12', '15', '21', '131']\n"
     ]
    }
   ],
   "source": [
    "lst = [1, 12, 15, 21, 131]; # Decalred lst as a list\n",
    "l=[]                        # l having empty string\n",
    "for i,a in enumerate(lst):  # using enumerate function \n",
    "    l.append(str(a))       # append list with making as a string\n",
    "print(l)"
   ]
  },
  {
   "cell_type": "code",
   "execution_count": 11,
   "id": "e2ea3b21-083f-4cff-8240-005c77e23c39",
   "metadata": {},
   "outputs": [
    {
     "name": "stdout",
     "output_type": "stream",
     "text": [
      "['1', '12', '15', '21', '131']\n"
     ]
    }
   ],
   "source": [
    "list_int = [1, 12, 15, 21, 131]   #decalred list_int as a list of integers\n",
    "   \n",
    "list_string = map(str, list_int)  # mapping\n",
    "   \n",
    "print(list(list_string))      # Printing sorted list of integers"
   ]
  },
  {
   "cell_type": "markdown",
   "id": "3004d99d-355b-4605-bcd7-804b5fde016f",
   "metadata": {},
   "source": [
    "28. Flatten a nested list."
   ]
  },
  {
   "cell_type": "code",
   "execution_count": 14,
   "id": "120161c3-4d8e-4b6a-8feb-64d5158e8a0c",
   "metadata": {},
   "outputs": [
    {
     "name": "stdout",
     "output_type": "stream",
     "text": [
      "[1, 2, 3, 4, 'Ten', 'Twenty', 'Thirty', 1.1, 10.0, (1+2j), 20.55, 3.142]\n"
     ]
    }
   ],
   "source": [
    "nestedlist = [ [1, 2, 3, 4], [\"Ten\", \"Twenty\", \"Thirty\"], [1.1,  1.0E1, 1+2j, 20.55, 3.142]] #decalred a nested list \n",
    "flatlist=[]                     # flatlist having empty list\n",
    "for sublist in nestedlist:    # iterate element from the nested list\n",
    "    for element in sublist:   # iterate the element from the sublist\n",
    "        flatlist.append(element)  # append all element to the flatlist\n",
    "print(flatlist)                    # display the flat list element"
   ]
  },
  {
   "cell_type": "markdown",
   "id": "e9809ca0-3374-4b53-ac4e-0e1f8d6ce447",
   "metadata": {},
   "source": [
    "29. Create a list of the first 10 Fibonacci numbers."
   ]
  },
  {
   "cell_type": "code",
   "execution_count": 16,
   "id": "8f0d12df-846f-4d6c-bf56-5592262bdefc",
   "metadata": {},
   "outputs": [
    {
     "name": "stdout",
     "output_type": "stream",
     "text": [
      "34\n"
     ]
    }
   ],
   "source": [
    "def Fibonacci(n):\n",
    "    if n<= 0:\n",
    "        print(\"Incorrect input\")\n",
    "    # First Fibonacci number is 0\n",
    "    elif n == 1:                                   \n",
    "        return 0\n",
    "    # Second Fibonacci number is 1\n",
    "    elif n == 2:\n",
    "        return 1\n",
    "    else:\n",
    "        return Fibonacci(n-1)+Fibonacci(n-2)\n",
    " \n",
    " \n",
    "print(Fibonacci(10))"
   ]
  },
  {
   "cell_type": "markdown",
   "id": "29bfaeae-7d9c-4f9c-9a22-e4e46790faa8",
   "metadata": {},
   "source": [
    "30. Check if a list is sorted."
   ]
  },
  {
   "cell_type": "code",
   "execution_count": 5,
   "id": "12527ebc-d5b8-41af-b728-4d9a87883f82",
   "metadata": {},
   "outputs": [
    {
     "name": "stdout",
     "output_type": "stream",
     "text": [
      "0\n",
      "1\n",
      "2\n",
      "3\n",
      "4\n",
      "No, List is not sorted.\n"
     ]
    }
   ],
   "source": [
    "test_list = [5,6,7,3,2,1];        #decalre test_list as a list\n",
    "flag = 0\n",
    "i = 1\n",
    "while i < len(test_list):\n",
    "    print(i-1)\n",
    "    if(test_list[i] < test_list[i - 1]):    #if condition for check the second element of list is less than first element \n",
    "        flag = 1                              #decalre flag is 1\n",
    "    i += 1                                   \n",
    "     \n",
    "# printing result\n",
    "if (not flag) :                              \n",
    "    print (\"Yes, List is sorted.\")\n",
    "else :\n",
    "    print (\"No, List is not sorted.\")\n"
   ]
  },
  {
   "cell_type": "markdown",
   "id": "8277fb98-740d-4f9a-95b8-f464694715d2",
   "metadata": {},
   "source": [
    "31. Rotate a list to the left by `n` positions."
   ]
  },
  {
   "cell_type": "code",
   "execution_count": 8,
   "id": "b66869c8-8fe3-48e6-ba06-f97b5fc3a3bf",
   "metadata": {},
   "outputs": [
    {
     "name": "stdin",
     "output_type": "stream",
     "text": [
      "Enter Position to Left Rotate List Items =  5\n"
     ]
    },
    {
     "name": "stdout",
     "output_type": "stream",
     "text": [
      "Original List Items Before Left Rotating\n",
      "[5, 10, 15, 20, 25, 30, 35, 40, 45, 50]\n",
      "\n",
      "Final List Items After Left Rotating\n",
      "[30, 35, 40, 45, 50, 5, 10, 15, 20, 25]\n"
     ]
    }
   ],
   "source": [
    "list1 = [5, 10, 15, 20, 25, 30, 35, 40, 45, 50]   #decalred list1 as a list\n",
    "\n",
    "ltRotate = int(input(\"Enter Position to Left Rotate List Items = \"))  #taking input from user for rotate position\n",
    "\n",
    "print('Original List Items Before Left Rotating')                 \n",
    "print(ltList)                                                   # print the original list\n",
    "\n",
    "list2 = list1[ltRotate:] + list1[:ltRotate]                    #using range(:) it take the last rotate elements from the list1 then first rotate element\n",
    "\n",
    "print('\\nFinal List Items After Left Rotating')\n",
    "print(list2)                                                 # final output display"
   ]
  },
  {
   "cell_type": "markdown",
   "id": "e15ba7f7-a31e-4e1c-a466-9afebcb52af0",
   "metadata": {},
   "source": [
    "            32. Rotate a list to the right by `n` positions.                    "
   ]
  },
  {
   "cell_type": "code",
   "execution_count": 13,
   "id": "c1fcd8c5-f212-413f-a845-020d7c34c93b",
   "metadata": {},
   "outputs": [
    {
     "name": "stdout",
     "output_type": "stream",
     "text": [
      "[4, 5, 6, 1, 2, 3]\n"
     ]
    }
   ],
   "source": [
    "# Right Rotating a list to n positions\n",
    "n = 3\n",
    " \n",
    "list_1 = [1, 2, 3, 4, 5, 6]\n",
    "if n>len(list_1):\n",
    "    n = int(n%len(list_1))\n",
    "list_1 = (list_1[-n:] + list_1[:-n])\n",
    " \n",
    "print(list_1)"
   ]
  },
  {
   "cell_type": "markdown",
   "id": "f41a4911-c9dd-4466-a53d-b2a0b1203248",
   "metadata": {},
   "source": [
    "33. Create a list of prime numbers up to 50."
   ]
  },
  {
   "cell_type": "code",
   "execution_count": 15,
   "id": "2ae4af10-bb8c-48c7-bf94-dc60b3ff3fc3",
   "metadata": {},
   "outputs": [
    {
     "name": "stdout",
     "output_type": "stream",
     "text": [
      "[2, 3, 5, 7, 11, 13, 17, 19, 23, 29, 31, 37, 41, 43, 47]\n"
     ]
    }
   ],
   "source": [
    "def prime_numbers(n):                 #defining prime_number having n parameter\n",
    "    primes = []                       #dclared empty list as primes\n",
    "    for i in range(2, n + 1):           # for loop iterate the range from 2 to n+1\n",
    "        for j in range(2, int(i ** 0.5) + 1): # for loop iterating the range \n",
    "            if i%j == 0:                     # if condition to check the number is prime or not\n",
    "                break\n",
    "        else:\n",
    "            primes.append(i)                 # append all prime number to primes veriable\n",
    "    return primes                            # return function\n",
    "\n",
    "prime_list = prime_numbers(50)                   #assigning prime_numbers(50) to the prime_list variable\n",
    "print(prime_list)                                # display the prime number list"
   ]
  },
  {
   "cell_type": "markdown",
   "id": "3e6f918f-14bb-43f0-bfe3-6aef1f25f10f",
   "metadata": {},
   "source": [
    "34. Split a list into chunks of size `n`."
   ]
  },
  {
   "cell_type": "code",
   "execution_count": 17,
   "id": "0cb831a2-5e36-41c4-b5f5-f3eb46be2274",
   "metadata": {},
   "outputs": [
    {
     "name": "stdout",
     "output_type": "stream",
     "text": [
      "[0, 1, 2]\n",
      "[3, 4, 5]\n",
      "[6, 7, 8]\n",
      "[9]\n"
     ]
    }
   ],
   "source": [
    "my_list = list(range(10))   #decalred my_list having range of 1 to 10\n",
    "chunk_size = 3              # declaring chunk having 3 value\n",
    "while my_list:              #using while condition\n",
    "    chunk, my_list = my_list[:chunk_size], my_list[chunk_size:]  # mylist is splited using chunk size\n",
    "    print(chunk)        # print the chunk"
   ]
  },
  {
   "cell_type": "markdown",
   "id": "21fc805c-36db-4a8a-a8b0-ea4f8653f3d4",
   "metadata": {},
   "source": [
    "35. Find the second largest number in a list."
   ]
  },
  {
   "cell_type": "code",
   "execution_count": 18,
   "id": "8e5ef75f-a6ef-4423-a63b-f5d6a4180b29",
   "metadata": {},
   "outputs": [
    {
     "name": "stdout",
     "output_type": "stream",
     "text": [
      "The second largest element of the list is: 30\n"
     ]
    }
   ],
   "source": [
    " list_val = [20, 30, 40, 25, 10]   # declaring the list                   \n",
    "list_val.sort()                    # sorting the list  \n",
    "print(\"The second largest element of the list is:\", list_val[-2])   #displaying the second last element of the list  "
   ]
  },
  {
   "cell_type": "markdown",
   "id": "34f04dce-8244-4360-8ead-d42f1a55d638",
   "metadata": {},
   "source": [
    "36. Replace every element in a list with its square."
   ]
  },
  {
   "cell_type": "code",
   "execution_count": 26,
   "id": "ddd54246-6766-44b0-ae86-14b90f6486f0",
   "metadata": {},
   "outputs": [
    {
     "name": "stdout",
     "output_type": "stream",
     "text": [
      "1\n",
      "4\n",
      "9\n",
      "16\n",
      "25\n",
      "36\n",
      "49\n",
      "64\n"
     ]
    }
   ],
   "source": [
    "# first method\n",
    "list1 = [1,2,3,4,5,6,7,8]  #declared list1 as a list\n",
    "for i in list1:           # iterate the for loop for taking one by one element\n",
    "    print(i*i);            # print the element with multiply itself for squares\n"
   ]
  },
  {
   "cell_type": "code",
   "execution_count": 29,
   "id": "5b73ff77-b368-4c25-a0ed-39ca027bcc99",
   "metadata": {},
   "outputs": [
    {
     "name": "stdout",
     "output_type": "stream",
     "text": [
      "[1, 4, 9, 16, 25]\n"
     ]
    }
   ],
   "source": [
    "#second method\n",
    "l = [1, 2, 3, 4, 5]    #decalred l as alist\n",
    "l = list(map(lambda x: x**2, l))  # using map function taking every list element from list and perform the operation to multiply itseft .\n",
    "print(l)      # print the result "
   ]
  },
  {
   "cell_type": "markdown",
   "id": "33e52373-17b8-44e1-a7ab-03bec00e3e1a",
   "metadata": {},
   "source": [
    "37. Convert a list to a dictionary where list elements become keys and their\n",
    "indices become values."
   ]
  },
  {
   "cell_type": "code",
   "execution_count": 34,
   "id": "df365752-b5cf-413f-b682-9487f72315b1",
   "metadata": {},
   "outputs": [
    {
     "name": "stdout",
     "output_type": "stream",
     "text": [
      "{'Tuesday': 1, 'Wednesday': 2, 'Thursday': 3}\n"
     ]
    }
   ],
   "source": [
    "keys = ['Tuesday', 'Wednesday', 'Thursday']\n",
    "values = [1, 2, 3]\n",
    "\n",
    "dictionary = zip(keys, values)   # zip did two lists together to create a list of key-value pairs\n",
    "\n",
    "myDict = dict(dictionary)       # convert the list of key-value pairs to a dictionary\n",
    "\n",
    "print(myDict);                 # display result\n"
   ]
  },
  {
   "cell_type": "markdown",
   "id": "88592463-f90f-49fe-a336-cba947edce67",
   "metadata": {},
   "source": [
    "38. Shuffle the elements of a list randomly."
   ]
  },
  {
   "cell_type": "code",
   "execution_count": 37,
   "id": "0ad5d2df-6906-43b1-8ccf-5c4f51b12d59",
   "metadata": {},
   "outputs": [
    {
     "name": "stdout",
     "output_type": "stream",
     "text": [
      "[3, 0, 1, 2, 4]\n"
     ]
    }
   ],
   "source": [
    "import random     # imported the random\n",
    "\n",
    "list1 = [0, 1, 2, 3, 4]   #decalred list1 as a list\n",
    "\n",
    "random.shuffle(list1)    # using random.shuffle for shuffle the list\n",
    "print(list1)            # print the list"
   ]
  },
  {
   "cell_type": "markdown",
   "id": "4319103b-ab10-4509-99db-7e605c1552c7",
   "metadata": {},
   "source": [
    "39. Create a list of the first 10 factorial numbers."
   ]
  },
  {
   "cell_type": "code",
   "execution_count": 40,
   "id": "81f5fdf9-9931-4b64-b8ef-041daeb061f1",
   "metadata": {},
   "outputs": [
    {
     "name": "stdout",
     "output_type": "stream",
     "text": [
      "Factorial of 1 is 1\n",
      "Factorial of 2 is 2\n",
      "Factorial of 3 is 12\n",
      "Factorial of 4 is 288\n",
      "Factorial of 5 is 34560\n"
     ]
    }
   ],
   "source": [
    "list1 = [1, 2, 3, 4, 5]   #decalred list1 as a list\n",
    "fact = 1                  #decalred fact having 1 value\n",
    "for item in list1:        # using for loop iterate the list1\n",
    "    for number in range(1,item+1):   # using for loop iterate the range from 1 to item +1\n",
    "        fact = fact * number         # calculate the factorial number\n",
    "    print (\"Factorial of\", item, \"is\", fact)  # display the factorial numbers with the list items"
   ]
  },
  {
   "cell_type": "markdown",
   "id": "e643a06d-486b-4eb8-9d15-4d1748ceeb1c",
   "metadata": {},
   "source": [
    "40. Check if two lists have at least one element in common."
   ]
  },
  {
   "cell_type": "code",
   "execution_count": 41,
   "id": "5f529ff3-3af3-448f-bbff-a119a7926a04",
   "metadata": {},
   "outputs": [
    {
     "name": "stdout",
     "output_type": "stream",
     "text": [
      "True\n",
      "False\n"
     ]
    }
   ],
   "source": [
    "def common_number(a, b):       #defining a function as a common_number\n",
    "    return any(i in b for i in a)     # returning result about common or not using in method \n",
    "  \n",
    "a = [1, 2, 3, 4, 5]            #decalring a as list\n",
    "b = [5, 6, 7, 8, 9]            #decalring b as list                  \n",
    "print(common_number(a, b))  #print the function # True\n",
    "  \n",
    "a =[1, 2, 3, 4, 5]\n",
    "b =[6, 7, 8, 9]\n",
    "print(common_number(a, b))  # False"
   ]
  },
  {
   "cell_type": "markdown",
   "id": "ff3f3510-30ba-4213-a7a8-587027ec5b26",
   "metadata": {},
   "source": [
    "41. Remove all elements from a list."
   ]
  },
  {
   "cell_type": "code",
   "execution_count": 43,
   "id": "6f408f2e-45c6-4694-bbf8-ff79885e3b98",
   "metadata": {},
   "outputs": [
    {
     "name": "stdout",
     "output_type": "stream",
     "text": [
      "[]\n"
     ]
    }
   ],
   "source": [
    "list1 = [66,77,8,9,56,67,86,23,45,67,89];   #decalred list1 as alist\n",
    "list1.clear()                                # using clear function removed all element from the list\n",
    "print(list1)                               # print the empty list"
   ]
  },
  {
   "cell_type": "markdown",
   "id": "9bdf37c1-b34d-4072-99c4-4635094bb3bb",
   "metadata": {},
   "source": [
    "42. Replace negative numbers in a list with 0."
   ]
  },
  {
   "cell_type": "code",
   "execution_count": 45,
   "id": "271a7e82-e22f-4dd0-b80d-351813c1a47f",
   "metadata": {},
   "outputs": [
    {
     "name": "stdout",
     "output_type": "stream",
     "text": [
      "[0, 5, 7, 9, 0, 0]\n"
     ]
    }
   ],
   "source": [
    "list1 = [-1,5,7,9,-99,-77]  # decalred list1 as a list \n",
    "list2 = [0 if i < 0 else i for i in list1]    # using lamda having if condition used for i < 0 then = 0\n",
    "print(list2)                                  # display the result"
   ]
  },
  {
   "cell_type": "markdown",
   "id": "34812ae4-561e-475d-91da-71148008fb15",
   "metadata": {},
   "source": [
    "43. Convert a string into a list of words."
   ]
  },
  {
   "cell_type": "code",
   "execution_count": 49,
   "id": "90309412-35a5-47c4-83cc-19783fc2feb9",
   "metadata": {},
   "outputs": [
    {
     "name": "stdout",
     "output_type": "stream",
     "text": [
      "['Ketaki', 'Ubale,', 'hello', 'how', 'are', 'you']\n"
     ]
    }
   ],
   "source": [
    "string = \"Ketaki Ubale, hello how are you\"\n",
    "word = string.split(\" \");\n",
    "print(word)"
   ]
  },
  {
   "cell_type": "markdown",
   "id": "5890a66e-0b82-4db8-b287-d01485249a9b",
   "metadata": {},
   "source": [
    "44. Convert a list of words into a string."
   ]
  },
  {
   "cell_type": "code",
   "execution_count": 54,
   "id": "35628ba9-c54c-4d57-8ba5-c03b2efd5b7a",
   "metadata": {},
   "outputs": [
    {
     "name": "stdout",
     "output_type": "stream",
     "text": [
      "Hello How are you?\n"
     ]
    }
   ],
   "source": [
    "words = ['Hello','How','are','you?']  #decalred a list having words \n",
    "string = ' '.join([str(i)for i in words])    # using join method join the word as a string using iterating the each word\n",
    "print(string)                                # print the result"
   ]
  },
  {
   "cell_type": "markdown",
   "id": "085ecbaf-3427-4249-ac12-a6cb400cdba5",
   "metadata": {},
   "source": [
    "45. Create a list of the first `n` powers of 2."
   ]
  },
  {
   "cell_type": "code",
   "execution_count": 68,
   "id": "64c6986d-9b67-48a5-ba20-d60b7cc317da",
   "metadata": {},
   "outputs": [
    {
     "name": "stdout",
     "output_type": "stream",
     "text": [
      "1\n",
      "2\n",
      "4\n",
      "8\n",
      "16\n",
      "32\n",
      "64\n",
      "128\n",
      "256\n",
      "512\n",
      "1024\n",
      "2048\n",
      "4096\n",
      "8192\n",
      "16384\n",
      "32768\n",
      "65536\n"
     ]
    }
   ],
   "source": [
    "#first method\n",
    "n = 2\n",
    "exponent = 0\n",
    "\n",
    "while exponent < 16+1:\n",
    "    res = n ** exponent\n",
    "    exponent = exponent + 1\n",
    "    print (res)"
   ]
  },
  {
   "cell_type": "code",
   "execution_count": 69,
   "id": "395aa2db-d0cf-425f-ba5b-88d539539811",
   "metadata": {},
   "outputs": [
    {
     "name": "stdout",
     "output_type": "stream",
     "text": [
      "1\n",
      "2\n",
      "4\n",
      "8\n",
      "16\n",
      "32\n",
      "64\n",
      "128\n",
      "256\n",
      "512\n",
      "1024\n",
      "2048\n",
      "4096\n",
      "8192\n",
      "16384\n",
      "32768\n",
      "65536\n"
     ]
    }
   ],
   "source": [
    "#second method\n",
    "for exp in range(17):\n",
    "    print(2**exp)"
   ]
  },
  {
   "cell_type": "markdown",
   "id": "7abef481-4a5a-4665-8df2-947bba992879",
   "metadata": {},
   "source": [
    "46. Find the longest string in a list of strings."
   ]
  },
  {
   "cell_type": "code",
   "execution_count": 86,
   "id": "9cf2988f-c89e-42fa-a65e-010818d339b0",
   "metadata": {},
   "outputs": [
    {
     "name": "stdout",
     "output_type": "stream",
     "text": [
      "Maharashtra\n"
     ]
    }
   ],
   "source": [
    "def maxString (lst):     #fuction for max string\n",
    "    return max(lst, key=len);      #return the longest string  using max and len function\n",
    "print(maxString([\"Maharashtra\",\"Karnataka\",\"Mumbai\",\"Goa\",\"Chennai\"])); # desplay result\n",
    "    "
   ]
  },
  {
   "cell_type": "markdown",
   "id": "ff0fd9d3-4256-4eba-82cc-70255da1bdf0",
   "metadata": {},
   "source": [
    "47. Find the shortest string in a list of strings."
   ]
  },
  {
   "cell_type": "code",
   "execution_count": 88,
   "id": "85072a63-201d-4df9-9a74-9ec9ac879058",
   "metadata": {},
   "outputs": [
    {
     "name": "stdout",
     "output_type": "stream",
     "text": [
      "Goa\n"
     ]
    }
   ],
   "source": [
    "def minString (lst):     #fuction for min string\n",
    "    return min(lst, key=len);      #return the longest string  using min and len function\n",
    "print(maxString([\"Maharashtra\",\"Karnataka\",\"Mumbai\",\"Goa\",\"Chennai\"])); # desplay result"
   ]
  },
  {
   "cell_type": "markdown",
   "id": "ea3c16d5-b636-4c25-bfa2-4d5ee05f615c",
   "metadata": {},
   "source": [
    "48. Create a list of the first `n` triangular numbers."
   ]
  },
  {
   "cell_type": "code",
   "execution_count": 91,
   "id": "1c668662-25fb-45a0-a5a4-bc1f0be4a460",
   "metadata": {},
   "outputs": [
    {
     "name": "stdout",
     "output_type": "stream",
     "text": [
      "[1, 3, 6, 10, 15, 21, 28, 36, 45, 55, 66, 78, 91, 105, 120, 136, 153, 171, 190, 210]\n"
     ]
    }
   ],
   "source": [
    "limit = 20   # decalred linit as a variable having 10 value\n",
    "triangle_nums = []    #decalred  triangle_nums as a empty list\n",
    "num = 0               # num initialise as 0 value\n",
    "\n",
    "for i in range(1, limit + 1):   # using for loop iterate the numbers from the given range\n",
    "    num += i                    # increment num by 1\n",
    "    triangle_nums.append(num)        # appending the num to the triangle_num\n",
    "print(triangle_nums)                # display result"
   ]
  },
  {
   "cell_type": "markdown",
   "id": "ae6f45e8-eb1f-47be-8a6c-a97240dda643",
   "metadata": {},
   "source": [
    "49. Check if a list contains another list as a subsequence."
   ]
  },
  {
   "cell_type": "code",
   "execution_count": 94,
   "id": "6e8897d3-677c-4f3b-8bf3-6bca14b79bcb",
   "metadata": {},
   "outputs": [
    {
     "name": "stdout",
     "output_type": "stream",
     "text": [
      "True\n"
     ]
    }
   ],
   "source": [
    "def check_exists(l, lookup_list):   # defining a function as a check_exists\n",
    "    check = True                       # check having true value\n",
    "    for i in lookup_list:              # using for loop ierateing lookup_list \n",
    "        try:                           #using try method\n",
    "            index = l.index(i)        \n",
    "            l = l[index+1:]\n",
    "        except ValueError:            # using except value\n",
    "            check = False              # check having False value\n",
    "            break                    # break the loop\n",
    "    return check                      # return the check\n",
    "l = [2,3,4,5,7,8,9,5,4,3,2,1,5,6,7,8,9,6,7,5,4] # decalred l as a list\n",
    "lookup_list = [2,3,4,5,7,8,9,5,4,3,2,1]            # decalred lookup_list as a list\n",
    "\n",
    "print(check_exists(l,lookup_list))                     # print the result with calling function"
   ]
  },
  {
   "cell_type": "markdown",
   "id": "cc4520b5-01ea-4046-a4d2-59d5d65bcae5",
   "metadata": {},
   "source": [
    "50. Swap two elements in a list by their indices."
   ]
  },
  {
   "cell_type": "code",
   "execution_count": 98,
   "id": "a137e9ab-ea51-4141-be44-1a953dea9eb3",
   "metadata": {},
   "outputs": [
    {
     "name": "stdout",
     "output_type": "stream",
     "text": [
      "List of fruits before swap:\n",
      "['oranges', 'grapes']\n",
      "\n",
      "List of fruits after swap:\n",
      "['grapes', 'oranges']\n"
     ]
    }
   ],
   "source": [
    "fruits = [\"oranges\", \"grapes\"]\n",
    "\n",
    "print(\"List of fruits before swap:\")\n",
    "print(fruits)\n",
    "\n",
    "fruits[0], fruits[1] = fruits[1], fruits[0]  #swap elements at index 0 and 2\n",
    "\n",
    "print(\"\\nList of fruits after swap:\")\n",
    "print(fruits)"
   ]
  },
  {
   "cell_type": "markdown",
   "id": "c5f46bc2-f0e9-43b1-9945-b85ce60c4f71",
   "metadata": {},
   "source": [
    "Tuple Based Practice Problem :\n",
    "    \n",
    "    1. Create a tuple with integers from 1 to 5."
   ]
  },
  {
   "cell_type": "code",
   "execution_count": 103,
   "id": "d4c558b5-8ce1-4bcc-9242-17686c7b1605",
   "metadata": {},
   "outputs": [
    {
     "name": "stdout",
     "output_type": "stream",
     "text": [
      "(1, 2, 3, 4, 5)\n"
     ]
    }
   ],
   "source": [
    "tuple1 = (1,2,3,4,5)  # creating tuple1 as a tuple having 1 to 5 integer value\n",
    "print(tuple1)        # print the tuple"
   ]
  },
  {
   "cell_type": "markdown",
   "id": "66b9c07a-764c-45ad-b765-dea2cc558c62",
   "metadata": {},
   "source": [
    "2. Access the third element of a tuple."
   ]
  },
  {
   "cell_type": "code",
   "execution_count": 106,
   "id": "d39f28c9-a94b-4246-9270-b9d64db330ee",
   "metadata": {},
   "outputs": [
    {
     "name": "stdout",
     "output_type": "stream",
     "text": [
      "3\n"
     ]
    }
   ],
   "source": [
    "tuple1 = (1,2,3,4,5)   # creating tuple1 as a tuple having 1 to 5 integer value\n",
    "print(tuple1[2])       # using index we can access the third element from the tuple"
   ]
  },
  {
   "cell_type": "markdown",
   "id": "7e028def-5acd-4354-904b-17411ad47cd5",
   "metadata": {},
   "source": [
    "3. Find the length of a tuple without using the `len()` function."
   ]
  },
  {
   "cell_type": "code",
   "execution_count": 108,
   "id": "59ea1bb1-ed8f-4730-9657-5757cea1dd08",
   "metadata": {},
   "outputs": [
    {
     "name": "stdout",
     "output_type": "stream",
     "text": [
      "11\n"
     ]
    }
   ],
   "source": [
    "tuple1 = (1,2,3,4,5,4,5,6,7,8,9)  # Declared tuple1 as a tuple\n",
    "l = len(tuple1)                   # using len function we can get the length of tuple\n",
    "print(l)                          # print the length of tuple"
   ]
  },
  {
   "cell_type": "markdown",
   "id": "d06d75f0-921c-459e-8011-a8f2a107b1f5",
   "metadata": {},
   "source": [
    "4. Count the occurrences of an element in a tuple."
   ]
  },
  {
   "cell_type": "code",
   "execution_count": 109,
   "id": "bf72687f-03ce-43ea-801f-0d20c41a2d7d",
   "metadata": {},
   "outputs": [
    {
     "name": "stdout",
     "output_type": "stream",
     "text": [
      "0 times\n",
      "3 times\n",
      "4 times\n"
     ]
    }
   ],
   "source": [
    "def Count(tup, en):     #defining function as a count\n",
    "    return tup.count(en)      #return the result using count method\n",
    " \n",
    "tup = (10, 8, 5, 2, 10, 15, 10, 8, 5, 8, 8, 2)     # decalred tuple \n",
    "enq = 4                                            # decalared enq having 4 value\n",
    "enq1 = 10\n",
    "enq2 = 8\n",
    "print(Count(tup, enq), \"times\")            #print the occurances of the enq \n",
    "print(Count(tup, enq1), \"times\")\n",
    "print(Count(tup, enq2), \"times\")"
   ]
  },
  {
   "cell_type": "markdown",
   "id": "f8b99c07-c41f-4375-8027-90362794347c",
   "metadata": {},
   "source": [
    "5. Find the index of the first occurrence of an element in a tuple."
   ]
  },
  {
   "cell_type": "code",
   "execution_count": 7,
   "id": "a49156ba-5acf-4152-8773-55e5612ace73",
   "metadata": {},
   "outputs": [
    {
     "name": "stdout",
     "output_type": "stream",
     "text": [
      "0\n"
     ]
    }
   ],
   "source": [
    "test = (\"Canada\", \"India\", \"Canada\", \"Japan\", \"Italy\", \"Canada\") # declared test as a tuple\n",
    "find = test.index(\"Canada\")                                    # using index method we can find the index of first occurance \n",
    "print(find)                                                     # print result"
   ]
  },
  {
   "cell_type": "markdown",
   "id": "6a2b1922-356d-4007-8ac8-872f58e0ed16",
   "metadata": {},
   "source": [
    "6. Check if an element exists in a tuple."
   ]
  },
  {
   "cell_type": "code",
   "execution_count": 10,
   "id": "9bd49162-bcc4-454e-abbe-4523bc6b507f",
   "metadata": {},
   "outputs": [
    {
     "name": "stdout",
     "output_type": "stream",
     "text": [
      "Does tuple contain required value ? : True\n"
     ]
    }
   ],
   "source": [
    "tuple1 = (2,4,5,6,7,89,23,56,90,67,89,100,765,303)   # initialize tuple\n",
    "\n",
    "N = 6             # initialize N \n",
    "res = N in tuple1      # Check if element is present in tuple  Using in operator\n",
    "\n",
    "print(\"Does tuple contain required value ? : \" + str(res))     # printing result"
   ]
  },
  {
   "cell_type": "markdown",
   "id": "5750f2e3-97f3-4b9e-a64b-0a965a345489",
   "metadata": {},
   "source": [
    "7. Convert a tuple to a list."
   ]
  },
  {
   "cell_type": "code",
   "execution_count": 1,
   "id": "1b58aff5-0991-4f4a-bfa0-f1ca342a6541",
   "metadata": {},
   "outputs": [
    {
     "name": "stdout",
     "output_type": "stream",
     "text": [
      "[[(1, 2, 3, 4, 5)]]\n"
     ]
    }
   ],
   "source": [
    "t1 = (1,2,3,4,5)\n",
    "l1 = list([t1])\n",
    "print([l1])\n"
   ]
  },
  {
   "cell_type": "markdown",
   "id": "7cb5333b-a6a7-4d83-bb47-97950e60522b",
   "metadata": {},
   "source": [
    "8. Convert a list to a tuple."
   ]
  },
  {
   "cell_type": "code",
   "execution_count": 39,
   "id": "d578155e-6905-4c11-be2b-33adaf738b4d",
   "metadata": {},
   "outputs": [
    {
     "name": "stdout",
     "output_type": "stream",
     "text": [
      "(1, 2, 3, 4, 5)\n"
     ]
    }
   ],
   "source": [
    "l1 = [1,2,3,4,5]  # Declared l1 as a list\n",
    "t1 = tuple(l1)    # using tuple function list will convert into the tuple\n",
    "print(t1)          # print tuple"
   ]
  },
  {
   "cell_type": "markdown",
   "id": "ad70eb58-bc60-4d99-997e-58c370e5f7c4",
   "metadata": {},
   "source": [
    "9. Unpack the elements of a tuple into variables."
   ]
  },
  {
   "cell_type": "code",
   "execution_count": 46,
   "id": "49853640-fc8b-4707-bf8d-302a66df2380",
   "metadata": {},
   "outputs": [
    {
     "name": "stdout",
     "output_type": "stream",
     "text": [
      "Shivaji University\n",
      "5000\n",
      "Engineering\n"
     ]
    }
   ],
   "source": [
    "a = (\"Shivaji University\", 5000, \"Engineering\") \n",
    "\n",
    "(college, student, type_ofcollege) = a   # this lines UNPACKS values of variable a   \n",
    "\n",
    "print(college)                            # print college name                    \n",
    " \n",
    "print(student)                            # print no of student\n",
    " \n",
    "print(type_ofcollege)                        # print type of college\n"
   ]
  },
  {
   "cell_type": "markdown",
   "id": "7401d2e5-f9a3-4695-b194-e9a1e72f0eb0",
   "metadata": {},
   "source": [
    "10. Create a tuple of even numbers from 1 to 10."
   ]
  },
  {
   "cell_type": "code",
   "execution_count": 50,
   "id": "2baf15a5-4b5b-416b-8cca-827f5417c642",
   "metadata": {},
   "outputs": [
    {
     "name": "stdout",
     "output_type": "stream",
     "text": [
      "(0, 2, 4, 6, 8, 10)\n"
     ]
    }
   ],
   "source": [
    "even_numbers = [x for x in range(11) if x%2==0]   #using lambda function find the even number from 1 to 10\n",
    "print(tuple(even_numbers))                        # print the even number in tuple"
   ]
  },
  {
   "cell_type": "markdown",
   "id": "56e486f0-8215-4fb7-8cc3-b10642212674",
   "metadata": {},
   "source": [
    "11. Create a tuple of odd numbers from 1 to 10."
   ]
  },
  {
   "cell_type": "code",
   "execution_count": 52,
   "id": "daa2b8f9-7a65-4b98-887e-bc4f5f380aae",
   "metadata": {},
   "outputs": [
    {
     "name": "stdout",
     "output_type": "stream",
     "text": [
      "(1, 3, 5, 7, 9)\n"
     ]
    }
   ],
   "source": [
    "even_numbers = [x for x in range(11) if x%2==1]   #using lambda function find the odd number from 1 to 10\n",
    "tuple1 = (tuple(even_numbers))  \n",
    "print(tuple1)                  # print the odd number in tuple"
   ]
  },
  {
   "cell_type": "markdown",
   "id": "df12e823-92b1-4e6a-9d23-811accbc474b",
   "metadata": {},
   "source": [
    "12. Concatenate two tuples."
   ]
  },
  {
   "cell_type": "code",
   "execution_count": 53,
   "id": "ca82b41e-7ce9-4a9c-b743-9454883445b0",
   "metadata": {},
   "outputs": [
    {
     "name": "stdout",
     "output_type": "stream",
     "text": [
      "(2, 3, 4, 5, 6, 7, 8, 9, 10, 11, 12, 13)\n"
     ]
    }
   ],
   "source": [
    "t1 = (2,3,4,5,6,7)           # decalred t1 as a tuple\n",
    "t2 = (8,9,10,11,12,13)          # decalred t2 as a tuple\n",
    "combine = t1+t2                 # using + sign we can concatinate two tuple\n",
    "print(combine)                  # print the result"
   ]
  },
  {
   "cell_type": "markdown",
   "id": "a0cb0a07-d25b-4e0a-b1b3-8cc7b29759ea",
   "metadata": {},
   "source": [
    "13. Repeat a tuple three times."
   ]
  },
  {
   "cell_type": "code",
   "execution_count": 58,
   "id": "6cc1ea46-fac0-46c1-a04c-161dc2b1e325",
   "metadata": {},
   "outputs": [
    {
     "name": "stdout",
     "output_type": "stream",
     "text": [
      "('Ketaki', 'Ubale', 'Kundan', 'Shravan', 'Ketaki', 'Ubale', 'Kundan', 'Shravan', 'Ketaki', 'Ubale', 'Kundan', 'Shravan')\n"
     ]
    }
   ],
   "source": [
    "t1 = (\"Ketaki\",\"Ubale\",\"Kundan\",\"Shravan\")   # declared tuple \n",
    "n = 3                    # inintialise n = 3\n",
    "result = ((t1) * 3)      # using * we can repeat \n",
    "print(result)            # display result"
   ]
  },
  {
   "cell_type": "markdown",
   "id": "4a3a11dd-ba69-4835-a3af-e3d3258c5ce5",
   "metadata": {},
   "source": [
    "14. Check if a tuple is empty."
   ]
  },
  {
   "cell_type": "code",
   "execution_count": 60,
   "id": "e20de83f-6ff5-4fc3-b203-c26aa2ee7ae6",
   "metadata": {},
   "outputs": [
    {
     "name": "stdout",
     "output_type": "stream",
     "text": [
      "t1 is not empty\n",
      "t2 is empty\n"
     ]
    }
   ],
   "source": [
    "t1 = (1, 2, 3)    # declared t1 as a tuple\n",
    "t2 = ()            # declared t2 as a tuple\n",
    "t1 = len(t1)       #converted length using len()\n",
    "t2 = len(t2)     \n",
    "if t1 == 0:          # check t1 is empty or not\n",
    "    print(\"t1 is empty\")  #print result\n",
    "else:                    \n",
    "    print(\"t1 is not empty\")\n",
    "if t2 == 0:                # check t2 is empty or not\n",
    "    print(\"t2 is empty\")   # true result\n",
    "else:       \n",
    "    print(\"t2 is not empty\") # false result"
   ]
  },
  {
   "cell_type": "markdown",
   "id": "e3d5a521-cd73-4851-a6be-fe9f133e3a37",
   "metadata": {},
   "source": [
    "15. Create a nested tuple."
   ]
  },
  {
   "cell_type": "code",
   "execution_count": 61,
   "id": "cd2d1fe9-2950-4139-ae99-a59783c3b063",
   "metadata": {},
   "outputs": [
    {
     "name": "stdout",
     "output_type": "stream",
     "text": [
      "((10, 'Itika', 13000), (24, 'Harry', 15294), (15, 'Naill', 20001), (40, 'Peter', 16395))\n"
     ]
    }
   ],
   "source": [
    "employee = ((10, \"Itika\", 13000), (24, \"Harry\", 15294), (15, \"Naill\", 20001), (40, \"Peter\", 16395))  # decalred employee as a nested tuple \n",
    "print(employee) #print the result"
   ]
  },
  {
   "cell_type": "markdown",
   "id": "2a06dba7-ab60-4cbd-a53a-dc8a75c4997e",
   "metadata": {},
   "source": [
    "16. Access the first element of a nested tuple."
   ]
  },
  {
   "cell_type": "code",
   "execution_count": 75,
   "id": "4add36e5-80e0-4df5-8241-dfea5526e944",
   "metadata": {},
   "outputs": [
    {
     "name": "stdout",
     "output_type": "stream",
     "text": [
      "[['1', '2', '3']]\n"
     ]
    }
   ],
   "source": [
    "tupple=[[('1', 23), ('2', 20), ('3', 15) ]]  # decalred tupple as a tuple\n",
    "new = [[item[0] for item in inner] for inner in tupple]   #using nested for loop we can get the first element from the nested tuple\n",
    "print(new)   # desplay the result"
   ]
  },
  {
   "cell_type": "markdown",
   "id": "6f1c7acb-0d11-4117-9dcf-75430319be4c",
   "metadata": {},
   "source": [
    "17. Create a tuple with a single element."
   ]
  },
  {
   "cell_type": "code",
   "execution_count": 80,
   "id": "a3efebde-af93-470d-9d25-a3f73e0e6794",
   "metadata": {},
   "outputs": [
    {
     "name": "stdout",
     "output_type": "stream",
     "text": [
      "<class 'tuple'>\n",
      "('Shravan',)\n"
     ]
    }
   ],
   "source": [
    "tuple1 = (\"Shravan\",) # decalred tuple1 as a tuple which having only one element\n",
    "print(type(tuple1))    # show the type of \n",
    "print(tuple1)          # print the tuple"
   ]
  },
  {
   "cell_type": "markdown",
   "id": "88904beb-cf8a-4ec9-b296-8db2587cfd4d",
   "metadata": {},
   "source": [
    "18. Compare two tuples."
   ]
  },
  {
   "cell_type": "code",
   "execution_count": 83,
   "id": "f1317480-2f68-4cce-a311-d2adf4bbed30",
   "metadata": {},
   "outputs": [
    {
     "name": "stdout",
     "output_type": "stream",
     "text": [
      "True\n",
      "False\n",
      "False\n"
     ]
    }
   ],
   "source": [
    "tuple1 = (1, 2, 3)        #declared tuple1 as a tuple\n",
    "tuple2 = (4, 5, 6)\n",
    "print(tuple1 < tuple2)  #  compared using < operator\n",
    "print(tuple1 > tuple2)  #  compared using > operator\n",
    "print(tuple1 == tuple2) #  compared using == operator"
   ]
  },
  {
   "cell_type": "markdown",
   "id": "fbf7f271-49db-494e-a619-a8b9155eee43",
   "metadata": {},
   "source": [
    "19. Delete a tuple."
   ]
  },
  {
   "cell_type": "code",
   "execution_count": 85,
   "id": "7fe2c788-93f1-4ed6-a3d2-095618a943d9",
   "metadata": {},
   "outputs": [
    {
     "name": "stdout",
     "output_type": "stream",
     "text": [
      "(1, 3, 4, 5, 6, 8)\n"
     ]
    },
    {
     "ename": "NameError",
     "evalue": "name 'tuple1' is not defined",
     "output_type": "error",
     "traceback": [
      "\u001b[0;31m---------------------------------------------------------------------------\u001b[0m",
      "\u001b[0;31mNameError\u001b[0m                                 Traceback (most recent call last)",
      "Cell \u001b[0;32mIn[85], line 4\u001b[0m\n\u001b[1;32m      2\u001b[0m \u001b[38;5;28mprint\u001b[39m(tuple1)\n\u001b[1;32m      3\u001b[0m \u001b[38;5;28;01mdel\u001b[39;00m(tuple1)\n\u001b[0;32m----> 4\u001b[0m \u001b[38;5;28mprint\u001b[39m(\u001b[43mtuple1\u001b[49m)\n",
      "\u001b[0;31mNameError\u001b[0m: name 'tuple1' is not defined"
     ]
    }
   ],
   "source": [
    "tuple1 = (1,3,4,5,6,8)  # declared tuple1 as a tuple\n",
    "print(tuple1)           \n",
    "del(tuple1)\n",
    "print(tuple1)  # after deteted the tuple1( showing error because tuple is deleted)"
   ]
  },
  {
   "cell_type": "markdown",
   "id": "c92a034f-04a6-4a21-8430-15cca98275cd",
   "metadata": {},
   "source": [
    "20. Slice a tuple."
   ]
  },
  {
   "cell_type": "code",
   "execution_count": 86,
   "id": "c83a0b11-bbc9-4ea0-ba0a-988d47e337c0",
   "metadata": {},
   "outputs": [
    {
     "name": "stdout",
     "output_type": "stream",
     "text": [
      "('a', 'b', 'c', 'd', 'e', 'f')\n",
      "('b', 'd', 'f', 'h')\n",
      "('j', 'h')\n"
     ]
    }
   ],
   "source": [
    "tuple1= ('a','b','c','d','e','f','g','h','i','j') #declared tuple1 as a tuple\n",
    "print(tuple1[0:6])                               # using : operator we can slice the tuple , need to give the start and end and step for that\n",
    "print(tuple1[1:9:2])\n",
    "print(tuple1[-1:-5:-2])    "
   ]
  },
  {
   "cell_type": "markdown",
   "id": "b3c30700-62b1-4f28-8ef0-1a38a2fad875",
   "metadata": {},
   "source": [
    "21. Find the maximum value in a tuple."
   ]
  },
  {
   "cell_type": "code",
   "execution_count": 87,
   "id": "34170504-e0e7-4629-a491-225dedbd6721",
   "metadata": {},
   "outputs": [
    {
     "name": "stdout",
     "output_type": "stream",
     "text": [
      "200\n"
     ]
    }
   ],
   "source": [
    "tuple1 = (22,33,44,5,66,77,89,99,200,50)   #declared a tuple1 as a tuple\n",
    "maxNumber = max(tuple1)                    #using max function find the maximum number from tuple\n",
    "print(maxNumber)                              # print the maximum number"
   ]
  },
  {
   "cell_type": "markdown",
   "id": "9d93d439-1a74-428e-9080-36d58df7df0b",
   "metadata": {},
   "source": [
    "22. Find the minimum value in a tuple.\n"
   ]
  },
  {
   "cell_type": "code",
   "execution_count": 88,
   "id": "e36bbee5-4c83-455f-9b9f-874ef5588f18",
   "metadata": {},
   "outputs": [
    {
     "name": "stdout",
     "output_type": "stream",
     "text": [
      "5\n"
     ]
    }
   ],
   "source": [
    "tuple1 = (22,33,44,5,66,77,89,99,200,50)   #declared a tuple1 as a tuple\n",
    "minNumber = min(tuple1)                    #using min function find the minimum number from tuple\n",
    "print(minNumber)                              # print the minimum number"
   ]
  },
  {
   "cell_type": "markdown",
   "id": "cec7ca4d-81cd-4435-9fe8-7bd3d7dcb393",
   "metadata": {},
   "source": [
    "23. Convert a string to a tuple of characters."
   ]
  },
  {
   "cell_type": "code",
   "execution_count": null,
   "id": "e15c2794-d8aa-417f-8f64-8edc3fbac5ca",
   "metadata": {},
   "outputs": [
    {
     "name": "stdout",
     "output_type": "stream",
     "text": [
      "('S', 'h', 'r', 'a', 'v', 'a', 'n', ' ', 'U', 'b', 'a', 'l', 'e')\n"
     ]
    }
   ],
   "source": [
    "string = \"Shravan Ubale\" # dclared string as a str\n",
    "tuple1 = tuple(string)   # USING Tuple converted into the tuple of charactor\n",
    "print(tuple1)              # display result"
   ]
  },
  {
   "cell_type": "markdown",
   "id": "4e95d8c2-5227-450d-bcea-a0f3e8d8e8c9",
   "metadata": {},
   "source": [
    "24. Convert a tuple of characters to a string."
   ]
  },
  {
   "cell_type": "code",
   "execution_count": 104,
   "id": "44ce71cc-c75d-44f2-8791-6a276c63ce96",
   "metadata": {},
   "outputs": [
    {
     "name": "stdout",
     "output_type": "stream",
     "text": [
      "Kundan\n"
     ]
    }
   ],
   "source": [
    "tuple1 = ('K','u','n','d','a','n')   #decalred tuple1 as a tuple\n",
    "string = ''.join(tuple1)             #using join method we can join the tuple charator\n",
    "\n",
    "print(str(string))         # display string"
   ]
  },
  {
   "cell_type": "markdown",
   "id": "6d708b95-c1c3-4d9b-9b5e-58b0380ae1c3",
   "metadata": {},
   "source": [
    "25. Create a tuple from multiple data types."
   ]
  },
  {
   "cell_type": "code",
   "execution_count": 96,
   "id": "b48400ef-0fc7-4e50-b2b1-b528c270a094",
   "metadata": {},
   "outputs": [
    {
     "name": "stdout",
     "output_type": "stream",
     "text": [
      "<class 'tuple'>\n",
      "('Ketaki', 34, True, 3.6)\n"
     ]
    }
   ],
   "source": [
    "tuple1 = (\"Ketaki\", 34, True, 3.6) # created tuple1 having multiple data types\n",
    "a = type(tuple1) # display the type of tuple1\n",
    "print(a)\n",
    "print(tuple1)                      # print the tuple"
   ]
  },
  {
   "cell_type": "markdown",
   "id": "057a7418-e40b-4116-a957-13977721645e",
   "metadata": {},
   "source": [
    "26. Check if two tuples are identical."
   ]
  },
  {
   "cell_type": "code",
   "execution_count": 108,
   "id": "68e0222f-c549-4485-a8a2-df6b6b17605f",
   "metadata": {},
   "outputs": [
    {
     "name": "stdout",
     "output_type": "stream",
     "text": [
      "Are tuples identical?\n",
      "True\n"
     ]
    }
   ],
   "source": [
    "tuple1 = (11,12,13,14,15)   #decalred tuple1 and tuple2 as a tuple\n",
    "tuple2 = (11,12,13,14,15)\n",
    "result = tuple1 == tuple2    # checking the two tuples are identical or not\n",
    "\n",
    "print(\"Are tuples identical?\")  # display result\n",
    "print(result)"
   ]
  },
  {
   "cell_type": "markdown",
   "id": "8000a660-d316-4c16-bc39-d72e0caaadec",
   "metadata": {},
   "source": [
    "27. Sort the elements of a tuple."
   ]
  },
  {
   "cell_type": "code",
   "execution_count": 111,
   "id": "16c003dd-d693-4994-b6e3-13be048b7873",
   "metadata": {},
   "outputs": [
    {
     "name": "stdout",
     "output_type": "stream",
     "text": [
      "[11, 22, 33, 44, 55, 66, 77, 88, 99]\n"
     ]
    }
   ],
   "source": [
    "tuple1 = (11,33,22,55,44,66,77,99,88)   # declared tuple1 as a tuple\n",
    "sortedResult = sorted(tuple1)            # using sorted function we can sort the ascending ordered by default\n",
    "print(sortedResult)                    # print the sorted  tuple"
   ]
  },
  {
   "cell_type": "markdown",
   "id": "4ecceb0f-f25f-4847-a3aa-43bceb95d939",
   "metadata": {},
   "source": [
    "28. Convert a tuple of integers to a tuple of strings."
   ]
  },
  {
   "cell_type": "code",
   "execution_count": 117,
   "id": "235f2750-9fe0-4fb3-84aa-96bbf288d727",
   "metadata": {},
   "outputs": [
    {
     "name": "stdout",
     "output_type": "stream",
     "text": [
      "<class 'str'>\n",
      "(111, 222, 333, 444, 555, 666)\n"
     ]
    }
   ],
   "source": [
    "tuple1 = (111,222,333,444,555,666)\n",
    "tuple2 = str(tuple1)\n",
    "print(type(tuple2))\n",
    "print(tuple2)"
   ]
  },
  {
   "cell_type": "markdown",
   "id": "35bc1f95-a7d1-4cd0-8f02-3deb91546043",
   "metadata": {},
   "source": [
    "29. Convert a tuple of strings to a tuple of integers."
   ]
  },
  {
   "cell_type": "code",
   "execution_count": 127,
   "id": "8689c6fb-7b09-46e2-a364-642448bf8b31",
   "metadata": {},
   "outputs": [
    {
     "name": "stdout",
     "output_type": "stream",
     "text": [
      "The tuple in integer : (7, 8, 9)\n"
     ]
    }
   ],
   "source": [
    "tuple1 = \"(7, 8, 9)\"   # initializing string\n",
    "\n",
    "res = tuple(int(num) for num in tuple1.replace('(', '').replace(')', '').replace('...', '').split(', ')) # Using tuple() + int() + replace() + split()\n",
    " \n",
    "print(\"The tuple in integer : \" + str(res))  # printing result"
   ]
  },
  {
   "cell_type": "markdown",
   "id": "d24c5e05-2070-4580-b674-914700f99777",
   "metadata": {},
   "source": [
    "30. Merge two tuples."
   ]
  },
  {
   "cell_type": "code",
   "execution_count": 129,
   "id": "a83b168c-830b-4b69-8d24-9500db743baa",
   "metadata": {},
   "outputs": [
    {
     "name": "stdout",
     "output_type": "stream",
     "text": [
      "(1, 33, 66, 77, 88, 44, 66, 77, 99)\n"
     ]
    }
   ],
   "source": [
    "t1 = (1,33,66,77,88) # declared 2 tuple t1 and t2\n",
    "t2 = (44,66,77,99)\n",
    "t3 = t1+t2          # using + oprator we can merge two tuple and stored the result in t3 variable\n",
    "print(t3)          # print after merging 2 tuple"
   ]
  },
  {
   "cell_type": "markdown",
   "id": "8c8b9f98-90b9-4ac7-befe-bd4b5ced4228",
   "metadata": {},
   "source": [
    "31. Flatten a nested tuple."
   ]
  },
  {
   "cell_type": "code",
   "execution_count": 131,
   "id": "77142684-846d-4a57-84de-810274e8e2e1",
   "metadata": {},
   "outputs": [
    {
     "name": "stdout",
     "output_type": "stream",
     "text": [
      "The original tuple : ((4, 5), ((4, 7), (8, 9), (10, 11)), ((9, 10), (3, 4)))\n",
      "The flattened tuple : ((4, 5), (4, 7), (8, 9), (10, 11), (9, 10), (3, 4))\n"
     ]
    }
   ],
   "source": [
    "def flatten(test_tuple):             # Using recursion + isinstance()\n",
    "     \n",
    "    if isinstance(test_tuple, tuple) and len(test_tuple) == 2 and not isinstance(test_tuple[0], tuple):\n",
    "        res = [test_tuple]\n",
    "        return tuple(res)\n",
    " \n",
    "    res = []\n",
    "    for sub in test_tuple:\n",
    "        res += flatten(sub)\n",
    "    return tuple(res)\n",
    " \n",
    "test_tuple = ((4, 5), ((4, 7), (8, 9), (10, 11)), (((9, 10), (3, 4))))     # initializing nested tuple\n",
    " \n",
    "print(\"The original tuple : \" + str(test_tuple))                  # printing original tuple\n",
    " \n",
    "res = flatten(test_tuple)\n",
    " \n",
    "print(\"The flattened tuple : \" + str(res))             # printing result"
   ]
  },
  {
   "cell_type": "markdown",
   "id": "43b01728-2af2-4a8d-9385-9f1abd5676d6",
   "metadata": {},
   "source": [
    "32. Create a tuple of the first 5 prime numbers."
   ]
  },
  {
   "cell_type": "code",
   "execution_count": 3,
   "id": "6a75df2b-704c-461c-8556-d0c4ef6432ab",
   "metadata": {},
   "outputs": [
    {
     "name": "stdout",
     "output_type": "stream",
     "text": [
      "(2, 3, 5, 7, 11)\n"
     ]
    }
   ],
   "source": [
    "prime_numbers = (2, 3, 5, 7, 11)\n",
    "\n",
    "print(prime_numbers)\n"
   ]
  },
  {
   "cell_type": "markdown",
   "id": "be0f9ad8-baeb-49e2-bfe9-b3234ccfac9c",
   "metadata": {},
   "source": [
    "33. Check if a tuple is a palindrome."
   ]
  },
  {
   "cell_type": "code",
   "execution_count": 4,
   "id": "aa0e97cb-0f52-4b90-bfcb-5ad30879e029",
   "metadata": {},
   "outputs": [
    {
     "name": "stdout",
     "output_type": "stream",
     "text": [
      "Tuple 1 is a palindrome.\n",
      "Tuple 2 is not a palindrome.\n"
     ]
    }
   ],
   "source": [
    "def is_palindrome_tuple(t):\n",
    "    return t == t[::-1]\n",
    "\n",
    "# Test cases\n",
    "tuple1 = (1, 2, 3, 2, 1)\n",
    "tuple2 = (1, 2, 3, 4, 5)\n",
    "\n",
    "if is_palindrome_tuple(tuple1):\n",
    "    print(\"Tuple 1 is a palindrome.\")\n",
    "else:\n",
    "    print(\"Tuple 1 is not a palindrome.\")\n",
    "\n",
    "if is_palindrome_tuple(tuple2):\n",
    "    print(\"Tuple 2 is a palindrome.\")\n",
    "else:\n",
    "    print(\"Tuple 2 is not a palindrome.\")\n"
   ]
  },
  {
   "cell_type": "markdown",
   "id": "774d38ee-70ea-44c6-940b-ecb39e5b09b9",
   "metadata": {},
   "source": [
    "34. Create a tuple of squares of numbers from 1 to 5."
   ]
  },
  {
   "cell_type": "markdown",
   "id": "48065ca0-0b95-45aa-985c-4f475b171cdb",
   "metadata": {},
   "source": [
    "nums = (1, 2, 3, 4, 5)\n",
    "\n",
    "print(\"Square: \")\n",
    "square_nums = tuple(map(lambda x: x ** 2, nums))  #using map method iterate the nums and find the square of each and craeteed as a tuple\n",
    "print(square_nums)"
   ]
  },
  {
   "cell_type": "markdown",
   "id": "2a5fbc46-b188-4f5c-8d0e-e5796e44a96d",
   "metadata": {},
   "source": [
    "35. Filter out all even numbers from a tuple."
   ]
  },
  {
   "cell_type": "code",
   "execution_count": 26,
   "id": "039c4ce6-4333-4e1b-a72c-2b2ef42faebe",
   "metadata": {},
   "outputs": [
    {
     "name": "stdout",
     "output_type": "stream",
     "text": [
      "Even number from the tuple:  (2, 4, 6, 8, 10, 22, 44, 56, 78, 90, 22, 54)\n"
     ]
    }
   ],
   "source": [
    "nums = (1,2,3,4,5,6,7,8,9,10,11,22,33,44,56,78,90,22,33,54,87) # created nums as a tuple\n",
    "even = tuple(filter(lambda x:x % 2 == 0, nums))                   # using filter function check the number is even or not\n",
    "print(\"Even number from the tuple: \",even)                          # print only even numbers"
   ]
  },
  {
   "cell_type": "markdown",
   "id": "368e41a1-8cf4-4e9d-82fe-96e57492a241",
   "metadata": {},
   "source": [
    "36. Multiply all elements in a tuple by 2."
   ]
  },
  {
   "cell_type": "code",
   "execution_count": 33,
   "id": "0648ef21-ea95-4524-b8cd-232a9118d92d",
   "metadata": {},
   "outputs": [
    {
     "name": "stdout",
     "output_type": "stream",
     "text": [
      "Multiply with 2 all numbers:  (2, 4, 6, 8, 10, 12, 14, 16, 18, 20, 22, 44, 66, 88, 112, 156, 180, 44, 66, 108, 174)\n"
     ]
    }
   ],
   "source": [
    "nums = (1,2,3,4,5,6,7,8,9,10,11,22,33,44,56,78,90,22,33,54,87) # created nums as a tuple\n",
    "mul2 = tuple(map(lambda x:x*2, nums))              # using map function multiply each element from tuple\n",
    "print(\"Multiply with 2 all numbers: \",mul2)       # print the result"
   ]
  },
  {
   "cell_type": "markdown",
   "id": "14395c5c-810e-4470-962e-2799e8ab7fa0",
   "metadata": {},
   "source": [
    "37. Create a tuple of random numbers."
   ]
  },
  {
   "cell_type": "code",
   "execution_count": 34,
   "id": "31b361b1-8732-42ec-b976-25504282342a",
   "metadata": {},
   "outputs": [
    {
     "name": "stdout",
     "output_type": "stream",
     "text": [
      "(82, 27, 95, 8, 96)\n"
     ]
    }
   ],
   "source": [
    "import random\n",
    "\n",
    "# Generate a tuple of 5 random integers between 1 and 100\n",
    "random_numbers = tuple(random.randint(1, 100) for _ in range(5))\n",
    "\n",
    "# Print the tuple of random numbers\n",
    "print(random_numbers)\n"
   ]
  },
  {
   "cell_type": "markdown",
   "id": "8f106e17-672e-4bf8-8739-83186d8f7daf",
   "metadata": {},
   "source": [
    "38. Check if a tuple is sorted."
   ]
  },
  {
   "cell_type": "code",
   "execution_count": 35,
   "id": "c0e0caa8-f675-4fdf-a055-a9625e6a074e",
   "metadata": {},
   "outputs": [
    {
     "name": "stdout",
     "output_type": "stream",
     "text": [
      "Tuple 1 is sorted.\n",
      "Tuple 2 is not sorted.\n"
     ]
    }
   ],
   "source": [
    "def is_sorted_tuple(t):\n",
    "    return t == tuple(sorted(t))\n",
    "\n",
    "# Test cases\n",
    "tuple1 = (1, 2, 3, 4, 5)\n",
    "tuple2 = (5, 4, 3, 2, 1)\n",
    "\n",
    "if is_sorted_tuple(tuple1):\n",
    "    print(\"Tuple 1 is sorted.\")\n",
    "else:\n",
    "    print(\"Tuple 1 is not sorted.\")\n",
    "\n",
    "if is_sorted_tuple(tuple2):\n",
    "    print(\"Tuple 2 is sorted.\")\n",
    "else:\n",
    "    print(\"Tuple 2 is not sorted.\")\n"
   ]
  },
  {
   "cell_type": "markdown",
   "id": "0163a511-bfbe-48d5-88f1-0ce19496fa42",
   "metadata": {},
   "source": [
    "39. Rotate a tuple to the left by `n` positions."
   ]
  },
  {
   "cell_type": "code",
   "execution_count": 36,
   "id": "4fd7b336-9dbe-45bb-9405-25679a6dd609",
   "metadata": {},
   "outputs": [
    {
     "name": "stdout",
     "output_type": "stream",
     "text": [
      "Original Tuple: (1, 2, 3, 4, 5)\n",
      "Rotated Left by 2 positions: (3, 4, 5, 1, 2)\n"
     ]
    }
   ],
   "source": [
    "def rotate_left_tuple(t, n):\n",
    "    n = n % len(t)  # Ensure n is within the range of the tuple's length\n",
    "    return t[n:] + t[:n]\n",
    "\n",
    "# Test case\n",
    "original_tuple = (1, 2, 3, 4, 5)\n",
    "n = 2  # Rotate left by 2 positions\n",
    "\n",
    "rotated_tuple = rotate_left_tuple(original_tuple, n)\n",
    "print(\"Original Tuple:\", original_tuple)\n",
    "print(f\"Rotated Left by {n} positions:\", rotated_tuple)\n"
   ]
  },
  {
   "cell_type": "markdown",
   "id": "d3605013-e9ee-4bd9-96d2-eff891514110",
   "metadata": {},
   "source": [
    "40. Rotate a tuple to the right by `n` positions."
   ]
  },
  {
   "cell_type": "code",
   "execution_count": 37,
   "id": "3c8704ae-5477-4787-be58-4dba7c4f5372",
   "metadata": {},
   "outputs": [
    {
     "name": "stdout",
     "output_type": "stream",
     "text": [
      "Original Tuple: (1, 2, 3, 4, 5)\n",
      "Rotated Right by 2 positions: (4, 5, 1, 2, 3)\n"
     ]
    }
   ],
   "source": [
    "def rotate_right_tuple(t, n):\n",
    "    n = n % len(t)  # Ensure n is within the range of the tuple's length\n",
    "    return t[-n:] + t[:-n]\n",
    "\n",
    "# Test case\n",
    "original_tuple = (1, 2, 3, 4, 5)\n",
    "n = 2  # Rotate right by 2 positions\n",
    "\n",
    "rotated_tuple = rotate_right_tuple(original_tuple, n)\n",
    "print(\"Original Tuple:\", original_tuple)\n",
    "print(f\"Rotated Right by {n} positions:\", rotated_tuple)\n"
   ]
  },
  {
   "cell_type": "markdown",
   "id": "1ac0b210-f901-4373-a6de-63489c3cbe69",
   "metadata": {},
   "source": [
    "41. Create a tuple of the first 5 Fibonacci numbers."
   ]
  },
  {
   "cell_type": "code",
   "execution_count": 38,
   "id": "d72765a4-b255-4ca3-8e7e-c15a1bf7e716",
   "metadata": {},
   "outputs": [
    {
     "name": "stdout",
     "output_type": "stream",
     "text": [
      "The first 5 Fibonacci numbers: (0, 1, 1, 2, 3)\n"
     ]
    }
   ],
   "source": [
    "def generate_fibonacci(n):\n",
    "    fibonacci_sequence = []\n",
    "    a, b = 0, 1\n",
    "\n",
    "    for _ in range(n):\n",
    "        fibonacci_sequence.append(a)\n",
    "        a, b = b, a + b\n",
    "\n",
    "    return tuple(fibonacci_sequence)\n",
    "\n",
    "# Generate a tuple of the first 5 Fibonacci numbers\n",
    "fibonacci_tuple = generate_fibonacci(5)\n",
    "\n",
    "# Print the tuple\n",
    "print(\"The first 5 Fibonacci numbers:\", fibonacci_tuple)\n"
   ]
  },
  {
   "cell_type": "markdown",
   "id": "50a8349c-6bef-4185-b93b-618d6405625f",
   "metadata": {},
   "source": [
    "42. Create a tuple from user input."
   ]
  },
  {
   "cell_type": "code",
   "execution_count": 39,
   "id": "412147cc-1fe8-41ec-a91a-8f7dc934ab48",
   "metadata": {},
   "outputs": [
    {
     "name": "stdin",
     "output_type": "stream",
     "text": [
      "Enter a number: 7\n"
     ]
    },
    {
     "name": "stdout",
     "output_type": "stream",
     "text": [
      "('7',)\n"
     ]
    },
    {
     "data": {
      "text/plain": [
       "tuple"
      ]
     },
     "execution_count": 39,
     "metadata": {},
     "output_type": "execute_result"
    }
   ],
   "source": [
    "x = tuple(input(\"Enter a number:\"))\n",
    "print(x)\n",
    "type(x)"
   ]
  },
  {
   "cell_type": "code",
   "execution_count": 41,
   "id": "efd8ed62-3a9c-45da-8a63-7d8c9ffee445",
   "metadata": {},
   "outputs": [
    {
     "name": "stdin",
     "output_type": "stream",
     "text": [
      "Enter elements separated by commas:  1,2,3,4,5\n"
     ]
    },
    {
     "name": "stdout",
     "output_type": "stream",
     "text": [
      "User's Tuple: ('1', '2', '3', '4', '5')\n"
     ]
    },
    {
     "data": {
      "text/plain": [
       "tuple"
      ]
     },
     "execution_count": 41,
     "metadata": {},
     "output_type": "execute_result"
    }
   ],
   "source": [
    "# Input the elements from the user as a comma-separated string\n",
    "user_input = input(\"Enter elements separated by commas: \")\n",
    "\n",
    "# Split the input string into a list\n",
    "elements_list = user_input.split(',')\n",
    "\n",
    "# Convert the list into a tuple\n",
    "user_tuple = tuple(elements_list)\n",
    "\n",
    "# Print the resulting tuple\n",
    "print(\"User's Tuple:\", user_tuple)\n",
    "type(user_tuple)\n"
   ]
  },
  {
   "cell_type": "markdown",
   "id": "64120d19-de78-4ba3-a9e6-65b4bb305cff",
   "metadata": {},
   "source": [
    "43. Swap two elements in a tuple."
   ]
  },
  {
   "cell_type": "code",
   "execution_count": 44,
   "id": "092684e4-4615-4727-b1e2-8d48dfd650b3",
   "metadata": {},
   "outputs": [
    {
     "name": "stdout",
     "output_type": "stream",
     "text": [
      "(8, 5)\n",
      "(2, 4)\n"
     ]
    }
   ],
   "source": [
    "t1 = (2,4)  \n",
    "t2 = (8,5)\n",
    "t1 , t2 = t2, t1  #swap t1 to t2 and from t2 to t1  \n",
    "print(t1) # print the swaped tuple\n",
    "print(t2)"
   ]
  },
  {
   "cell_type": "markdown",
   "id": "d9be067d-bd73-45b7-a6c4-bedf7aee59b4",
   "metadata": {},
   "source": [
    "44. Reverse the elements of a tuple."
   ]
  },
  {
   "cell_type": "code",
   "execution_count": 45,
   "id": "329d7140-d0a9-4b46-9dd3-72e6a48ebb8b",
   "metadata": {},
   "outputs": [
    {
     "name": "stdout",
     "output_type": "stream",
     "text": [
      "('k', 'e', 'e', 'g', 'f', 'd', 'a', 'z')\n"
     ]
    }
   ],
   "source": [
    "def Reverse(tuples):           # Reverse function take the tuple as a argument\n",
    "    new_tup = tuples[::-1]      #using range reverse \n",
    "    return new_tup             # return function\n",
    "     \n",
    "tuples = ('z','a','d','f','g','e','e','k')  # tuple created\n",
    "print(Reverse(tuples))     # tuple pass as an arguments to the Reverse function"
   ]
  },
  {
   "cell_type": "markdown",
   "id": "01118675-3492-454a-bdaf-5d7c84bc8410",
   "metadata": {},
   "source": [
    "45. Create a tuple of the first `n` powers of 2."
   ]
  },
  {
   "cell_type": "code",
   "execution_count": 46,
   "id": "0ab89f84-f142-40b0-bf6d-294b308b3de0",
   "metadata": {},
   "outputs": [
    {
     "name": "stdin",
     "output_type": "stream",
     "text": [
      "Enter the value of n:  8\n"
     ]
    },
    {
     "name": "stdout",
     "output_type": "stream",
     "text": [
      "Tuple of the first 8 powers of 2: (1, 2, 4, 8, 16, 32, 64, 128)\n"
     ]
    }
   ],
   "source": [
    "# Input the value of n from the user\n",
    "n = int(input(\"Enter the value of n: \"))\n",
    "\n",
    "# Create a tuple of the first n powers of 2\n",
    "powers_of_2_tuple = tuple(2**i for i in range(n))\n",
    "\n",
    "# Print the tuple\n",
    "print(\"Tuple of the first\", n, \"powers of 2:\", powers_of_2_tuple)\n"
   ]
  },
  {
   "cell_type": "markdown",
   "id": "4d8b0083-5cc3-4349-bab3-56e445354da5",
   "metadata": {},
   "source": [
    "46. Find the longest string in a tuple of strings."
   ]
  },
  {
   "cell_type": "code",
   "execution_count": 47,
   "id": "8bc869ea-9b59-4cae-a2f1-2b3b5c9dcd92",
   "metadata": {},
   "outputs": [
    {
     "name": "stdout",
     "output_type": "stream",
     "text": [
      "The longest string is: elderberry\n"
     ]
    }
   ],
   "source": [
    "# Create a tuple of strings\n",
    "my_tuple = (\"apple\", \"banana\", \"cherry\", \"date\", \"elderberry\")\n",
    "\n",
    "# Find the longest string using the max function and len as the key function\n",
    "longest_string = max(my_tuple, key=len)\n",
    "\n",
    "# Print the longest string\n",
    "print(\"The longest string is:\", longest_string)\n"
   ]
  },
  {
   "cell_type": "markdown",
   "id": "7369557f-75a8-408a-b6e5-374824c3707b",
   "metadata": {},
   "source": [
    "47. Find the shortest string in a tuple of strings.\n"
   ]
  },
  {
   "cell_type": "code",
   "execution_count": 48,
   "id": "f8549cce-7e6b-41db-ba76-958ce7d03f5b",
   "metadata": {},
   "outputs": [
    {
     "name": "stdout",
     "output_type": "stream",
     "text": [
      "The longest string is: date\n"
     ]
    }
   ],
   "source": [
    "# Create a tuple of strings\n",
    "my_tuple = (\"apple\", \"banana\", \"cherry\", \"date\", \"elderberry\")\n",
    "\n",
    "# Find the shortest string using the min function and len as the key function\n",
    "shortest_string = min(my_tuple, key=len)\n",
    "\n",
    "# Print the longest string\n",
    "print(\"The longest string is:\", shortest_string)"
   ]
  },
  {
   "cell_type": "markdown",
   "id": "cf3e8485-a408-454f-94db-bb45f13ce7ff",
   "metadata": {},
   "source": [
    "48. Create a tuple of the first `n` triangular numbers."
   ]
  },
  {
   "cell_type": "code",
   "execution_count": 49,
   "id": "5642140b-4528-403f-aaf0-f0740db46a9d",
   "metadata": {},
   "outputs": [
    {
     "name": "stdout",
     "output_type": "stream",
     "text": [
      "(1, 3, 6, 10, 15)\n"
     ]
    }
   ],
   "source": [
    "# Function to calculate the nth triangular number\n",
    "def triangular_number(n):\n",
    "    return n * (n + 1) // 2\n",
    "\n",
    "# Specify the value of n\n",
    "n = 5  # You can change this to any positive integer\n",
    "\n",
    "# Create a tuple of the first n triangular numbers\n",
    "triangular_numbers = tuple(triangular_number(i) for i in range(1, n + 1))\n",
    "\n",
    "# Print the tuple of triangular numbers\n",
    "print(triangular_numbers)\n"
   ]
  },
  {
   "cell_type": "markdown",
   "id": "6ec24195-07a1-45ae-9e14-7f2c25cd21d3",
   "metadata": {},
   "source": [
    "49. Check if a tuple contains another tuple as a subsequence."
   ]
  },
  {
   "cell_type": "code",
   "execution_count": 50,
   "id": "70039aca-ef3d-47d6-985e-aa22fdd62811",
   "metadata": {},
   "outputs": [
    {
     "name": "stdout",
     "output_type": "stream",
     "text": [
      "Subtuple is a subsequence of the main tuple.\n"
     ]
    }
   ],
   "source": [
    "def is_subsequence(sub, main):\n",
    "    sub_len = len(sub)\n",
    "    main_len = len(main)\n",
    "    \n",
    "    # Initialize indices for sub and main tuples\n",
    "    i, j = 0, 0\n",
    "    \n",
    "    # Iterate through the main tuple\n",
    "    while i < main_len and j < sub_len:\n",
    "        if main[i] == sub[j]:\n",
    "            j += 1\n",
    "        i += 1\n",
    "    \n",
    "    # If j is equal to the length of the sub tuple, it's a subsequence\n",
    "    return j == sub_len\n",
    "\n",
    "# Example usage:\n",
    "main_tuple = (1, 2, 3, 4, 5, 6, 7)\n",
    "sub_tuple = (3, 4, 5)\n",
    "\n",
    "if is_subsequence(sub_tuple, main_tuple):\n",
    "    print(\"Subtuple is a subsequence of the main tuple.\")\n",
    "else:\n",
    "    print(\"Subtuple is not a subsequence of the main tuple.\")\n"
   ]
  },
  {
   "cell_type": "markdown",
   "id": "0499e822-1094-4382-ad5b-8e720dfb2065",
   "metadata": {},
   "source": [
    "50. Create a tuple of alternating 1s and 0s of length `n`."
   ]
  },
  {
   "cell_type": "code",
   "execution_count": 51,
   "id": "1f83db1a-ee4c-494b-ad99-80e3489142ab",
   "metadata": {},
   "outputs": [
    {
     "name": "stdout",
     "output_type": "stream",
     "text": [
      "(1, 0, 1, 0, 1, 0, 1, 0, 1, 0)\n"
     ]
    }
   ],
   "source": [
    "# Specify the value of n\n",
    "n = 10  # You can change this to the desired length\n",
    "\n",
    "# Create a tuple of alternating 1s and 0s\n",
    "alternating_tuple = tuple([1 if i % 2 == 0 else 0 for i in range(n)])\n",
    "\n",
    "# Print the tuple\n",
    "print(alternating_tuple)\n"
   ]
  },
  {
   "cell_type": "markdown",
   "id": "985b8615-24f4-4ac3-9e13-3cd1d4e3093b",
   "metadata": {},
   "source": [
    "Set Based Practice Problem :\n",
    "    1. Create a set with integers from 1 to 5.\n",
    "    "
   ]
  },
  {
   "cell_type": "code",
   "execution_count": 53,
   "id": "104704c1-14d1-456d-a937-f02079ba8c32",
   "metadata": {},
   "outputs": [
    {
     "name": "stdout",
     "output_type": "stream",
     "text": [
      "{1, 2, 3, 4, 5}\n"
     ]
    },
    {
     "data": {
      "text/plain": [
       "set"
      ]
     },
     "execution_count": 53,
     "metadata": {},
     "output_type": "execute_result"
    }
   ],
   "source": [
    "my_set = {1, 2, 3, 4, 5}\n",
    "print(my_set)\n",
    "type(my_set)"
   ]
  },
  {
   "cell_type": "markdown",
   "id": "352a8f5b-0b94-4e43-bd34-2c8bd6cd904f",
   "metadata": {},
   "source": [
    "2. Add an element to a set."
   ]
  },
  {
   "cell_type": "code",
   "execution_count": 54,
   "id": "5cb2efdf-040d-4b34-8425-c131a9e1c9bd",
   "metadata": {},
   "outputs": [
    {
     "name": "stdout",
     "output_type": "stream",
     "text": [
      "{1, 2, 3, 4, 5, 6}\n"
     ]
    }
   ],
   "source": [
    "my_set = {1, 2, 3, 4, 5}\n",
    "my_set.update({6})  # Adds the element 6 to the set\n",
    "print(my_set)"
   ]
  },
  {
   "cell_type": "markdown",
   "id": "2d41894e-9067-4821-9a3b-8686ed3087ea",
   "metadata": {},
   "source": [
    "3. Remove an element from a set."
   ]
  },
  {
   "cell_type": "code",
   "execution_count": 56,
   "id": "9007307c-ea3c-4937-9d9c-cdeae4f6b565",
   "metadata": {},
   "outputs": [
    {
     "name": "stdout",
     "output_type": "stream",
     "text": [
      "{'apple', 'cherry'}\n"
     ]
    }
   ],
   "source": [
    "fruits = {\"apple\", \"banana\", \"cherry\"} #created set\n",
    "\n",
    "fruits.remove(\"banana\")  #removed banana using remove function\n",
    "\n",
    "print(fruits) # print the updated set\n"
   ]
  },
  {
   "cell_type": "markdown",
   "id": "8616f669-f915-49b1-914f-8a6e6260c82f",
   "metadata": {},
   "source": [
    "4. Check if an element exists in a set."
   ]
  },
  {
   "cell_type": "code",
   "execution_count": 57,
   "id": "53398eb3-6ebb-452a-90dc-ebf2a5586d47",
   "metadata": {},
   "outputs": [
    {
     "name": "stdout",
     "output_type": "stream",
     "text": [
      "Yes Exist\n"
     ]
    }
   ],
   "source": [
    "days = {\"Monday\", \"Tuesday\", \"Wednesday\", \"Thursday\", \"Friday\", \"Saturday\", \"Sunday\"}\n",
    "\n",
    "if \"Monday\" in days:\n",
    "    print(\"Yes Exist\");\n",
    "else:\n",
    "    print(\"Not Exist\")"
   ]
  },
  {
   "cell_type": "markdown",
   "id": "1b71b7f4-8618-4271-9c7b-b47ef2940560",
   "metadata": {},
   "source": [
    "5. Find the length of a set without using the `len()` function."
   ]
  },
  {
   "cell_type": "code",
   "execution_count": 67,
   "id": "eb5785d4-2717-4464-8946-f41999cefbc3",
   "metadata": {},
   "outputs": [
    {
     "name": "stdout",
     "output_type": "stream",
     "text": [
      "length of set1 is:  7\n"
     ]
    }
   ],
   "source": [
    "set1 = {\"Monday\", \"Tuesday\", \"Wednesday\", \"Thursday\", \"Friday\", \"Saturday\", \"Sunday\"} # created set\n",
    "\n",
    "count = 0    #initialise count is 0\n",
    "\n",
    "for i in set1:  #iterating set1\n",
    "    count+=1    # count the lenth of set\n",
    "print(\"length of set1 is: \", count)    # print the count"
   ]
  },
  {
   "cell_type": "markdown",
   "id": "32b9f750-db35-497a-9e0a-77bb848a3d5a",
   "metadata": {},
   "source": [
    "6. Clear all elements from a set."
   ]
  },
  {
   "cell_type": "code",
   "execution_count": 72,
   "id": "ecfa7ecc-a181-4ed1-aaf8-292023e678be",
   "metadata": {},
   "outputs": [
    {
     "name": "stdout",
     "output_type": "stream",
     "text": [
      "set()\n"
     ]
    }
   ],
   "source": [
    "set1 = {\"Monday\", \"Tuesday\", \"Wednesday\", \"Thursday\", \"Friday\", \"Saturday\", \"Sunday\"} # created set\n",
    "set1.clear()  # using clear\n",
    "print(set1)  # print empty set1"
   ]
  },
  {
   "cell_type": "markdown",
   "id": "86b851ed-0e0b-4b5e-86d5-f87403a99a81",
   "metadata": {},
   "source": [
    "7. Create a set of even numbers from 1 to 10."
   ]
  },
  {
   "cell_type": "code",
   "execution_count": 82,
   "id": "eeff0dd8-91eb-4f1a-9491-fde47ce35905",
   "metadata": {},
   "outputs": [
    {
     "name": "stdout",
     "output_type": "stream",
     "text": [
      "[0, 2, 4, 6, 8]\n"
     ]
    }
   ],
   "source": [
    "even_numbers = [x for x in range(10) if x%2==0]\n",
    "print(even_numbers)\n",
    "        "
   ]
  },
  {
   "cell_type": "markdown",
   "id": "d5d9f066-9a6d-4b0c-acf5-1691b5e2fca6",
   "metadata": {},
   "source": [
    "8. Create a set of odd numbers from 1 to 10."
   ]
  },
  {
   "cell_type": "code",
   "execution_count": 83,
   "id": "53e63905-3a0a-4ee7-b017-7841b4a30efc",
   "metadata": {},
   "outputs": [
    {
     "name": "stdout",
     "output_type": "stream",
     "text": [
      "[1, 3, 5, 7, 9]\n"
     ]
    }
   ],
   "source": [
    "even_numbers = [x for x in range(10) if x%2==1]\n",
    "print(even_numbers)"
   ]
  },
  {
   "cell_type": "markdown",
   "id": "8fc3831b-ea8c-488e-878c-bd6b1de961cf",
   "metadata": {},
   "source": [
    "9. Find the union of two sets."
   ]
  },
  {
   "cell_type": "code",
   "execution_count": 85,
   "id": "fbfcb6f0-fed1-4425-8cef-f31fe70fff9c",
   "metadata": {},
   "outputs": [
    {
     "name": "stdout",
     "output_type": "stream",
     "text": [
      "{1, 2, 3, 4, 5, 6, 7, 8}\n"
     ]
    }
   ],
   "source": [
    "set1 = {1, 2, 3, 4, 5}  # declared set1 and  set2\n",
    "set2 = {4, 5, 6, 7, 8}\n",
    "\n",
    "union_set = set1 | set2  #using or union made from the two sets\n",
    "\n",
    "print(union_set)  #print union sets"
   ]
  },
  {
   "cell_type": "markdown",
   "id": "ffb3aade-ce6a-4e7a-86d4-1394f6e32717",
   "metadata": {},
   "source": [
    "10. Find the intersection of two sets."
   ]
  },
  {
   "cell_type": "code",
   "execution_count": 89,
   "id": "26265e73-3d45-4c9e-85cb-83cac886dd84",
   "metadata": {},
   "outputs": [
    {
     "name": "stdout",
     "output_type": "stream",
     "text": [
      "{4, 5}\n"
     ]
    }
   ],
   "source": [
    "set1 = {1, 2, 3, 4, 5}  #declared set1 and  set2\n",
    "set2 = {4, 5, 6, 7, 8}\n",
    "\n",
    "intersection_set = set1 & set2   #using '&' operator intersection made from the two sets\n",
    "\n",
    "print(intersection_set)  # print result\n"
   ]
  },
  {
   "cell_type": "markdown",
   "id": "9591abb3-75de-4f56-bbe8-89e5cb4aed59",
   "metadata": {},
   "source": [
    "11. Find the difference between two sets."
   ]
  },
  {
   "cell_type": "code",
   "execution_count": 88,
   "id": "91dede85-e603-4229-a685-a16375973cb9",
   "metadata": {},
   "outputs": [
    {
     "name": "stdout",
     "output_type": "stream",
     "text": [
      "{1, 2, 3}\n"
     ]
    }
   ],
   "source": [
    "set1 = {1, 2, 3, 4, 5}\n",
    "set2 = {4, 5, 6, 7, 8}\n",
    "\n",
    "difference_set = set1 - set2\n",
    "\n",
    "print(difference_set)\n"
   ]
  },
  {
   "cell_type": "markdown",
   "id": "e00ec5cd-d074-4a5b-abb6-45611ce27d5f",
   "metadata": {},
   "source": [
    "12. Check if a set is a subset of another set."
   ]
  },
  {
   "cell_type": "code",
   "execution_count": 91,
   "id": "9ca6e347-8dc2-45af-8974-af2dd048c1e6",
   "metadata": {},
   "outputs": [
    {
     "name": "stdout",
     "output_type": "stream",
     "text": [
      "set1 is a subset of set2\n"
     ]
    }
   ],
   "source": [
    "set1 = {1, 2, 3}\n",
    "set2 = {1, 2, 3, 4, 5}\n",
    "\n",
    "# Check if set1 is a subset of set2\n",
    "is_subset = set1 <= set2\n",
    "\n",
    "if is_subset:\n",
    "    print(\"set1 is a subset of set2\")\n",
    "else:\n",
    "    print(\"set1 is not a subset of set2\")\n"
   ]
  },
  {
   "cell_type": "markdown",
   "id": "eab4ec14-aec2-4acd-8446-a8abc6263e67",
   "metadata": {},
   "source": [
    "13. Check if a set is a superset of another set."
   ]
  },
  {
   "cell_type": "code",
   "execution_count": 92,
   "id": "f3134a68-2258-427d-bb97-3266499b13b7",
   "metadata": {},
   "outputs": [
    {
     "name": "stdout",
     "output_type": "stream",
     "text": [
      "set1 is a superset of set2\n"
     ]
    }
   ],
   "source": [
    "set1 = {1, 2, 3, 4, 5}\n",
    "set2 = {1, 2, 3}\n",
    "\n",
    "# Check if set1 is a superset of set2\n",
    "is_superset = set1 >= set2\n",
    "\n",
    "if is_superset:\n",
    "    print(\"set1 is a superset of set2\")\n",
    "else:\n",
    "    print(\"set1 is not a superset of set2\")\n"
   ]
  },
  {
   "cell_type": "markdown",
   "id": "c2e1d476-3b84-4964-b02a-7b5c5f4470ab",
   "metadata": {},
   "source": [
    "14. Create a set from a list."
   ]
  },
  {
   "cell_type": "code",
   "execution_count": 94,
   "id": "bf3f6440-1330-4878-b7a3-d4c1edbb30ec",
   "metadata": {},
   "outputs": [
    {
     "name": "stdout",
     "output_type": "stream",
     "text": [
      "{1, 2, 3, 4, 5}\n"
     ]
    }
   ],
   "source": [
    "my_list = [1, 2, 3, 4, 5]\n",
    "\n",
    "# Create a set from the list\n",
    "my_set = set(my_list)\n",
    "\n",
    "# Print the set\n",
    "print(my_set)\n"
   ]
  },
  {
   "cell_type": "markdown",
   "id": "7c37ce2e-b9bd-46bc-875b-ef168181808f",
   "metadata": {},
   "source": [
    "15. Convert a set to a list."
   ]
  },
  {
   "cell_type": "code",
   "execution_count": 96,
   "id": "974db162-98ee-469a-8b3f-813dece89cf5",
   "metadata": {},
   "outputs": [
    {
     "name": "stdout",
     "output_type": "stream",
     "text": [
      "[1, 2, 3, 4, 5]\n"
     ]
    }
   ],
   "source": [
    "my_set = {1, 2, 3, 4, 5}  # created my_set as a set\n",
    "mylist = list(my_set)     # using list my_set is converted into the list\n",
    "print(mylist)            # print the list"
   ]
  },
  {
   "cell_type": "markdown",
   "id": "424599a0-b796-42a7-931a-c45a77505c19",
   "metadata": {},
   "source": [
    "16. Remove a random element from a set."
   ]
  },
  {
   "cell_type": "code",
   "execution_count": 103,
   "id": "cfb6092b-885f-4891-a253-7452c7aa609d",
   "metadata": {},
   "outputs": [
    {
     "name": "stdout",
     "output_type": "stream",
     "text": [
      "Removed element: 1\n",
      "Updated set: {2, 3, 4, 5}\n"
     ]
    }
   ],
   "source": [
    "my_set = {1, 2, 3, 4, 5}\n",
    "\n",
    "# Remove a random element from the set\n",
    "removed_element = my_set.pop()\n",
    "\n",
    "# Print the removed element and the updated set\n",
    "print(\"Removed element:\", removed_element)\n",
    "print(\"Updated set:\", my_set)\n"
   ]
  },
  {
   "cell_type": "markdown",
   "id": "e86e7d1a-5f16-4adc-9d04-de8547751ca4",
   "metadata": {},
   "source": [
    "17. Pop an element from a set."
   ]
  },
  {
   "cell_type": "code",
   "execution_count": 104,
   "id": "06697d5f-2b34-4d36-8cad-1e7e0e54943e",
   "metadata": {},
   "outputs": [
    {
     "name": "stdout",
     "output_type": "stream",
     "text": [
      "2\n",
      "{4, 5, 6, 7, 8, 9}\n"
     ]
    }
   ],
   "source": [
    "set1 = {2,4,5,6,7,8,9}\n",
    "removed = set1.pop()\n",
    "print(removed)\n",
    "print(set1)"
   ]
  },
  {
   "cell_type": "markdown",
   "id": "92ba36f6-308b-4117-9fea-a5e15a7dceac",
   "metadata": {},
   "source": [
    "18. Check if two sets have no elements in common."
   ]
  },
  {
   "cell_type": "code",
   "execution_count": 107,
   "id": "ac21d259-6735-4a2c-b416-75846c113b5e",
   "metadata": {},
   "outputs": [
    {
     "name": "stdout",
     "output_type": "stream",
     "text": [
      "set1 and set2 have no elements in common\n"
     ]
    }
   ],
   "source": [
    "set1 = {1, 2, 3}\n",
    "set2 = {4, 5, 6}\n",
    "\n",
    "# Check if set1 and set2 have no elements in common\n",
    "are_disjoint = set1.isdisjoint(set2)\n",
    "\n",
    "if are_disjoint:\n",
    "    print(\"set1 and set2 have no elements in common\")\n",
    "else:\n",
    "    print(\"set1 and set2 have at least one element in common\")\n"
   ]
  },
  {
   "cell_type": "markdown",
   "id": "e507e5d1-1dd0-488b-9089-11b69df592a4",
   "metadata": {},
   "source": [
    "19. Find the symmetric difference between two sets."
   ]
  },
  {
   "cell_type": "code",
   "execution_count": 108,
   "id": "ad36ebc2-d036-498e-8ede-130acbf30d14",
   "metadata": {},
   "outputs": [
    {
     "name": "stdout",
     "output_type": "stream",
     "text": [
      "{1, 2, 3, 6, 7, 8}\n"
     ]
    }
   ],
   "source": [
    "set1 = {1, 2, 3, 4, 5}\n",
    "set2 = {4, 5, 6, 7, 8}\n",
    "\n",
    "symmetric_difference_set = set1 ^ set2   # using ^ operator\n",
    "\n",
    "print(symmetric_difference_set)\n"
   ]
  },
  {
   "cell_type": "code",
   "execution_count": 109,
   "id": "74b28207-f78f-4b99-bc6b-2a0bbb2fbad9",
   "metadata": {},
   "outputs": [
    {
     "name": "stdout",
     "output_type": "stream",
     "text": [
      "{1, 2, 3, 6, 7, 8}\n"
     ]
    }
   ],
   "source": [
    "set1 = {1, 2, 3, 4, 5}\n",
    "set2 = {4, 5, 6, 7, 8}\n",
    "\n",
    "symmetric_difference_set = set1.symmetric_difference(set2)  # using symmetric_difference method\n",
    "\n",
    "print(symmetric_difference_set)\n"
   ]
  },
  {
   "cell_type": "markdown",
   "id": "05e595bd-f5ba-415a-b71e-88962dd56e48",
   "metadata": {},
   "source": [
    "20. Update a set with elements from another set."
   ]
  },
  {
   "cell_type": "code",
   "execution_count": 110,
   "id": "5e1c506c-7641-4ab2-9143-7f9d6d1870ea",
   "metadata": {},
   "outputs": [
    {
     "name": "stdout",
     "output_type": "stream",
     "text": [
      "{1, 2, 3, 4, 5}\n"
     ]
    }
   ],
   "source": [
    "set1 = {1, 2, 3}\n",
    "set2 = {3, 4, 5}\n",
    "\n",
    "# Update set1 with elements from set2\n",
    "set1.update(set2)\n",
    "\n",
    "print(set1)\n"
   ]
  },
  {
   "cell_type": "markdown",
   "id": "a2336f5a-45ca-414e-8848-b585dd990154",
   "metadata": {},
   "source": [
    "21. Create a set of the first 5 prime numbers."
   ]
  },
  {
   "cell_type": "code",
   "execution_count": 111,
   "id": "0d7a4ea5-4f9d-47f9-b2fa-f6dd7ef21127",
   "metadata": {},
   "outputs": [
    {
     "name": "stdout",
     "output_type": "stream",
     "text": [
      "{2, 3, 5, 7, 11}\n"
     ]
    }
   ],
   "source": [
    "def is_prime(num):\n",
    "    if num < 2:\n",
    "        return False\n",
    "    for i in range(2, int(num ** 0.5) + 1):\n",
    "        if num % i == 0:\n",
    "            return False\n",
    "    return True\n",
    "\n",
    "# Create a set of the first 5 prime numbers\n",
    "prime_set = set()\n",
    "count = 0\n",
    "num = 2  # Start with the first prime number\n",
    "\n",
    "while count < 5:\n",
    "    if is_prime(num):\n",
    "        prime_set.add(num)\n",
    "        count += 1\n",
    "    num += 1\n",
    "\n",
    "# Print the set of prime numbers\n",
    "print(prime_set)\n"
   ]
  },
  {
   "cell_type": "markdown",
   "id": "37ee99f3-2535-40c2-bf7e-421d5094d5d1",
   "metadata": {},
   "source": [
    "22. Check if two sets are identical."
   ]
  },
  {
   "cell_type": "code",
   "execution_count": 112,
   "id": "33bf2171-6e1f-4ce4-b58c-61cb78bc78ab",
   "metadata": {},
   "outputs": [
    {
     "name": "stdout",
     "output_type": "stream",
     "text": [
      "The sets are identical.\n"
     ]
    }
   ],
   "source": [
    "set1 = {1, 2, 3, 4, 5}\n",
    "set2 = {5, 4, 3, 2, 1}\n",
    "\n",
    "are_identical = set1 == set2\n",
    "\n",
    "if are_identical:\n",
    "    print(\"The sets are identical.\")\n",
    "else:\n",
    "    print(\"The sets are not identical.\")\n"
   ]
  },
  {
   "cell_type": "code",
   "execution_count": 114,
   "id": "33252eb8-adfa-4b66-8a0d-6bd38173dab3",
   "metadata": {},
   "outputs": [
    {
     "name": "stdout",
     "output_type": "stream",
     "text": [
      "The sets are identical.\n"
     ]
    }
   ],
   "source": [
    "set1 = {1, 2, 3, 4, 5}\n",
    "set2 = {5, 4, 3, 2, 1}\n",
    "\n",
    "are_identical = set1.issubset(set2) and set2.issubset(set1)  #using issunset method\n",
    "\n",
    "if are_identical:\n",
    "    print(\"The sets are identical.\")\n",
    "else:\n",
    "    print(\"The sets are not identical.\")\n"
   ]
  },
  {
   "cell_type": "markdown",
   "id": "d6967b71-0169-4f67-9622-a3ad7f6adc27",
   "metadata": {},
   "source": [
    "23. Create a frozen set."
   ]
  },
  {
   "cell_type": "code",
   "execution_count": 115,
   "id": "4055dbf8-5841-43f6-aeae-7efc95e777d8",
   "metadata": {},
   "outputs": [
    {
     "name": "stdout",
     "output_type": "stream",
     "text": [
      "frozenset({1, 2, 3, 4, 5})\n"
     ]
    }
   ],
   "source": [
    "my_set = {1, 2, 3, 4, 5}\n",
    "my_frozen_set = frozenset(my_set) # using frozenset\n",
    "\n",
    "print(my_frozen_set)\n"
   ]
  },
  {
   "cell_type": "markdown",
   "id": "3d6a62d5-c613-482d-a1a8-e45a331de6b0",
   "metadata": {},
   "source": [
    "24. Check if a set is disjoint with another set."
   ]
  },
  {
   "cell_type": "code",
   "execution_count": 116,
   "id": "a126015e-f8a5-4a08-9294-f3f21a4183ab",
   "metadata": {},
   "outputs": [
    {
     "name": "stdout",
     "output_type": "stream",
     "text": [
      "set1 and set2 are disjoint (they have no elements in common)\n"
     ]
    }
   ],
   "source": [
    "set1 = {1, 2, 3}\n",
    "set2 = {4, 5, 6}\n",
    "\n",
    "# Check if set1 and set2 are disjoint\n",
    "are_disjoint = set1.isdisjoint(set2)\n",
    "\n",
    "if are_disjoint:\n",
    "    print(\"set1 and set2 are disjoint (they have no elements in common)\")\n",
    "else:\n",
    "    print(\"set1 and set2 have at least one element in common\")\n"
   ]
  },
  {
   "cell_type": "markdown",
   "id": "69bd1728-497c-4109-9897-1ec3dbf4a23d",
   "metadata": {},
   "source": [
    "25. Create a set of squares of numbers from 1 to 5."
   ]
  },
  {
   "cell_type": "code",
   "execution_count": 117,
   "id": "6efeaa92-dfea-420c-84f7-83519596cc7f",
   "metadata": {},
   "outputs": [
    {
     "name": "stdout",
     "output_type": "stream",
     "text": [
      "{1, 4, 9, 16, 25}\n"
     ]
    }
   ],
   "source": [
    "# Create a set of squares of numbers from 1 to 5\n",
    "squares_set = {x**2 for x in range(1, 6)}\n",
    "\n",
    "# Print the set\n",
    "print(squares_set)\n"
   ]
  },
  {
   "cell_type": "markdown",
   "id": "85bdc1cc-b382-43e4-bf06-756a604a8fcf",
   "metadata": {},
   "source": [
    "26. Filter out all even numbers from a set."
   ]
  },
  {
   "cell_type": "code",
   "execution_count": 118,
   "id": "484de7c6-7d53-4a80-892c-ea31d3083758",
   "metadata": {},
   "outputs": [
    {
     "name": "stdout",
     "output_type": "stream",
     "text": [
      "{1, 3, 5, 7, 9}\n"
     ]
    }
   ],
   "source": [
    "my_set = {1, 2, 3, 4, 5, 6, 7, 8, 9, 10}\n",
    "\n",
    "# Use a set comprehension to filter out even numbers\n",
    "filtered_set = {x for x in my_set if x % 2 != 0}\n",
    "\n",
    "# Print the filtered set\n",
    "print(filtered_set)\n"
   ]
  },
  {
   "cell_type": "markdown",
   "id": "959a6c9d-712f-462f-a840-b94e7cbee6ce",
   "metadata": {},
   "source": [
    "27. Multiply all elements in a set by 2."
   ]
  },
  {
   "cell_type": "code",
   "execution_count": 122,
   "id": "c8d36ec9-556b-426b-a30c-296abd526df4",
   "metadata": {},
   "outputs": [
    {
     "name": "stdout",
     "output_type": "stream",
     "text": [
      "{2, 4, 6, 8, 10}\n"
     ]
    }
   ],
   "source": [
    "my_set = {1, 2, 3, 4, 5}\n",
    "\n",
    "# Use a set comprehension to multiply each element by 2\n",
    "multiplied_set = {x * 2 for x in my_set}\n",
    "\n",
    "# Print the multiplied set\n",
    "print(multiplied_set)\n"
   ]
  },
  {
   "cell_type": "markdown",
   "id": "9a2029e0-0b00-4bd5-8108-9afbc1d78ef7",
   "metadata": {},
   "source": [
    "28. Create a set of random numbers."
   ]
  },
  {
   "cell_type": "code",
   "execution_count": 123,
   "id": "76ba523a-9aa8-4ea4-a178-8e9659991877",
   "metadata": {},
   "outputs": [
    {
     "name": "stdout",
     "output_type": "stream",
     "text": [
      "{66, 38, 6, 42, 75, 18, 88, 26, 28, 63}\n"
     ]
    }
   ],
   "source": [
    "import random\n",
    "\n",
    "# Specify the range and the number of random numbers you want\n",
    "min_num = 1\n",
    "max_num = 100\n",
    "num_random_numbers = 10\n",
    "\n",
    "# Create a set of random integers\n",
    "random_set = set(random.randint(min_num, max_num) for _ in range(num_random_numbers))\n",
    "\n",
    "# Print the set of random numbers\n",
    "print(random_set)\n"
   ]
  },
  {
   "cell_type": "markdown",
   "id": "16496055-a097-4674-bd1e-8d796a536b7f",
   "metadata": {},
   "source": [
    "29. Check if a set is empty."
   ]
  },
  {
   "cell_type": "code",
   "execution_count": 124,
   "id": "26ff47fc-3953-4394-a21b-676ea02ddaf0",
   "metadata": {},
   "outputs": [
    {
     "name": "stdout",
     "output_type": "stream",
     "text": [
      "The set is empty.\n"
     ]
    }
   ],
   "source": [
    "my_set = set()  # This is an empty set\n",
    "\n",
    "# Check if the set is empty\n",
    "if not my_set:\n",
    "    print(\"The set is empty.\")\n",
    "else:\n",
    "    print(\"The set is not empty.\")\n"
   ]
  },
  {
   "cell_type": "markdown",
   "id": "4d7e48b2-71a4-4e0d-9d0f-da001c77680d",
   "metadata": {},
   "source": [
    "30. Create a nested set (hint: use frozenset)."
   ]
  },
  {
   "cell_type": "code",
   "execution_count": 126,
   "id": "8e4a38ad-a4c9-4194-bc62-c79f6682e1cc",
   "metadata": {},
   "outputs": [
    {
     "name": "stdout",
     "output_type": "stream",
     "text": [
      "frozenset({frozenset({1, 2, 3}), frozenset({4, 5, 6}), frozenset({8, 9, 7})})\n"
     ]
    }
   ],
   "source": [
    "# Create a nested frozenset\n",
    "nested_frozenset = frozenset([\n",
    "    frozenset({1, 2, 3}),\n",
    "    frozenset({4, 5, 6}),\n",
    "    frozenset({7, 8, 9})\n",
    "])\n",
    "\n",
    "# Print the nested frozenset\n",
    "print(nested_frozenset)\n"
   ]
  },
  {
   "cell_type": "markdown",
   "id": "23a538d8-5680-4f1b-bceb-ddb32b8d39d2",
   "metadata": {},
   "source": [
    "31. Remove an element from a set using the discard method."
   ]
  },
  {
   "cell_type": "code",
   "execution_count": 127,
   "id": "3e818c65-4f8c-45c0-a751-32af44918c6f",
   "metadata": {},
   "outputs": [
    {
     "name": "stdout",
     "output_type": "stream",
     "text": [
      "{1, 2, 4, 5}\n"
     ]
    }
   ],
   "source": [
    "my_set = {1, 2, 3, 4, 5}\n",
    "\n",
    "# Remove an element from the set using discard\n",
    "my_set.discard(3)\n",
    "\n",
    "print(my_set)  # The set will no longer contain 3\n"
   ]
  },
  {
   "cell_type": "markdown",
   "id": "a2cb7b18-be05-4786-83bf-9ed311aa4c1c",
   "metadata": {},
   "source": [
    "32. Compare two sets."
   ]
  },
  {
   "cell_type": "code",
   "execution_count": 128,
   "id": "0da6600a-3129-488b-a6c5-54850fdba80a",
   "metadata": {},
   "outputs": [
    {
     "name": "stdout",
     "output_type": "stream",
     "text": [
      "The sets are equal.\n",
      "The sets are equal (alternate check).\n"
     ]
    }
   ],
   "source": [
    "set1 = {1, 2, 3}\n",
    "set2 = {3, 2, 1}\n",
    "\n",
    "# Using the == operator\n",
    "are_equal = set1 == set2\n",
    "\n",
    "# Using issubset() and issuperset()\n",
    "are_equal_alternate = set1.issubset(set2) and set2.issubset(set1)\n",
    "\n",
    "if are_equal:\n",
    "    print(\"The sets are equal.\")\n",
    "else:\n",
    "    print(\"The sets are not equal.\")\n",
    "\n",
    "if are_equal_alternate:\n",
    "    print(\"The sets are equal (alternate check).\")\n",
    "else:\n",
    "    print(\"The sets are not equal (alternate check).\")\n"
   ]
  },
  {
   "cell_type": "markdown",
   "id": "f0e2cbc5-c311-46ce-b4e8-cf0e54e4ab38",
   "metadata": {},
   "source": [
    "33. Create a set from a string."
   ]
  },
  {
   "cell_type": "code",
   "execution_count": 129,
   "id": "d9ede3e5-3b13-4e19-9004-2f777b6607fb",
   "metadata": {},
   "outputs": [
    {
     "name": "stdout",
     "output_type": "stream",
     "text": [
      "{'l', 'h', 'o', 'e'}\n"
     ]
    }
   ],
   "source": [
    "my_string = \"hello\"\n",
    "\n",
    "# Create a set from the string using a set comprehension\n",
    "my_set = {char for char in my_string}\n",
    "\n",
    "# Print the set\n",
    "print(my_set)\n"
   ]
  },
  {
   "cell_type": "markdown",
   "id": "93ea4178-628b-44e1-8343-03c5bcf3df17",
   "metadata": {},
   "source": [
    "34. Convert a set of strings to a set of integers."
   ]
  },
  {
   "cell_type": "code",
   "execution_count": 130,
   "id": "ba04c13d-f662-4db9-9849-c75a6e60a9e0",
   "metadata": {},
   "outputs": [
    {
     "name": "stdout",
     "output_type": "stream",
     "text": [
      "{1, 2, 3, 4, 5}\n"
     ]
    }
   ],
   "source": [
    "# Set of strings\n",
    "string_set = {\"1\", \"2\", \"3\", \"4\", \"5\"}\n",
    "\n",
    "# Convert the set of strings to a set of integers\n",
    "integer_set = {int(x) for x in string_set}\n",
    "\n",
    "# Print the set of integers\n",
    "print(integer_set)\n"
   ]
  },
  {
   "cell_type": "markdown",
   "id": "32255dab-c767-45f4-9bc7-dbc4ac293a85",
   "metadata": {},
   "source": [
    "35. Convert a set of integers to a set of strings."
   ]
  },
  {
   "cell_type": "code",
   "execution_count": 131,
   "id": "5837f9f1-cabc-46ea-8636-436128f3fad9",
   "metadata": {},
   "outputs": [
    {
     "name": "stdout",
     "output_type": "stream",
     "text": [
      "{'4', '2', '5', '3', '1'}\n"
     ]
    }
   ],
   "source": [
    "# Set of integers\n",
    "integer_set = {1, 2, 3, 4, 5}\n",
    "\n",
    "# Convert the set of integers to a set of strings\n",
    "string_set = {str(x) for x in integer_set}\n",
    "\n",
    "# Print the set of strings\n",
    "print(string_set)\n"
   ]
  },
  {
   "cell_type": "markdown",
   "id": "e33e0c58-52e2-46cf-a9fd-ee01c1dd6c13",
   "metadata": {},
   "source": [
    "36. Create a set from a tuple."
   ]
  },
  {
   "cell_type": "code",
   "execution_count": 132,
   "id": "1705706e-9072-4048-af57-d562e061a139",
   "metadata": {},
   "outputs": [
    {
     "name": "stdout",
     "output_type": "stream",
     "text": [
      "{1, 2, 3, 4, 5}\n"
     ]
    }
   ],
   "source": [
    "my_tuple = (1, 2, 3, 4, 5)\n",
    "\n",
    "# Create a set from the tuple\n",
    "my_set = set(my_tuple)\n",
    "\n",
    "# Print the set\n",
    "print(my_set)\n"
   ]
  },
  {
   "cell_type": "markdown",
   "id": "2c2c0ce0-ed45-4ac5-be69-dc0772f58130",
   "metadata": {},
   "source": [
    "37. Convert a set to a tuple."
   ]
  },
  {
   "cell_type": "code",
   "execution_count": 133,
   "id": "ec944ece-715b-42b6-b91a-9a40ff8d2d52",
   "metadata": {},
   "outputs": [
    {
     "name": "stdout",
     "output_type": "stream",
     "text": [
      "(1, 2, 3, 4, 5)\n"
     ]
    }
   ],
   "source": [
    "my_set = {1, 2, 3, 4, 5}\n",
    "\n",
    "# Convert the set to a tuple\n",
    "my_tuple = tuple(my_set)\n",
    "\n",
    "# Print the tuple\n",
    "print(my_tuple)\n"
   ]
  },
  {
   "cell_type": "markdown",
   "id": "0cdee027-9484-40ba-b66a-9d6ab94097df",
   "metadata": {},
   "source": [
    "38. Find the maximum value in a set."
   ]
  },
  {
   "cell_type": "code",
   "execution_count": 134,
   "id": "26f8c91d-52f3-4f14-8c25-71fe89a8fef6",
   "metadata": {},
   "outputs": [
    {
     "name": "stdout",
     "output_type": "stream",
     "text": [
      "Maximum value in the set: 9\n"
     ]
    }
   ],
   "source": [
    "my_set = {1, 3, 5, 7, 9}\n",
    "\n",
    "# Find the maximum value in the set using max function\n",
    "max_value = max(my_set)\n",
    "\n",
    "# Print the maximum value\n",
    "print(\"Maximum value in the set:\", max_value)\n"
   ]
  },
  {
   "cell_type": "markdown",
   "id": "b36042a3-fd40-4c7d-8f05-a9f9c58e9369",
   "metadata": {},
   "source": [
    "39. Find the minimum value in a set."
   ]
  },
  {
   "cell_type": "code",
   "execution_count": 137,
   "id": "0b36fdd1-9512-41df-a5e2-a3f3227cd7c4",
   "metadata": {},
   "outputs": [
    {
     "name": "stdout",
     "output_type": "stream",
     "text": [
      "Maximum value in the set: 1\n"
     ]
    }
   ],
   "source": [
    "my_set = {1, 3, 5, 7, 9}\n",
    "\n",
    "# Find the minimum value in the set using max function\n",
    "min_value = min(my_set)\n",
    "\n",
    "# Print the minimum value\n",
    "print(\"Maximum value in the set:\", min_value)"
   ]
  },
  {
   "cell_type": "markdown",
   "id": "e189baf1-695c-4cea-8158-7aacbe2dba40",
   "metadata": {},
   "source": [
    "40. Create a set from user input."
   ]
  },
  {
   "cell_type": "code",
   "execution_count": 1,
   "id": "48e7ee58-c7c5-44b0-abd3-d733a45d2c3a",
   "metadata": {},
   "outputs": [
    {
     "name": "stdin",
     "output_type": "stream",
     "text": [
      "Enter a comma-separated list of elements:  2,4,5,6,7\n"
     ]
    },
    {
     "name": "stdout",
     "output_type": "stream",
     "text": [
      "Set created from user input: {'7', '6', '2', '4', '5'}\n"
     ]
    }
   ],
   "source": [
    "# Take user input as a comma-separated string\n",
    "input_string = input(\"Enter a comma-separated list of elements: \")\n",
    "\n",
    "# Split the input string into a list using commas as the delimiter\n",
    "input_list = input_string.split(',')\n",
    "\n",
    "# Create a set from the input list\n",
    "input_set = set(input_list)\n",
    "\n",
    "# Print the resulting set\n",
    "print(\"Set created from user input:\", input_set)\n",
    "\n"
   ]
  },
  {
   "cell_type": "markdown",
   "id": "e6a41b43-0713-4b82-a4cc-fe73fdd62ca9",
   "metadata": {},
   "source": [
    "41. Check if the intersection of two sets is empty."
   ]
  },
  {
   "cell_type": "code",
   "execution_count": 2,
   "id": "6574f658-8359-4dab-89be-e66d789617fa",
   "metadata": {},
   "outputs": [
    {
     "name": "stdout",
     "output_type": "stream",
     "text": [
      "The intersection of set1 and set2 is not empty.\n"
     ]
    }
   ],
   "source": [
    "# Define two sets\n",
    "set1 = {1, 2, 3, 4}\n",
    "set2 = {3, 4, 5, 6}\n",
    "\n",
    "# Check if the intersection is empty\n",
    "if set1.isdisjoint(set2):\n",
    "    print(\"The intersection of set1 and set2 is empty.\")\n",
    "else:\n",
    "    print(\"The intersection of set1 and set2 is not empty.\")\n"
   ]
  },
  {
   "cell_type": "markdown",
   "id": "7f0189a4-aa41-4d18-8fe0-5c6442f80138",
   "metadata": {},
   "source": [
    "42. Create a set of the first 5 Fibonacci numbers."
   ]
  },
  {
   "cell_type": "code",
   "execution_count": 3,
   "id": "bf60c190-8d6c-473e-b76c-df99f36354ee",
   "metadata": {},
   "outputs": [
    {
     "name": "stdout",
     "output_type": "stream",
     "text": [
      "Set of the first 5 Fibonacci numbers: {0, 1, 2, 3}\n"
     ]
    }
   ],
   "source": [
    "# Initialize an empty set to store the Fibonacci numbers\n",
    "fibonacci_set = set()\n",
    "\n",
    "# Initialize the first two Fibonacci numbers\n",
    "a, b = 0, 1\n",
    "\n",
    "# Use a loop to generate the first 5 Fibonacci numbers and add them to the set\n",
    "for _ in range(5):\n",
    "    fibonacci_set.add(a)\n",
    "    a, b = b, a + b\n",
    "\n",
    "# Print the resulting set\n",
    "print(\"Set of the first 5 Fibonacci numbers:\", fibonacci_set)\n"
   ]
  },
  {
   "cell_type": "markdown",
   "id": "c2513b74-6888-4b04-8a8c-15c94a24fcf7",
   "metadata": {},
   "source": [
    "43. Remove duplicates from a list using sets."
   ]
  },
  {
   "cell_type": "code",
   "execution_count": 5,
   "id": "4c8e78f7-1316-46c8-933f-edcdc5b7a0c3",
   "metadata": {},
   "outputs": [
    {
     "name": "stdout",
     "output_type": "stream",
     "text": [
      "List without duplicates: [1, 2, 3, 4, 5]\n"
     ]
    }
   ],
   "source": [
    "# Create a list with duplicates\n",
    "my_list = [1, 2, 2, 3, 4, 4, 5]\n",
    "\n",
    "# Remove duplicates using sets\n",
    "without_duplicates = list(set(my_list))\n",
    "\n",
    "# Print the list without duplicates\n",
    "print(\"List without duplicates:\", without_duplicates)\n"
   ]
  },
  {
   "cell_type": "markdown",
   "id": "632d98a0-710e-4841-9c5b-aaff0ce414ff",
   "metadata": {},
   "source": [
    "44. Check if two sets have the same elements, regardless of their count."
   ]
  },
  {
   "cell_type": "code",
   "execution_count": 6,
   "id": "a7393cee-01ae-4fb1-a227-eb8b5a1536e7",
   "metadata": {},
   "outputs": [
    {
     "name": "stdout",
     "output_type": "stream",
     "text": [
      "The sets are equivalent.\n"
     ]
    }
   ],
   "source": [
    "# Define two sets\n",
    "set1 = {1, 2, 3, 4}\n",
    "set2 = {4, 3, 2, 1}\n",
    "\n",
    "# Check if the sets are equivalent\n",
    "if set1 == set2:\n",
    "    print(\"The sets are equivalent.\")\n",
    "else:\n",
    "    print(\"The sets are not equivalent.\")\n"
   ]
  },
  {
   "cell_type": "markdown",
   "id": "0d33e38e-b9d2-49fa-a9a1-cef83c26052b",
   "metadata": {},
   "source": [
    "45. Create a set of the first `n` powers of 2."
   ]
  },
  {
   "cell_type": "code",
   "execution_count": 7,
   "id": "6e65c944-55f3-470f-9509-24218b8bcb42",
   "metadata": {},
   "outputs": [
    {
     "name": "stdout",
     "output_type": "stream",
     "text": [
      "Set of the first 5 powers of 2: {1, 2, 4, 8, 16}\n"
     ]
    }
   ],
   "source": [
    "# Specify the value of n\n",
    "n = 5  # Change this to the desired number of powers of 2\n",
    "\n",
    "# Create a set to store the powers of 2\n",
    "powers_of_2_set = set()\n",
    "\n",
    "# Generate the first n powers of 2 and add them to the set\n",
    "for i in range(n):\n",
    "    power_of_2 = 2 ** i\n",
    "    powers_of_2_set.add(power_of_2)\n",
    "\n",
    "# Print the resulting set\n",
    "print(\"Set of the first\", n, \"powers of 2:\", powers_of_2_set)\n"
   ]
  },
  {
   "cell_type": "markdown",
   "id": "015ac5a9-23e7-4483-a98e-ccfe38eee314",
   "metadata": {},
   "source": [
    "46. Find the common elements between a set and a list."
   ]
  },
  {
   "cell_type": "code",
   "execution_count": 8,
   "id": "20d257e0-f04d-4335-9d31-0b735bcdafbc",
   "metadata": {},
   "outputs": [
    {
     "name": "stdout",
     "output_type": "stream",
     "text": [
      "Common elements: [3, 4, 5]\n"
     ]
    }
   ],
   "source": [
    "# Define a set and a list\n",
    "my_set = {1, 2, 3, 4, 5}\n",
    "my_list = [3, 4, 5, 6, 7]\n",
    "\n",
    "# Find the common elements using the intersection method\n",
    "common_elements = my_set.intersection(my_list)\n",
    "\n",
    "# Convert the result to a list if needed\n",
    "common_elements_list = list(common_elements)\n",
    "\n",
    "# Print the common elements\n",
    "print(\"Common elements:\", common_elements_list)\n"
   ]
  },
  {
   "cell_type": "markdown",
   "id": "0bb6e9f8-9744-472e-be84-f43f641da23b",
   "metadata": {},
   "source": [
    "47. Create a set of the first `n` triangular numbers."
   ]
  },
  {
   "cell_type": "code",
   "execution_count": 9,
   "id": "37ebe41c-4f29-4861-894b-1163dad22664",
   "metadata": {},
   "outputs": [
    {
     "name": "stdout",
     "output_type": "stream",
     "text": [
      "Set of the first 5 triangular numbers: {1, 3, 6, 10, 15}\n"
     ]
    }
   ],
   "source": [
    "# Specify the value of n\n",
    "n = 5  # Change this to the desired number of triangular numbers\n",
    "\n",
    "# Create a set to store the triangular numbers\n",
    "triangular_numbers_set = set()\n",
    "\n",
    "# Generate the first n triangular numbers and add them to the set\n",
    "triangular_number = 0\n",
    "for i in range(1, n + 1):\n",
    "    triangular_number += i\n",
    "    triangular_numbers_set.add(triangular_number)\n",
    "\n",
    "# Print the resulting set\n",
    "print(\"Set of the first\", n, \"triangular numbers:\", triangular_numbers_set)\n"
   ]
  },
  {
   "cell_type": "markdown",
   "id": "35b73a1e-d9ef-4a68-b54d-43a24d8f3cfb",
   "metadata": {},
   "source": [
    "48. Check if a set contains another set as a subset."
   ]
  },
  {
   "cell_type": "code",
   "execution_count": 10,
   "id": "d683420e-7586-43cf-8381-4089316591d3",
   "metadata": {},
   "outputs": [
    {
     "name": "stdout",
     "output_type": "stream",
     "text": [
      "set2 is a subset of set1\n"
     ]
    }
   ],
   "source": [
    "#first method\n",
    "# Define the sets\n",
    "set1 = {1, 2, 3, 4, 5}\n",
    "set2 = {2, 3}\n",
    "\n",
    "# Check if set2 is a subset of set1\n",
    "if set2.issubset(set1):\n",
    "    print(\"set2 is a subset of set1\")\n",
    "else:\n",
    "    print(\"set2 is not a subset of set1\")\n"
   ]
  },
  {
   "cell_type": "code",
   "execution_count": 16,
   "id": "c3e7c9ea-dd51-4b38-9845-ce43826750de",
   "metadata": {},
   "outputs": [
    {
     "name": "stdout",
     "output_type": "stream",
     "text": [
      "set2 is a subset of set1\n"
     ]
    }
   ],
   "source": [
    "#second method\n",
    "# Define the sets\n",
    "set1 = {1, 2, 3, 4, 5}\n",
    "set2 = {2, 3}\n",
    "\n",
    "# Check if set2 is a subset of set1\n",
    "if set2 <= set1:\n",
    "    print(\"set2 is a subset of set1\")\n",
    "else:\n",
    "    print(\"set2 is not a subset of set1\")\n"
   ]
  },
  {
   "cell_type": "markdown",
   "id": "286bc3d1-ed63-4042-aef7-0678f89ef8d0",
   "metadata": {},
   "source": [
    "49. Create a set of alternating 1s and 0s of length `n`."
   ]
  },
  {
   "cell_type": "code",
   "execution_count": 12,
   "id": "1fccdd48-0a45-4e73-9242-3806600ffd99",
   "metadata": {},
   "outputs": [
    {
     "name": "stdout",
     "output_type": "stream",
     "text": [
      "Set of alternating 1s and 0s: {0, 1}\n"
     ]
    }
   ],
   "source": [
    "# Specify the value of n (length of the set)\n",
    "n = 10  # Change this to the desired length\n",
    "\n",
    "# Create a set to store the alternating 1s and 0s\n",
    "alternating_set = set()\n",
    "\n",
    "# Use a loop to generate the alternating sequence\n",
    "for i in range(n):\n",
    "    alternating_set.add(i % 2)\n",
    "\n",
    "# Print the resulting set\n",
    "print(\"Set of alternating 1s and 0s:\", alternating_set)\n"
   ]
  },
  {
   "cell_type": "markdown",
   "id": "a522791d-bb16-4f48-9994-1de95d65cba1",
   "metadata": {},
   "source": [
    "50. Merge multiple sets into one."
   ]
  },
  {
   "cell_type": "code",
   "execution_count": 13,
   "id": "b4ad64a0-ac2d-4137-86ae-8359da33bb0d",
   "metadata": {},
   "outputs": [
    {
     "name": "stdout",
     "output_type": "stream",
     "text": [
      "Merged set: {1, 2, 3, 4, 5, 6, 7}\n"
     ]
    }
   ],
   "source": [
    "#First method\n",
    "# Define multiple sets\n",
    "set1 = {1, 2, 3}\n",
    "set2 = {3, 4, 5}\n",
    "set3 = {5, 6, 7}\n",
    "\n",
    "# Merge the sets using the union method\n",
    "merged_set = set1.union(set2, set3)\n",
    "\n",
    "# Print the merged set\n",
    "print(\"Merged set:\", merged_set)\n"
   ]
  },
  {
   "cell_type": "code",
   "execution_count": 15,
   "id": "181c1ed2-2242-4f0c-b49c-40cc1cf3a147",
   "metadata": {},
   "outputs": [
    {
     "name": "stdout",
     "output_type": "stream",
     "text": [
      "Merged set: {1, 2, 3, 4, 5, 6, 7}\n"
     ]
    }
   ],
   "source": [
    "#second method\n",
    "# Define multiple sets\n",
    "set1 = {1, 2, 3}\n",
    "set2 = {3, 4, 5}\n",
    "set3 = {5, 6, 7}\n",
    "\n",
    "# Merge the sets using the | operator\n",
    "merged_set = set1 | set2 | set3\n",
    "\n",
    "# Print the merged set\n",
    "print(\"Merged set:\", merged_set)\n"
   ]
  },
  {
   "cell_type": "code",
   "execution_count": null,
   "id": "e3bb2821-49f0-40a1-8903-64365d8bae0a",
   "metadata": {},
   "outputs": [],
   "source": []
  }
 ],
 "metadata": {
  "kernelspec": {
   "display_name": "Python 3 (ipykernel)",
   "language": "python",
   "name": "python3"
  },
  "language_info": {
   "codemirror_mode": {
    "name": "ipython",
    "version": 3
   },
   "file_extension": ".py",
   "mimetype": "text/x-python",
   "name": "python",
   "nbconvert_exporter": "python",
   "pygments_lexer": "ipython3",
   "version": "3.10.8"
  }
 },
 "nbformat": 4,
 "nbformat_minor": 5
}
